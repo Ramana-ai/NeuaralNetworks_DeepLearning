{
 "cells": [
  {
   "cell_type": "markdown",
   "metadata": {
    "id": "T-0zI0-o6ToB"
   },
   "source": [
    "### PART B\n",
    "#### DOMAIN: Autonomous Vehicles\n",
    "####  CONTEXT: A Recognising multi-digit numbers in photographs captured at street level is an important component of modern-day map making. A classic example of a corpus of such street-level photographs is Google’s Street View imagery composed of hundreds of millions of geo-located 360-degree panoramic images. The ability to automatically transcribe an address number from a geo-located patch of pixels and associate the transcribed number with a known street address helps pinpoint, with a high degree of accuracy, the location of the building it represents. More broadly, recognising numbers in photographs is a problem of interest to the optical character recognition community. While OCR on constrained domains like document processing is well studied, arbitrary multi-character text recognition in photographs is still highly challenging. This difficulty arises due to the wide variability in the visual appearance of text in the wild on account of a large range of fonts, colours, styles, orientations, and character arrangements. The recognition problem is further complicated by environmental factors such as lighting, shadows, specularity, and occlusions as well as by image acquisition factors such as resolution, motion, and focus blurs. In this project, we will use the dataset with images centred around a single digit (many of the images do contain some distractors at the sides). Although we are taking a sample of the data which is simpler, it is more complex than MNIST because of the distractors.\n",
    "\n",
    "#### DATA DESCRIPTION: The SVHN is a real-world image dataset for developing machine learning and object recognition algorithms with the minimal requirement on data formatting but comes from a significantly harder, unsolved, real-world problem (recognising digits and numbers in natural scene images). SVHN is obtained from house numbers in Google Street View images.\n",
    "\n",
    "#### Where the labels for each of this image are the prominent number in that image i.e. 2,6,7 and 4 respectively.The dataset has been provided in the form of h5py files. You can read about this file format here: https://docs.h5py.org/en/stable/ Acknowledgement: Yuval Netzer, Tao Wang, Adam Coates, Alessandro Bissacco, Bo Wu, Andrew Y. Ng Reading Digits in Natural Images with Unsupervised Feature Learning NIPS Workshop on Deep Learning and Unsupervised Feature Learning 2011. PDF http://ufldl.stanford.edu/housenumbers as the URL for this site.\n",
    "\n",
    "#### PROJECT OBJECTIVE:\n",
    "- To build a digit classifier on the SVHN (Street View Housing Number) dataset."
   ]
  },
  {
   "cell_type": "markdown",
   "metadata": {
    "id": "yT3Yzm0u66rA"
   },
   "source": [
    "#### 1. Data Import and Exploration.\n",
    "- Q1A: Read the .h5 file and assign to a variable"
   ]
  },
  {
   "cell_type": "code",
   "execution_count": 2,
   "metadata": {
    "colab": {
     "base_uri": "https://localhost:8080/"
    },
    "executionInfo": {
     "elapsed": 23299,
     "status": "ok",
     "timestamp": 1714725713389,
     "user": {
      "displayName": "Ramana Reddy",
      "userId": "14322252769386133087"
     },
     "user_tz": -330
    },
    "id": "KQp8_yi99Xlr",
    "outputId": "1e66a6c9-2b02-47a6-e000-655bbc31aacc"
   },
   "outputs": [
    {
     "name": "stdout",
     "output_type": "stream",
     "text": [
      "Requirement already satisfied: keras==2.15.0 in /usr/local/lib/python3.10/dist-packages (2.15.0)\n",
      "Collecting scikeras\n",
      "  Downloading scikeras-0.13.0-py3-none-any.whl (26 kB)\n",
      "Collecting keras>=3.2.0 (from scikeras)\n",
      "  Downloading keras-3.3.3-py3-none-any.whl (1.1 MB)\n",
      "\u001b[2K     \u001b[90m━━━━━━━━━━━━━━━━━━━━━━━━━━━━━━━━━━━━━━━━\u001b[0m \u001b[32m1.1/1.1 MB\u001b[0m \u001b[31m21.7 MB/s\u001b[0m eta \u001b[36m0:00:00\u001b[0m\n",
      "\u001b[?25hCollecting scikit-learn>=1.4.2 (from scikeras)\n",
      "  Downloading scikit_learn-1.4.2-cp310-cp310-manylinux_2_17_x86_64.manylinux2014_x86_64.whl (12.1 MB)\n",
      "\u001b[2K     \u001b[90m━━━━━━━━━━━━━━━━━━━━━━━━━━━━━━━━━━━━━━━━\u001b[0m \u001b[32m12.1/12.1 MB\u001b[0m \u001b[31m71.5 MB/s\u001b[0m eta \u001b[36m0:00:00\u001b[0m\n",
      "\u001b[?25hRequirement already satisfied: absl-py in /usr/local/lib/python3.10/dist-packages (from keras>=3.2.0->scikeras) (1.4.0)\n",
      "Requirement already satisfied: numpy in /usr/local/lib/python3.10/dist-packages (from keras>=3.2.0->scikeras) (1.25.2)\n",
      "Requirement already satisfied: rich in /usr/local/lib/python3.10/dist-packages (from keras>=3.2.0->scikeras) (13.7.1)\n",
      "Collecting namex (from keras>=3.2.0->scikeras)\n",
      "  Downloading namex-0.0.8-py3-none-any.whl (5.8 kB)\n",
      "Requirement already satisfied: h5py in /usr/local/lib/python3.10/dist-packages (from keras>=3.2.0->scikeras) (3.9.0)\n",
      "Collecting optree (from keras>=3.2.0->scikeras)\n",
      "  Downloading optree-0.11.0-cp310-cp310-manylinux_2_17_x86_64.manylinux2014_x86_64.whl (311 kB)\n",
      "\u001b[2K     \u001b[90m━━━━━━━━━━━━━━━━━━━━━━━━━━━━━━━━━━━━━━━━\u001b[0m \u001b[32m311.2/311.2 kB\u001b[0m \u001b[31m28.1 MB/s\u001b[0m eta \u001b[36m0:00:00\u001b[0m\n",
      "\u001b[?25hRequirement already satisfied: ml-dtypes in /usr/local/lib/python3.10/dist-packages (from keras>=3.2.0->scikeras) (0.2.0)\n",
      "Requirement already satisfied: scipy>=1.6.0 in /usr/local/lib/python3.10/dist-packages (from scikit-learn>=1.4.2->scikeras) (1.11.4)\n",
      "Requirement already satisfied: joblib>=1.2.0 in /usr/local/lib/python3.10/dist-packages (from scikit-learn>=1.4.2->scikeras) (1.4.0)\n",
      "Requirement already satisfied: threadpoolctl>=2.0.0 in /usr/local/lib/python3.10/dist-packages (from scikit-learn>=1.4.2->scikeras) (3.5.0)\n",
      "Requirement already satisfied: typing-extensions>=4.0.0 in /usr/local/lib/python3.10/dist-packages (from optree->keras>=3.2.0->scikeras) (4.11.0)\n",
      "Requirement already satisfied: markdown-it-py>=2.2.0 in /usr/local/lib/python3.10/dist-packages (from rich->keras>=3.2.0->scikeras) (3.0.0)\n",
      "Requirement already satisfied: pygments<3.0.0,>=2.13.0 in /usr/local/lib/python3.10/dist-packages (from rich->keras>=3.2.0->scikeras) (2.16.1)\n",
      "Requirement already satisfied: mdurl~=0.1 in /usr/local/lib/python3.10/dist-packages (from markdown-it-py>=2.2.0->rich->keras>=3.2.0->scikeras) (0.1.2)\n",
      "Installing collected packages: namex, optree, scikit-learn, keras, scikeras\n",
      "  Attempting uninstall: scikit-learn\n",
      "    Found existing installation: scikit-learn 1.2.2\n",
      "    Uninstalling scikit-learn-1.2.2:\n",
      "      Successfully uninstalled scikit-learn-1.2.2\n",
      "  Attempting uninstall: keras\n",
      "    Found existing installation: keras 2.15.0\n",
      "    Uninstalling keras-2.15.0:\n",
      "      Successfully uninstalled keras-2.15.0\n",
      "\u001b[31mERROR: pip's dependency resolver does not currently take into account all the packages that are installed. This behaviour is the source of the following dependency conflicts.\n",
      "tensorflow 2.15.0 requires keras<2.16,>=2.15.0, but you have keras 3.3.3 which is incompatible.\u001b[0m\u001b[31m\n",
      "\u001b[0mSuccessfully installed keras-3.3.3 namex-0.0.8 optree-0.11.0 scikeras-0.13.0 scikit-learn-1.4.2\n"
     ]
    }
   ],
   "source": [
    "!pip install keras==2.15.0\n",
    "!pip install scikeras"
   ]
  },
  {
   "cell_type": "code",
   "execution_count": 3,
   "metadata": {
    "colab": {
     "base_uri": "https://localhost:8080/"
    },
    "executionInfo": {
     "elapsed": 5246,
     "status": "ok",
     "timestamp": 1714725718632,
     "user": {
      "displayName": "Ramana Reddy",
      "userId": "14322252769386133087"
     },
     "user_tz": -330
    },
    "id": "L-NKPI7C9rzC",
    "outputId": "4ae47491-e273-490a-fcea-371ea9c0f203"
   },
   "outputs": [
    {
     "name": "stdout",
     "output_type": "stream",
     "text": [
      "2.15.0\n"
     ]
    }
   ],
   "source": [
    "import tensorflow as tf\n",
    "print(tf.__version__)"
   ]
  },
  {
   "cell_type": "code",
   "execution_count": 4,
   "metadata": {
    "executionInfo": {
     "elapsed": 1083,
     "status": "ok",
     "timestamp": 1714725719712,
     "user": {
      "displayName": "Ramana Reddy",
      "userId": "14322252769386133087"
     },
     "user_tz": -330
    },
    "id": "vVNdV7xn9PU_"
   },
   "outputs": [],
   "source": [
    "import pandas as pd\n",
    "import numpy as np\n",
    "from sklearn.model_selection import train_test_split\n",
    "from sklearn.preprocessing import LabelEncoder, OneHotEncoder\n",
    "from sklearn import model_selection\n",
    "from sklearn.compose import ColumnTransformer\n",
    "import matplotlib.pyplot as plt\n",
    "import seaborn as sns\n",
    "from sklearn.impute import SimpleImputer\n",
    "import warnings\n",
    "from sklearn.metrics import confusion_matrix\n",
    "from sklearn.pipeline import Pipeline\n",
    "from sklearn.model_selection import GridSearchCV\n",
    "from sklearn.model_selection import RandomizedSearchCV\n",
    "from tensorflow.keras.models import Sequential\n",
    "from tensorflow.keras.layers import Dense\n",
    "from tensorflow.keras.layers import Dense, Input, Dropout,BatchNormalization\n",
    "#from tensorflow.keras.wrappers.scikit_learn import KerasClassifier\n",
    "from scikeras.wrappers import KerasClassifier\n",
    "import random\n",
    "from tensorflow.keras import backend\n",
    "random.seed(1)\n",
    "np.random.seed(1)\n",
    "tf.random.set_seed(1)\n",
    "warnings.filterwarnings(\"ignore\")"
   ]
  },
  {
   "cell_type": "code",
   "execution_count": 5,
   "metadata": {
    "colab": {
     "base_uri": "https://localhost:8080/"
    },
    "executionInfo": {
     "elapsed": 8873,
     "status": "ok",
     "timestamp": 1714725763355,
     "user": {
      "displayName": "Ramana Reddy",
      "userId": "14322252769386133087"
     },
     "user_tz": -330
    },
    "id": "cJsqG3mz-NPt",
    "outputId": "a7059d45-7bdd-4ca1-ab7b-cc8bb7e70ea5"
   },
   "outputs": [
    {
     "name": "stdout",
     "output_type": "stream",
     "text": [
      "Requirement already satisfied: h5py in /usr/local/lib/python3.10/dist-packages (3.9.0)\n",
      "Requirement already satisfied: numpy>=1.17.3 in /usr/local/lib/python3.10/dist-packages (from h5py) (1.25.2)\n"
     ]
    }
   ],
   "source": [
    "!pip install h5py\n",
    "import h5py"
   ]
  },
  {
   "cell_type": "code",
   "execution_count": 6,
   "metadata": {
    "executionInfo": {
     "elapsed": 1,
     "status": "ok",
     "timestamp": 1714725767421,
     "user": {
      "displayName": "Ramana Reddy",
      "userId": "14322252769386133087"
     },
     "user_tz": -330
    },
    "id": "JNxmE5149Cex"
   },
   "outputs": [],
   "source": [
    "#Open the file as readonly\n",
    "data=h5py.File('/content/drive/MyDrive/AIML_Program/Neaural Networks/Project/Autonomous_Vehicles_SVHN_single_grey1.h5')"
   ]
  },
  {
   "cell_type": "markdown",
   "metadata": {
    "id": "028ARPbP-Ua5"
   },
   "source": [
    "#### Q1B: Print all the keys from the .h5 file"
   ]
  },
  {
   "cell_type": "code",
   "execution_count": 7,
   "metadata": {
    "colab": {
     "base_uri": "https://localhost:8080/"
    },
    "executionInfo": {
     "elapsed": 2,
     "status": "ok",
     "timestamp": 1714725768555,
     "user": {
      "displayName": "Ramana Reddy",
      "userId": "14322252769386133087"
     },
     "user_tz": -330
    },
    "id": "Uo3jy22d9lpS",
    "outputId": "d99c699b-5900-4745-8a10-f99f3ca0e37b"
   },
   "outputs": [
    {
     "data": {
      "text/plain": [
       "<KeysViewHDF5 ['X_test', 'X_train', 'X_val', 'y_test', 'y_train', 'y_val']>"
      ]
     },
     "execution_count": 7,
     "metadata": {},
     "output_type": "execute_result"
    }
   ],
   "source": [
    "data.keys()"
   ]
  },
  {
   "cell_type": "markdown",
   "metadata": {
    "id": "iqXNRRPh9pWy"
   },
   "source": [
    "#### Q1C: Split the data into X_train, X_test, Y_train, Y_test"
   ]
  },
  {
   "cell_type": "code",
   "execution_count": 8,
   "metadata": {
    "executionInfo": {
     "elapsed": 8608,
     "status": "ok",
     "timestamp": 1714725780024,
     "user": {
      "displayName": "Ramana Reddy",
      "userId": "14322252769386133087"
     },
     "user_tz": -330
    },
    "id": "L8km-8ho-W3o"
   },
   "outputs": [],
   "source": [
    "#Load the training, testing, and validation data\n",
    "X_train=data['X_train'][:]\n",
    "X_test=data['X_test'][:]\n",
    "y_train=data['y_train'][:]\n",
    "y_test=data['y_test'][:]\n",
    "X_val=data['X_val'][:]\n",
    "y_val=data['y_val'][:]"
   ]
  },
  {
   "cell_type": "markdown",
   "metadata": {
    "id": "IN-EGHkh-k_-"
   },
   "source": [
    "#### 2: . Data Visualisation and preprocessin.\n",
    "- Q2A: Print shape of all the 4 data split into x, y, train, test to verify if x & y is in sync."
   ]
  },
  {
   "cell_type": "code",
   "execution_count": 9,
   "metadata": {
    "colab": {
     "base_uri": "https://localhost:8080/"
    },
    "executionInfo": {
     "elapsed": 398,
     "status": "ok",
     "timestamp": 1714725783352,
     "user": {
      "displayName": "Ramana Reddy",
      "userId": "14322252769386133087"
     },
     "user_tz": -330
    },
    "id": "6c8zEk-2-4Qa",
    "outputId": "94099da6-d414-4bf3-eb55-e577bcae22e7"
   },
   "outputs": [
    {
     "name": "stdout",
     "output_type": "stream",
     "text": [
      "Training data X-- Shape : (42000, 32, 32) and Data Type :  float32\n",
      "Testing data X-- Shape : (18000, 32, 32) and Data Type :  float32\n",
      "Validation data X-- Shape : (60000, 32, 32) and Data Type :  float32\n",
      "Training data y-- Shape : (42000,) and Data Type :  uint8\n",
      "Testing data y-- Shape : (18000,) and Data Type :  uint8\n",
      "Validation data y-- Shape : (60000,) and Data Type :  uint8\n"
     ]
    }
   ],
   "source": [
    "# Printing the shape and data type of training, testing, and validation data\n",
    "print(\"Training data X-- Shape :\", X_train.shape,\"and Data Type : \", X_train.dtype)\n",
    "print(\"Testing data X-- Shape :\", X_test.shape,\"and Data Type : \", X_test.dtype)\n",
    "print(\"Validation data X-- Shape :\", X_val.shape,\"and Data Type : \", X_val.dtype)\n",
    "print(\"Training data y-- Shape :\", y_train.shape,\"and Data Type : \", y_train.dtype)\n",
    "print(\"Testing data y-- Shape :\", y_test.shape,\"and Data Type : \", y_test.dtype)\n",
    "print(\"Validation data y-- Shape :\", y_val.shape,\"and Data Type : \", y_val.dtype)"
   ]
  },
  {
   "cell_type": "markdown",
   "metadata": {
    "id": "vbQR1ik_BzHE"
   },
   "source": [
    "Training, Test and Validation datasets are in sync as can be seen from above shape info where Train/Test combined have 60000 records and Validation dataset matches to these records."
   ]
  },
  {
   "cell_type": "markdown",
   "metadata": {
    "id": "LalBAXFxCzwZ"
   },
   "source": [
    "#### 2B:  Visualise first 10 images in train data and print its corresponding label."
   ]
  },
  {
   "cell_type": "code",
   "execution_count": 10,
   "metadata": {
    "colab": {
     "base_uri": "https://localhost:8080/",
     "height": 119
    },
    "executionInfo": {
     "elapsed": 2284,
     "status": "ok",
     "timestamp": 1714725789634,
     "user": {
      "displayName": "Ramana Reddy",
      "userId": "14322252769386133087"
     },
     "user_tz": -330
    },
    "id": "e0j5CFAFC9nz",
    "outputId": "2d94b335-a7c5-430a-d6f9-7530785d1bba"
   },
   "outputs": [
    {
     "data": {
      "image/png": "[encoded data removed]",
      "text/plain": [
       "<Figure size 1000x100 with 10 Axes>"
      ]
     },
     "metadata": {},
     "output_type": "display_data"
    },
    {
     "name": "stdout",
     "output_type": "stream",
     "text": [
      "label for each of the above image: [2 6 7 4 4 0 3 0 7 3]\n"
     ]
    }
   ],
   "source": [
    "# visualizing the first 10 images in the train dataset and their labels\n",
    "%matplotlib inline\n",
    "import matplotlib.pyplot as plt\n",
    "plt.figure(figsize=(10, 1))\n",
    "for i in range(10):\n",
    "    plt.subplot(1, 10, i+1)\n",
    "    plt.imshow(X_train[i].reshape(32,32),cmap='gray')\n",
    "    plt.axis('off')\n",
    "plt.show()\n",
    "print('label for each of the above image: %s' % (y_train[0:10]))"
   ]
  },
  {
   "cell_type": "code",
   "execution_count": 11,
   "metadata": {
    "colab": {
     "base_uri": "https://localhost:8080/",
     "height": 119
    },
    "executionInfo": {
     "elapsed": 1254,
     "status": "ok",
     "timestamp": 1714725792450,
     "user": {
      "displayName": "Ramana Reddy",
      "userId": "14322252769386133087"
     },
     "user_tz": -330
    },
    "id": "hX1-b7-AEGt9",
    "outputId": "7ab23ebb-4cde-49c7-d3ce-78eb65329044"
   },
   "outputs": [
    {
     "data": {
      "image/png": "[encoded data removed]",
      "text/plain": [
       "<Figure size 1000x100 with 10 Axes>"
      ]
     },
     "metadata": {},
     "output_type": "display_data"
    },
    {
     "name": "stdout",
     "output_type": "stream",
     "text": [
      "label for each of the above image: [1 7 2 9 0 9 1 8 4 4]\n"
     ]
    }
   ],
   "source": [
    "# visualizing the first 10 images in the test dataset and their labels\n",
    "%matplotlib inline\n",
    "import matplotlib.pyplot as plt\n",
    "plt.figure(figsize=(10, 1))\n",
    "for i in range(10):\n",
    "    plt.subplot(1, 10, i+1)\n",
    "    plt.imshow(X_test[i].reshape(32,32),cmap='gray')\n",
    "    plt.axis('off')\n",
    "plt.show()\n",
    "print('label for each of the above image: %s' % (y_test[0:10]))"
   ]
  },
  {
   "cell_type": "markdown",
   "metadata": {
    "id": "4-NftfstEdcA"
   },
   "source": [
    "#### Q2C: . Reshape all the images with appropriate shape update the data in same variable."
   ]
  },
  {
   "cell_type": "code",
   "execution_count": 12,
   "metadata": {
    "executionInfo": {
     "elapsed": 1,
     "status": "ok",
     "timestamp": 1714725793318,
     "user": {
      "displayName": "Ramana Reddy",
      "userId": "14322252769386133087"
     },
     "user_tz": -330
    },
    "id": "WN2dwkhoIRKb"
   },
   "outputs": [],
   "source": [
    "#Importing Libraries\n",
    "import tensorflow\n",
    "import h5py\n",
    "import matplotlib.pyplot as plt\n",
    "import numpy as np\n",
    "from tensorflow.keras.layers import Dense, Reshape, BatchNormalization, Dropout\n",
    "from tensorflow.keras.models import Sequential\n",
    "from tensorflow.keras import regularizers, optimizers\n",
    "import math"
   ]
  },
  {
   "cell_type": "code",
   "execution_count": 13,
   "metadata": {
    "colab": {
     "base_uri": "https://localhost:8080/"
    },
    "executionInfo": {
     "elapsed": 3,
     "status": "ok",
     "timestamp": 1714725794615,
     "user": {
      "displayName": "Ramana Reddy",
      "userId": "14322252769386133087"
     },
     "user_tz": -330
    },
    "id": "09owxFrVEv_-",
    "outputId": "953a4a90-b2fe-4ecf-8c0d-43582165fd5a"
   },
   "outputs": [
    {
     "name": "stdout",
     "output_type": "stream",
     "text": [
      "Shape of X_train is (42000, 1024)\n",
      "Shape of X_val is (60000, 1024)\n",
      "Shape of X_test is (18000, 1024)\n"
     ]
    }
   ],
   "source": [
    "# RESHAPE 2D - 32*32 into 1D - 1024\n",
    "X_train = X_train.reshape(X_train.shape[0], 32*32)\n",
    "X_val= X_val.reshape(X_val.shape[0], 32*32)\n",
    "X_test = X_test.reshape(X_test.shape[0],32*32)\n",
    "\n",
    "print(f'Shape of X_train is {X_train.shape}')\n",
    "print(f'Shape of X_val is {X_val.shape}')\n",
    "print(f'Shape of X_test is {X_test.shape}')"
   ]
  },
  {
   "cell_type": "markdown",
   "metadata": {
    "id": "01NjuyBFFtIz"
   },
   "source": [
    "#### Q2D: Normalise the images (Normalise the pixel values)."
   ]
  },
  {
   "cell_type": "code",
   "execution_count": 14,
   "metadata": {
    "colab": {
     "base_uri": "https://localhost:8080/"
    },
    "executionInfo": {
     "elapsed": 617,
     "status": "ok",
     "timestamp": 1714725796675,
     "user": {
      "displayName": "Ramana Reddy",
      "userId": "14322252769386133087"
     },
     "user_tz": -330
    },
    "id": "flwHBoeXbKxZ",
    "outputId": "53ae753a-cf4e-420f-971a-d5710dcdfc45"
   },
   "outputs": [
    {
     "name": "stdout",
     "output_type": "stream",
     "text": [
      "Before Normalization\n",
      "Min value is 0.0\n",
      "Max value is 254.97450256347656\n",
      "\n",
      "After Normalization\n",
      "Min value is 0.0\n",
      "Max value is 1.0\n"
     ]
    }
   ],
   "source": [
    "import math\n",
    "print('Before Normalization')\n",
    "print(f'Min value is {X_train.min()}')\n",
    "print(f'Max value is {X_train.max()}\\n')\n",
    "maxVal=X_train.max()\n",
    "X_train = X_train/maxVal\n",
    "X_val= X_val/maxVal\n",
    "X_test = X_test/maxVal\n",
    "\n",
    "print('After Normalization')\n",
    "print(f'Min value is {X_train.min()}')\n",
    "print(f'Max value is {X_train.max()}')"
   ]
  },
  {
   "cell_type": "markdown",
   "metadata": {
    "id": "zRlj858fcQp9"
   },
   "source": [
    "#### Q2E: Transform Labels into format acceptable by Neural Network."
   ]
  },
  {
   "cell_type": "code",
   "execution_count": 15,
   "metadata": {
    "colab": {
     "base_uri": "https://localhost:8080/"
    },
    "executionInfo": {
     "elapsed": 2,
     "status": "ok",
     "timestamp": 1714725798236,
     "user": {
      "displayName": "Ramana Reddy",
      "userId": "14322252769386133087"
     },
     "user_tz": -330
    },
    "id": "9x8mz3C_dqpX",
    "outputId": "7d0adb6c-9ed2-48e7-fbcd-65fb259f5e10"
   },
   "outputs": [
    {
     "name": "stdout",
     "output_type": "stream",
     "text": [
      "Train value before one hot encode 2\n",
      "\n",
      "Test value before one hot encode 1\n",
      "\n",
      "Validation set value before one hot encode 0\n",
      "\n",
      "Train value after one hot encode [0. 0. 1. 0. 0. 0. 0. 0. 0. 0.]\n",
      "\n",
      "Test value after one hot encode [0. 1. 0. 0. 0. 0. 0. 0. 0. 0.]\n",
      "\n",
      "Validation set after one hot encode [1. 0. 0. 0. 0. 0. 0. 0. 0. 0.]\n",
      "\n"
     ]
    }
   ],
   "source": [
    "#One hot encode the labels for Train,Test, Val data.\n",
    "print(f'Train value before one hot encode {y_train[0]}\\n')\n",
    "print(f'Test value before one hot encode {y_test[0]}\\n')\n",
    "print(f'Validation set value before one hot encode {y_val[0]}\\n')\n",
    "y_train = tensorflow.keras.utils.to_categorical(y_train,num_classes=10)\n",
    "y_val= tensorflow.keras.utils.to_categorical(y_val,num_classes=10)\n",
    "y_test= tensorflow.keras.utils.to_categorical(y_test, num_classes=10)\n",
    "print(f'Train value after one hot encode {y_train[0]}\\n')\n",
    "print(f'Test value after one hot encode {y_test[0]}\\n')\n",
    "print(f'Validation set after one hot encode {y_val[0]}\\n')"
   ]
  },
  {
   "cell_type": "markdown",
   "metadata": {
    "id": "euhV0yWhdVGf"
   },
   "source": [
    "#### 2QF: Print total Number of classes in the Dataset."
   ]
  },
  {
   "cell_type": "code",
   "execution_count": 19,
   "metadata": {
    "colab": {
     "base_uri": "https://localhost:8080/"
    },
    "executionInfo": {
     "elapsed": 437,
     "status": "ok",
     "timestamp": 1714726252351,
     "user": {
      "displayName": "Ramana Reddy",
      "userId": "14322252769386133087"
     },
     "user_tz": -330
    },
    "id": "OV0Hi3l7nUX7",
    "outputId": "11295d2a-6e66-4c4c-c702-da398cbda8d1"
   },
   "outputs": [
    {
     "name": "stdout",
     "output_type": "stream",
     "text": [
      "Training set (42000, 10)\n",
      "Test set (18000, 10)\n",
      "Training set (60000, 10)\n"
     ]
    }
   ],
   "source": [
    "print(\"Training set\", y_train.shape)\n",
    "print(\"Test set\", y_test.shape)\n",
    "print(\"Training set\", y_val.shape)"
   ]
  },
  {
   "cell_type": "code",
   "execution_count": 15,
   "metadata": {
    "colab": {
     "base_uri": "https://localhost:8080/",
     "height": 304
    },
    "executionInfo": {
     "elapsed": 973,
     "status": "ok",
     "timestamp": 1714709125498,
     "user": {
      "displayName": "Ramana Reddy",
      "userId": "14322252769386133087"
     },
     "user_tz": -330
    },
    "id": "g08gO1Ygdhd6",
    "outputId": "a4bb18f6-8490-47a5-d52c-69e9036ad8eb"
   },
   "outputs": [
    {
     "name": "stdout",
     "output_type": "stream",
     "text": [
      "y train Label for image at index 1 is 2\n",
      "y train Label for image at index 2 is 6\n",
      "y train Label for image at index 3 is 7\n",
      "y train Label for image at index 4 is 4\n",
      "y train Label for image at index 5 is 4\n",
      "y train Label for image at index 6 is 0\n",
      "y train Label for image at index 7 is 3\n",
      "y train Label for image at index 8 is 0\n",
      "y train Label for image at index 9 is 7\n",
      "y train Label for image at index 10 is 3\n"
     ]
    },
    {
     "data": {
      "image/png": "[encoded data removed]",
      "text/plain": [
       "<Figure size 1000x100 with 10 Axes>"
      ]
     },
     "metadata": {},
     "output_type": "display_data"
    }
   ],
   "source": [
    "#cross check number of classes in a datset.\n",
    "plt.figure(figsize=(10,1))\n",
    "for i in range(10):\n",
    "    plt.subplot(1,10,i+1)\n",
    "    plt.imshow(X_train[i].reshape(32,32),cmap='gray')\n",
    "    print(f'y train Label for image at index {i+1} is {np.argmax(y_train[0:10][i])}')"
   ]
  },
  {
   "cell_type": "code",
   "execution_count": null,
   "metadata": {
    "id": "mZsfh-_4nPbl"
   },
   "outputs": [],
   "source": []
  },
  {
   "cell_type": "code",
   "execution_count": 16,
   "metadata": {
    "colab": {
     "base_uri": "https://localhost:8080/",
     "height": 304
    },
    "executionInfo": {
     "elapsed": 959,
     "status": "ok",
     "timestamp": 1714709126451,
     "user": {
      "displayName": "Ramana Reddy",
      "userId": "14322252769386133087"
     },
     "user_tz": -330
    },
    "id": "CzTWOZJvf1r0",
    "outputId": "8884563f-44cd-4b9f-e2bb-36891651ec72"
   },
   "outputs": [
    {
     "name": "stdout",
     "output_type": "stream",
     "text": [
      "y test Label for image at index 1 is 1\n",
      "y test Label for image at index 2 is 7\n",
      "y test Label for image at index 3 is 2\n",
      "y test Label for image at index 4 is 9\n",
      "y test Label for image at index 5 is 0\n",
      "y test Label for image at index 6 is 9\n",
      "y test Label for image at index 7 is 1\n",
      "y test Label for image at index 8 is 8\n",
      "y test Label for image at index 9 is 4\n",
      "y test Label for image at index 10 is 4\n"
     ]
    },
    {
     "data": {
      "image/png": "[encoded data removed]",
      "text/plain": [
       "<Figure size 1000x100 with 10 Axes>"
      ]
     },
     "metadata": {},
     "output_type": "display_data"
    }
   ],
   "source": [
    "#cross check number of classes in a datset.\n",
    "plt.figure(figsize=(10,1))\n",
    "for i in range(10):\n",
    "    plt.subplot(1,10,i+1)\n",
    "    plt.imshow(X_test[i].reshape(32,32),cmap='gray')\n",
    "    print(f'y test Label for image at index {i+1} is {np.argmax(y_test[0:10][i])}')"
   ]
  },
  {
   "cell_type": "code",
   "execution_count": 17,
   "metadata": {
    "colab": {
     "base_uri": "https://localhost:8080/",
     "height": 304
    },
    "executionInfo": {
     "elapsed": 735,
     "status": "ok",
     "timestamp": 1714709127181,
     "user": {
      "displayName": "Ramana Reddy",
      "userId": "14322252769386133087"
     },
     "user_tz": -330
    },
    "id": "bbpYiha6gL0e",
    "outputId": "af5c2540-e5f6-446d-d095-efc433875bab"
   },
   "outputs": [
    {
     "name": "stdout",
     "output_type": "stream",
     "text": [
      "y val Label for image at index 1 is 0\n",
      "y val Label for image at index 2 is 0\n",
      "y val Label for image at index 3 is 0\n",
      "y val Label for image at index 4 is 0\n",
      "y val Label for image at index 5 is 0\n",
      "y val Label for image at index 6 is 0\n",
      "y val Label for image at index 7 is 0\n",
      "y val Label for image at index 8 is 0\n",
      "y val Label for image at index 9 is 0\n",
      "y val Label for image at index 10 is 0\n"
     ]
    },
    {
     "data": {
      "image/png": "[encoded data removed]",
      "text/plain": [
       "<Figure size 1000x100 with 10 Axes>"
      ]
     },
     "metadata": {},
     "output_type": "display_data"
    }
   ],
   "source": [
    "#cross check number of classes in a datset.\n",
    "plt.figure(figsize=(10,1))\n",
    "for i in range(10):\n",
    "    plt.subplot(1,10,i+1)\n",
    "    plt.imshow(X_val[i].reshape(32,32),cmap='gray')\n",
    "    print(f'y val Label for image at index {i+1} is {np.argmax(y_val[0:10][i])}')"
   ]
  },
  {
   "cell_type": "markdown",
   "metadata": {
    "id": "QOti-eF5hpKd"
   },
   "source": [
    "### 3:Model Training & Evaluation using Neural Network.\n",
    "#### Q3A: Design a Neural Network to train a classifier"
   ]
  },
  {
   "cell_type": "code",
   "execution_count": 18,
   "metadata": {
    "executionInfo": {
     "elapsed": 3,
     "status": "ok",
     "timestamp": 1714709127181,
     "user": {
      "displayName": "Ramana Reddy",
      "userId": "14322252769386133087"
     },
     "user_tz": -330
    },
    "id": "Wxe9Z2BFmE_s"
   },
   "outputs": [],
   "source": [
    "# define model\n",
    "\n",
    "from tensorflow.keras import losses\n",
    "from tensorflow.keras import optimizers\n",
    "from tensorflow.keras import Sequential\n",
    "from tensorflow.keras.layers import Dense\n",
    "\n",
    "##Initialize the Artificial Neural Network Classifier\n",
    "keras_model = Sequential()"
   ]
  },
  {
   "cell_type": "code",
   "execution_count": 19,
   "metadata": {
    "executionInfo": {
     "elapsed": 859,
     "status": "ok",
     "timestamp": 1714709128037,
     "user": {
      "displayName": "Ramana Reddy",
      "userId": "14322252769386133087"
     },
     "user_tz": -330
    },
    "id": "fN3lxyuHtIcZ"
   },
   "outputs": [],
   "source": [
    "# Input Layer\n",
    "#Adding Input layer and activation functions ReLU\n",
    "keras_model.add(Dense(512, activation='relu', kernel_initializer='he_normal',input_shape = (1024, )))\n",
    "\n",
    "#Hidden Layer 1\n",
    "#Adding first Hidden layer\n",
    "keras_model.add(Dense(256, activation='relu', kernel_initializer='he_normal'))\n",
    "\n",
    "#Hidden Layer 2\n",
    "#Adding second Hidden layer\n",
    "keras_model.add(Dense(128, activation='relu', kernel_initializer='he_normal'))\n",
    "\n",
    "#Hidden Layer 3\n",
    "#Adding third Hidden layer\n",
    "keras_model.add(Dense(64, activation='relu', kernel_initializer='he_normal'))\n",
    "\n",
    "#Hidden Layer 4\n",
    "#Adding fourth Hidden layer\n",
    "keras_model.add(Dense(32, activation='relu', kernel_initializer='he_normal'))\n",
    "\n",
    "# Output Layer\n",
    "#Adding output layer which is of 10 nodes (digits)\n",
    "keras_model.add(Dense(10, activation='softmax'))\n",
    "#Adding Activation function\n",
    "# Here, we are using softmax function because we have multiclass classsification"
   ]
  },
  {
   "cell_type": "code",
   "execution_count": 20,
   "metadata": {
    "colab": {
     "base_uri": "https://localhost:8080/",
     "height": 321
    },
    "executionInfo": {
     "elapsed": 6,
     "status": "ok",
     "timestamp": 1714709128038,
     "user": {
      "displayName": "Ramana Reddy",
      "userId": "14322252769386133087"
     },
     "user_tz": -330
    },
    "id": "SooNnF0Xt64y",
    "outputId": "b9b11ac5-a33a-4e22-96e7-42250a957fdd"
   },
   "outputs": [
    {
     "data": {
      "text/html": [
       "<pre style=\"white-space:pre;overflow-x:auto;line-height:normal;font-family:Menlo,'DejaVu Sans Mono',consolas,'Courier New',monospace\"><span style=\"font-weight: bold\">Model: \"sequential\"</span>\n",
       "</pre>\n"
      ],
      "text/plain": [
       "\u001b[1mModel: \"sequential\"\u001b[0m\n"
      ]
     },
     "metadata": {},
     "output_type": "display_data"
    },
    {
     "data": {
      "text/html": [
       "<pre style=\"white-space:pre;overflow-x:auto;line-height:normal;font-family:Menlo,'DejaVu Sans Mono',consolas,'Courier New',monospace\">┏━━━━━━━━━━━━━━━━━━━━━━━━━━━━━━━━━━━━━━┳━━━━━━━━━━━━━━━━━━━━━━━━━━━━━┳━━━━━━━━━━━━━━━━━┓\n",
       "┃<span style=\"font-weight: bold\"> Layer (type)                         </span>┃<span style=\"font-weight: bold\"> Output Shape                </span>┃<span style=\"font-weight: bold\">         Param # </span>┃\n",
       "┡━━━━━━━━━━━━━━━━━━━━━━━━━━━━━━━━━━━━━━╇━━━━━━━━━━━━━━━━━━━━━━━━━━━━━╇━━━━━━━━━━━━━━━━━┩\n",
       "│ dense (<span style=\"color: #0087ff; text-decoration-color: #0087ff\">Dense</span>)                        │ (<span style=\"color: #00d7ff; text-decoration-color: #00d7ff\">None</span>, <span style=\"color: #00af00; text-decoration-color: #00af00\">512</span>)                 │         <span style=\"color: #00af00; text-decoration-color: #00af00\">524,800</span> │\n",
       "├──────────────────────────────────────┼─────────────────────────────┼─────────────────┤\n",
       "│ dense_1 (<span style=\"color: #0087ff; text-decoration-color: #0087ff\">Dense</span>)                      │ (<span style=\"color: #00d7ff; text-decoration-color: #00d7ff\">None</span>, <span style=\"color: #00af00; text-decoration-color: #00af00\">256</span>)                 │         <span style=\"color: #00af00; text-decoration-color: #00af00\">131,328</span> │\n",
       "├──────────────────────────────────────┼─────────────────────────────┼─────────────────┤\n",
       "│ dense_2 (<span style=\"color: #0087ff; text-decoration-color: #0087ff\">Dense</span>)                      │ (<span style=\"color: #00d7ff; text-decoration-color: #00d7ff\">None</span>, <span style=\"color: #00af00; text-decoration-color: #00af00\">128</span>)                 │          <span style=\"color: #00af00; text-decoration-color: #00af00\">32,896</span> │\n",
       "├──────────────────────────────────────┼─────────────────────────────┼─────────────────┤\n",
       "│ dense_3 (<span style=\"color: #0087ff; text-decoration-color: #0087ff\">Dense</span>)                      │ (<span style=\"color: #00d7ff; text-decoration-color: #00d7ff\">None</span>, <span style=\"color: #00af00; text-decoration-color: #00af00\">64</span>)                  │           <span style=\"color: #00af00; text-decoration-color: #00af00\">8,256</span> │\n",
       "├──────────────────────────────────────┼─────────────────────────────┼─────────────────┤\n",
       "│ dense_4 (<span style=\"color: #0087ff; text-decoration-color: #0087ff\">Dense</span>)                      │ (<span style=\"color: #00d7ff; text-decoration-color: #00d7ff\">None</span>, <span style=\"color: #00af00; text-decoration-color: #00af00\">32</span>)                  │           <span style=\"color: #00af00; text-decoration-color: #00af00\">2,080</span> │\n",
       "├──────────────────────────────────────┼─────────────────────────────┼─────────────────┤\n",
       "│ dense_5 (<span style=\"color: #0087ff; text-decoration-color: #0087ff\">Dense</span>)                      │ (<span style=\"color: #00d7ff; text-decoration-color: #00d7ff\">None</span>, <span style=\"color: #00af00; text-decoration-color: #00af00\">10</span>)                  │             <span style=\"color: #00af00; text-decoration-color: #00af00\">330</span> │\n",
       "└──────────────────────────────────────┴─────────────────────────────┴─────────────────┘\n",
       "</pre>\n"
      ],
      "text/plain": [
       "┏━━━━━━━━━━━━━━━━━━━━━━━━━━━━━━━━━━━━━━┳━━━━━━━━━━━━━━━━━━━━━━━━━━━━━┳━━━━━━━━━━━━━━━━━┓\n",
       "┃\u001b[1m \u001b[0m\u001b[1mLayer (type)                        \u001b[0m\u001b[1m \u001b[0m┃\u001b[1m \u001b[0m\u001b[1mOutput Shape               \u001b[0m\u001b[1m \u001b[0m┃\u001b[1m \u001b[0m\u001b[1m        Param #\u001b[0m\u001b[1m \u001b[0m┃\n",
       "┡━━━━━━━━━━━━━━━━━━━━━━━━━━━━━━━━━━━━━━╇━━━━━━━━━━━━━━━━━━━━━━━━━━━━━╇━━━━━━━━━━━━━━━━━┩\n",
       "│ dense (\u001b[38;5;33mDense\u001b[0m)                        │ (\u001b[38;5;45mNone\u001b[0m, \u001b[38;5;34m512\u001b[0m)                 │         \u001b[38;5;34m524,800\u001b[0m │\n",
       "├──────────────────────────────────────┼─────────────────────────────┼─────────────────┤\n",
       "│ dense_1 (\u001b[38;5;33mDense\u001b[0m)                      │ (\u001b[38;5;45mNone\u001b[0m, \u001b[38;5;34m256\u001b[0m)                 │         \u001b[38;5;34m131,328\u001b[0m │\n",
       "├──────────────────────────────────────┼─────────────────────────────┼─────────────────┤\n",
       "│ dense_2 (\u001b[38;5;33mDense\u001b[0m)                      │ (\u001b[38;5;45mNone\u001b[0m, \u001b[38;5;34m128\u001b[0m)                 │          \u001b[38;5;34m32,896\u001b[0m │\n",
       "├──────────────────────────────────────┼─────────────────────────────┼─────────────────┤\n",
       "│ dense_3 (\u001b[38;5;33mDense\u001b[0m)                      │ (\u001b[38;5;45mNone\u001b[0m, \u001b[38;5;34m64\u001b[0m)                  │           \u001b[38;5;34m8,256\u001b[0m │\n",
       "├──────────────────────────────────────┼─────────────────────────────┼─────────────────┤\n",
       "│ dense_4 (\u001b[38;5;33mDense\u001b[0m)                      │ (\u001b[38;5;45mNone\u001b[0m, \u001b[38;5;34m32\u001b[0m)                  │           \u001b[38;5;34m2,080\u001b[0m │\n",
       "├──────────────────────────────────────┼─────────────────────────────┼─────────────────┤\n",
       "│ dense_5 (\u001b[38;5;33mDense\u001b[0m)                      │ (\u001b[38;5;45mNone\u001b[0m, \u001b[38;5;34m10\u001b[0m)                  │             \u001b[38;5;34m330\u001b[0m │\n",
       "└──────────────────────────────────────┴─────────────────────────────┴─────────────────┘\n"
      ]
     },
     "metadata": {},
     "output_type": "display_data"
    },
    {
     "data": {
      "text/html": [
       "<pre style=\"white-space:pre;overflow-x:auto;line-height:normal;font-family:Menlo,'DejaVu Sans Mono',consolas,'Courier New',monospace\"><span style=\"font-weight: bold\"> Total params: </span><span style=\"color: #00af00; text-decoration-color: #00af00\">699,690</span> (2.67 MB)\n",
       "</pre>\n"
      ],
      "text/plain": [
       "\u001b[1m Total params: \u001b[0m\u001b[38;5;34m699,690\u001b[0m (2.67 MB)\n"
      ]
     },
     "metadata": {},
     "output_type": "display_data"
    },
    {
     "data": {
      "text/html": [
       "<pre style=\"white-space:pre;overflow-x:auto;line-height:normal;font-family:Menlo,'DejaVu Sans Mono',consolas,'Courier New',monospace\"><span style=\"font-weight: bold\"> Trainable params: </span><span style=\"color: #00af00; text-decoration-color: #00af00\">699,690</span> (2.67 MB)\n",
       "</pre>\n"
      ],
      "text/plain": [
       "\u001b[1m Trainable params: \u001b[0m\u001b[38;5;34m699,690\u001b[0m (2.67 MB)\n"
      ]
     },
     "metadata": {},
     "output_type": "display_data"
    },
    {
     "data": {
      "text/html": [
       "<pre style=\"white-space:pre;overflow-x:auto;line-height:normal;font-family:Menlo,'DejaVu Sans Mono',consolas,'Courier New',monospace\"><span style=\"font-weight: bold\"> Non-trainable params: </span><span style=\"color: #00af00; text-decoration-color: #00af00\">0</span> (0.00 B)\n",
       "</pre>\n"
      ],
      "text/plain": [
       "\u001b[1m Non-trainable params: \u001b[0m\u001b[38;5;34m0\u001b[0m (0.00 B)\n"
      ]
     },
     "metadata": {},
     "output_type": "display_data"
    }
   ],
   "source": [
    "keras_model.summary()"
   ]
  },
  {
   "cell_type": "markdown",
   "metadata": {
    "id": "u2b6VsDOvZyn"
   },
   "source": [
    "##### MODEL-1: For base model lets use SGD optimizer and Categorical Crossentropy as loss function and Accuracy as the metric to monitor.\n",
    "\n"
   ]
  },
  {
   "cell_type": "code",
   "execution_count": 21,
   "metadata": {
    "executionInfo": {
     "elapsed": 5,
     "status": "ok",
     "timestamp": 1714709128038,
     "user": {
      "displayName": "Ramana Reddy",
      "userId": "14322252769386133087"
     },
     "user_tz": -330
    },
    "id": "ryYGshhMvujC"
   },
   "outputs": [],
   "source": [
    "# compiling the ANN classifier\n",
    "keras_model.compile(optimizer = 'sgd', loss = 'categorical_crossentropy', metrics = ['accuracy'])"
   ]
  },
  {
   "cell_type": "code",
   "execution_count": 22,
   "metadata": {
    "colab": {
     "base_uri": "https://localhost:8080/"
    },
    "executionInfo": {
     "elapsed": 26161,
     "status": "ok",
     "timestamp": 1714709154195,
     "user": {
      "displayName": "Ramana Reddy",
      "userId": "14322252769386133087"
     },
     "user_tz": -330
    },
    "id": "GXMCjwROwfjM",
    "outputId": "d256a16d-d1df-417b-935f-cbcca794bbd8"
   },
   "outputs": [
    {
     "name": "stdout",
     "output_type": "stream",
     "text": [
      "Epoch 1/10\n",
      "\u001b[1m210/210\u001b[0m \u001b[32m━━━━━━━━━━━━━━━━━━━━\u001b[0m\u001b[37m\u001b[0m \u001b[1m7s\u001b[0m 16ms/step - accuracy: 0.1284 - loss: 2.2986 - val_accuracy: 0.1872 - val_loss: 2.2592\n",
      "Epoch 2/10\n",
      "\u001b[1m210/210\u001b[0m \u001b[32m━━━━━━━━━━━━━━━━━━━━\u001b[0m\u001b[37m\u001b[0m \u001b[1m2s\u001b[0m 7ms/step - accuracy: 0.1880 - loss: 2.2488 - val_accuracy: 0.2415 - val_loss: 2.2018\n",
      "Epoch 3/10\n",
      "\u001b[1m210/210\u001b[0m \u001b[32m━━━━━━━━━━━━━━━━━━━━\u001b[0m\u001b[37m\u001b[0m \u001b[1m2s\u001b[0m 10ms/step - accuracy: 0.2466 - loss: 2.1844 - val_accuracy: 0.3092 - val_loss: 2.1035\n",
      "Epoch 4/10\n",
      "\u001b[1m210/210\u001b[0m \u001b[32m━━━━━━━━━━━━━━━━━━━━\u001b[0m\u001b[37m\u001b[0m \u001b[1m2s\u001b[0m 10ms/step - accuracy: 0.3100 - loss: 2.0779 - val_accuracy: 0.3417 - val_loss: 1.9764\n",
      "Epoch 5/10\n",
      "\u001b[1m210/210\u001b[0m \u001b[32m━━━━━━━━━━━━━━━━━━━━\u001b[0m\u001b[37m\u001b[0m \u001b[1m3s\u001b[0m 11ms/step - accuracy: 0.3624 - loss: 1.9354 - val_accuracy: 0.3859 - val_loss: 1.8318\n",
      "Epoch 6/10\n",
      "\u001b[1m210/210\u001b[0m \u001b[32m━━━━━━━━━━━━━━━━━━━━\u001b[0m\u001b[37m\u001b[0m \u001b[1m3s\u001b[0m 14ms/step - accuracy: 0.4101 - loss: 1.7870 - val_accuracy: 0.3992 - val_loss: 1.7665\n",
      "Epoch 7/10\n",
      "\u001b[1m210/210\u001b[0m \u001b[32m━━━━━━━━━━━━━━━━━━━━\u001b[0m\u001b[37m\u001b[0m \u001b[1m3s\u001b[0m 5ms/step - accuracy: 0.4450 - loss: 1.6680 - val_accuracy: 0.4663 - val_loss: 1.5922\n",
      "Epoch 8/10\n",
      "\u001b[1m210/210\u001b[0m \u001b[32m━━━━━━━━━━━━━━━━━━━━\u001b[0m\u001b[37m\u001b[0m \u001b[1m1s\u001b[0m 5ms/step - accuracy: 0.4870 - loss: 1.5624 - val_accuracy: 0.4719 - val_loss: 1.5620\n",
      "Epoch 9/10\n",
      "\u001b[1m210/210\u001b[0m \u001b[32m━━━━━━━━━━━━━━━━━━━━\u001b[0m\u001b[37m\u001b[0m \u001b[1m1s\u001b[0m 5ms/step - accuracy: 0.5227 - loss: 1.4770 - val_accuracy: 0.4949 - val_loss: 1.5256\n",
      "Epoch 10/10\n",
      "\u001b[1m210/210\u001b[0m \u001b[32m━━━━━━━━━━━━━━━━━━━━\u001b[0m\u001b[37m\u001b[0m \u001b[1m1s\u001b[0m 5ms/step - accuracy: 0.5517 - loss: 1.3998 - val_accuracy: 0.5411 - val_loss: 1.4163\n"
     ]
    }
   ],
   "source": [
    "# Fitting the ANN to the Training data\n",
    "history = keras_model.fit(X_train, y_train, validation_data=(X_val,y_val),batch_size = 200, epochs = 10, verbose = 1)"
   ]
  },
  {
   "cell_type": "markdown",
   "metadata": {
    "id": "7ItWlCv20JIT"
   },
   "source": [
    "- Accuracy with SGD optimizer is at 55%."
   ]
  },
  {
   "cell_type": "markdown",
   "metadata": {
    "id": "ja1J_55_OmZZ"
   },
   "source": [
    "#### Q3B: Train the classifier using previously designed Architecture (Use best suitable parameters).\n",
    "#### Q3C: Evaluate performance of the model with appropriate metrics."
   ]
  },
  {
   "cell_type": "markdown",
   "metadata": {
    "id": "XmuYvhfXwmuS"
   },
   "source": [
    "#### MODEL-2: Using adam optimizer and Categorical Crossentropy as loss function and Accuracy as the metric to monitor"
   ]
  },
  {
   "cell_type": "code",
   "execution_count": 23,
   "metadata": {
    "executionInfo": {
     "elapsed": 14,
     "status": "ok",
     "timestamp": 1714709154195,
     "user": {
      "displayName": "Ramana Reddy",
      "userId": "14322252769386133087"
     },
     "user_tz": -330
    },
    "id": "QdAf4nfIzw5l"
   },
   "outputs": [],
   "source": [
    "# compiling the ANN classifier\n",
    "keras_model.compile(optimizer = 'adam', loss = 'categorical_crossentropy', metrics = ['accuracy'])"
   ]
  },
  {
   "cell_type": "code",
   "execution_count": 24,
   "metadata": {
    "colab": {
     "base_uri": "https://localhost:8080/"
    },
    "executionInfo": {
     "elapsed": 18383,
     "status": "ok",
     "timestamp": 1714709172565,
     "user": {
      "displayName": "Ramana Reddy",
      "userId": "14322252769386133087"
     },
     "user_tz": -330
    },
    "id": "jknD0F8Cz5lC",
    "outputId": "5d1a5017-4c22-45c2-e813-80aeef749496"
   },
   "outputs": [
    {
     "name": "stdout",
     "output_type": "stream",
     "text": [
      "Epoch 1/10\n",
      "\u001b[1m210/210\u001b[0m \u001b[32m━━━━━━━━━━━━━━━━━━━━\u001b[0m\u001b[37m\u001b[0m \u001b[1m6s\u001b[0m 11ms/step - accuracy: 0.3068 - loss: 2.1122 - val_accuracy: 0.5576 - val_loss: 1.3398\n",
      "Epoch 2/10\n",
      "\u001b[1m210/210\u001b[0m \u001b[32m━━━━━━━━━━━━━━━━━━━━\u001b[0m\u001b[37m\u001b[0m \u001b[1m1s\u001b[0m 5ms/step - accuracy: 0.5792 - loss: 1.3135 - val_accuracy: 0.6432 - val_loss: 1.1473\n",
      "Epoch 3/10\n",
      "\u001b[1m210/210\u001b[0m \u001b[32m━━━━━━━━━━━━━━━━━━━━\u001b[0m\u001b[37m\u001b[0m \u001b[1m1s\u001b[0m 6ms/step - accuracy: 0.6401 - loss: 1.1485 - val_accuracy: 0.6898 - val_loss: 1.0010\n",
      "Epoch 4/10\n",
      "\u001b[1m210/210\u001b[0m \u001b[32m━━━━━━━━━━━━━━━━━━━━\u001b[0m\u001b[37m\u001b[0m \u001b[1m1s\u001b[0m 6ms/step - accuracy: 0.6751 - loss: 1.0453 - val_accuracy: 0.7121 - val_loss: 0.9222\n",
      "Epoch 5/10\n",
      "\u001b[1m210/210\u001b[0m \u001b[32m━━━━━━━━━━━━━━━━━━━━\u001b[0m\u001b[37m\u001b[0m \u001b[1m1s\u001b[0m 5ms/step - accuracy: 0.7008 - loss: 0.9576 - val_accuracy: 0.7214 - val_loss: 0.8892\n",
      "Epoch 6/10\n",
      "\u001b[1m210/210\u001b[0m \u001b[32m━━━━━━━━━━━━━━━━━━━━\u001b[0m\u001b[37m\u001b[0m \u001b[1m1s\u001b[0m 5ms/step - accuracy: 0.7200 - loss: 0.8983 - val_accuracy: 0.7298 - val_loss: 0.8723\n",
      "Epoch 7/10\n",
      "\u001b[1m210/210\u001b[0m \u001b[32m━━━━━━━━━━━━━━━━━━━━\u001b[0m\u001b[37m\u001b[0m \u001b[1m1s\u001b[0m 5ms/step - accuracy: 0.7327 - loss: 0.8569 - val_accuracy: 0.7384 - val_loss: 0.8351\n",
      "Epoch 8/10\n",
      "\u001b[1m210/210\u001b[0m \u001b[32m━━━━━━━━━━━━━━━━━━━━\u001b[0m\u001b[37m\u001b[0m \u001b[1m1s\u001b[0m 5ms/step - accuracy: 0.7387 - loss: 0.8267 - val_accuracy: 0.7311 - val_loss: 0.8555\n",
      "Epoch 9/10\n",
      "\u001b[1m210/210\u001b[0m \u001b[32m━━━━━━━━━━━━━━━━━━━━\u001b[0m\u001b[37m\u001b[0m \u001b[1m1s\u001b[0m 6ms/step - accuracy: 0.7498 - loss: 0.7835 - val_accuracy: 0.7503 - val_loss: 0.7922\n",
      "Epoch 10/10\n",
      "\u001b[1m210/210\u001b[0m \u001b[32m━━━━━━━━━━━━━━━━━━━━\u001b[0m\u001b[37m\u001b[0m \u001b[1m1s\u001b[0m 6ms/step - accuracy: 0.7541 - loss: 0.7730 - val_accuracy: 0.7640 - val_loss: 0.7543\n"
     ]
    }
   ],
   "source": [
    "# Fitting the ANN to the Training data\n",
    "history = keras_model.fit(X_train, y_train, validation_data=(X_val,y_val),batch_size = 200, epochs = 10, verbose = 1)"
   ]
  },
  {
   "cell_type": "markdown",
   "metadata": {
    "id": "ixpDSBbTz-PW"
   },
   "source": [
    "- Accuracy with Adam optimizer stands at 75%."
   ]
  },
  {
   "cell_type": "markdown",
   "metadata": {
    "id": "pMeZL4cE0Xhx"
   },
   "source": [
    "#### MODEL-3: We will change the learning rate in SGD optimizer. Since we chose slow learning rate, which means model will learn slowly. So, we have to increase epochs."
   ]
  },
  {
   "cell_type": "code",
   "execution_count": 25,
   "metadata": {
    "colab": {
     "base_uri": "https://localhost:8080/"
    },
    "executionInfo": {
     "elapsed": 127675,
     "status": "ok",
     "timestamp": 1714709300223,
     "user": {
      "displayName": "Ramana Reddy",
      "userId": "14322252769386133087"
     },
     "user_tz": -330
    },
    "id": "RlesI1av0w5p",
    "outputId": "64aefc0f-3823-48bb-a277-fbf4d4e20203"
   },
   "outputs": [
    {
     "name": "stdout",
     "output_type": "stream",
     "text": [
      "Epoch 1/100\n",
      "\u001b[1m210/210\u001b[0m \u001b[32m━━━━━━━━━━━━━━━━━━━━\u001b[0m\u001b[37m\u001b[0m \u001b[1m3s\u001b[0m 9ms/step - accuracy: 0.7774 - loss: 0.7155 - val_accuracy: 0.7957 - val_loss: 0.6686\n",
      "Epoch 2/100\n",
      "\u001b[1m210/210\u001b[0m \u001b[32m━━━━━━━━━━━━━━━━━━━━\u001b[0m\u001b[37m\u001b[0m \u001b[1m1s\u001b[0m 5ms/step - accuracy: 0.7994 - loss: 0.6562 - val_accuracy: 0.8015 - val_loss: 0.6527\n",
      "Epoch 3/100\n",
      "\u001b[1m210/210\u001b[0m \u001b[32m━━━━━━━━━━━━━━━━━━━━\u001b[0m\u001b[37m\u001b[0m \u001b[1m1s\u001b[0m 5ms/step - accuracy: 0.8030 - loss: 0.6437 - val_accuracy: 0.8032 - val_loss: 0.6470\n",
      "Epoch 4/100\n",
      "\u001b[1m210/210\u001b[0m \u001b[32m━━━━━━━━━━━━━━━━━━━━\u001b[0m\u001b[37m\u001b[0m \u001b[1m1s\u001b[0m 5ms/step - accuracy: 0.8040 - loss: 0.6385 - val_accuracy: 0.8042 - val_loss: 0.6434\n",
      "Epoch 5/100\n",
      "\u001b[1m210/210\u001b[0m \u001b[32m━━━━━━━━━━━━━━━━━━━━\u001b[0m\u001b[37m\u001b[0m \u001b[1m1s\u001b[0m 5ms/step - accuracy: 0.8052 - loss: 0.6350 - val_accuracy: 0.8051 - val_loss: 0.6406\n",
      "Epoch 6/100\n",
      "\u001b[1m210/210\u001b[0m \u001b[32m━━━━━━━━━━━━━━━━━━━━\u001b[0m\u001b[37m\u001b[0m \u001b[1m1s\u001b[0m 4ms/step - accuracy: 0.8062 - loss: 0.6322 - val_accuracy: 0.8062 - val_loss: 0.6383\n",
      "Epoch 7/100\n",
      "\u001b[1m210/210\u001b[0m \u001b[32m━━━━━━━━━━━━━━━━━━━━\u001b[0m\u001b[37m\u001b[0m \u001b[1m1s\u001b[0m 5ms/step - accuracy: 0.8069 - loss: 0.6299 - val_accuracy: 0.8068 - val_loss: 0.6363\n",
      "Epoch 8/100\n",
      "\u001b[1m210/210\u001b[0m \u001b[32m━━━━━━━━━━━━━━━━━━━━\u001b[0m\u001b[37m\u001b[0m \u001b[1m2s\u001b[0m 9ms/step - accuracy: 0.8077 - loss: 0.6278 - val_accuracy: 0.8076 - val_loss: 0.6345\n",
      "Epoch 9/100\n",
      "\u001b[1m210/210\u001b[0m \u001b[32m━━━━━━━━━━━━━━━━━━━━\u001b[0m\u001b[37m\u001b[0m \u001b[1m2s\u001b[0m 5ms/step - accuracy: 0.8085 - loss: 0.6260 - val_accuracy: 0.8082 - val_loss: 0.6328\n",
      "Epoch 10/100\n",
      "\u001b[1m210/210\u001b[0m \u001b[32m━━━━━━━━━━━━━━━━━━━━\u001b[0m\u001b[37m\u001b[0m \u001b[1m1s\u001b[0m 5ms/step - accuracy: 0.8089 - loss: 0.6242 - val_accuracy: 0.8087 - val_loss: 0.6313\n",
      "Epoch 11/100\n",
      "\u001b[1m210/210\u001b[0m \u001b[32m━━━━━━━━━━━━━━━━━━━━\u001b[0m\u001b[37m\u001b[0m \u001b[1m1s\u001b[0m 5ms/step - accuracy: 0.8097 - loss: 0.6227 - val_accuracy: 0.8092 - val_loss: 0.6299\n",
      "Epoch 12/100\n",
      "\u001b[1m210/210\u001b[0m \u001b[32m━━━━━━━━━━━━━━━━━━━━\u001b[0m\u001b[37m\u001b[0m \u001b[1m1s\u001b[0m 5ms/step - accuracy: 0.8104 - loss: 0.6212 - val_accuracy: 0.8097 - val_loss: 0.6287\n",
      "Epoch 13/100\n",
      "\u001b[1m210/210\u001b[0m \u001b[32m━━━━━━━━━━━━━━━━━━━━\u001b[0m\u001b[37m\u001b[0m \u001b[1m1s\u001b[0m 5ms/step - accuracy: 0.8108 - loss: 0.6198 - val_accuracy: 0.8101 - val_loss: 0.6274\n",
      "Epoch 14/100\n",
      "\u001b[1m210/210\u001b[0m \u001b[32m━━━━━━━━━━━━━━━━━━━━\u001b[0m\u001b[37m\u001b[0m \u001b[1m1s\u001b[0m 5ms/step - accuracy: 0.8115 - loss: 0.6185 - val_accuracy: 0.8104 - val_loss: 0.6263\n",
      "Epoch 15/100\n",
      "\u001b[1m210/210\u001b[0m \u001b[32m━━━━━━━━━━━━━━━━━━━━\u001b[0m\u001b[37m\u001b[0m \u001b[1m1s\u001b[0m 5ms/step - accuracy: 0.8120 - loss: 0.6173 - val_accuracy: 0.8106 - val_loss: 0.6253\n",
      "Epoch 16/100\n",
      "\u001b[1m210/210\u001b[0m \u001b[32m━━━━━━━━━━━━━━━━━━━━\u001b[0m\u001b[37m\u001b[0m \u001b[1m1s\u001b[0m 5ms/step - accuracy: 0.8126 - loss: 0.6161 - val_accuracy: 0.8108 - val_loss: 0.6243\n",
      "Epoch 17/100\n",
      "\u001b[1m210/210\u001b[0m \u001b[32m━━━━━━━━━━━━━━━━━━━━\u001b[0m\u001b[37m\u001b[0m \u001b[1m2s\u001b[0m 7ms/step - accuracy: 0.8129 - loss: 0.6150 - val_accuracy: 0.8111 - val_loss: 0.6233\n",
      "Epoch 18/100\n",
      "\u001b[1m210/210\u001b[0m \u001b[32m━━━━━━━━━━━━━━━━━━━━\u001b[0m\u001b[37m\u001b[0m \u001b[1m2s\u001b[0m 11ms/step - accuracy: 0.8132 - loss: 0.6140 - val_accuracy: 0.8112 - val_loss: 0.6224\n",
      "Epoch 19/100\n",
      "\u001b[1m210/210\u001b[0m \u001b[32m━━━━━━━━━━━━━━━━━━━━\u001b[0m\u001b[37m\u001b[0m \u001b[1m2s\u001b[0m 10ms/step - accuracy: 0.8136 - loss: 0.6131 - val_accuracy: 0.8117 - val_loss: 0.6216\n",
      "Epoch 20/100\n",
      "\u001b[1m210/210\u001b[0m \u001b[32m━━━━━━━━━━━━━━━━━━━━\u001b[0m\u001b[37m\u001b[0m \u001b[1m2s\u001b[0m 5ms/step - accuracy: 0.8138 - loss: 0.6122 - val_accuracy: 0.8120 - val_loss: 0.6208\n",
      "Epoch 21/100\n",
      "\u001b[1m210/210\u001b[0m \u001b[32m━━━━━━━━━━━━━━━━━━━━\u001b[0m\u001b[37m\u001b[0m \u001b[1m1s\u001b[0m 5ms/step - accuracy: 0.8140 - loss: 0.6113 - val_accuracy: 0.8120 - val_loss: 0.6201\n",
      "Epoch 22/100\n",
      "\u001b[1m210/210\u001b[0m \u001b[32m━━━━━━━━━━━━━━━━━━━━\u001b[0m\u001b[37m\u001b[0m \u001b[1m1s\u001b[0m 5ms/step - accuracy: 0.8139 - loss: 0.6105 - val_accuracy: 0.8124 - val_loss: 0.6194\n",
      "Epoch 23/100\n",
      "\u001b[1m210/210\u001b[0m \u001b[32m━━━━━━━━━━━━━━━━━━━━\u001b[0m\u001b[37m\u001b[0m \u001b[1m1s\u001b[0m 5ms/step - accuracy: 0.8141 - loss: 0.6097 - val_accuracy: 0.8125 - val_loss: 0.6187\n",
      "Epoch 24/100\n",
      "\u001b[1m210/210\u001b[0m \u001b[32m━━━━━━━━━━━━━━━━━━━━\u001b[0m\u001b[37m\u001b[0m \u001b[1m1s\u001b[0m 5ms/step - accuracy: 0.8143 - loss: 0.6090 - val_accuracy: 0.8126 - val_loss: 0.6181\n",
      "Epoch 25/100\n",
      "\u001b[1m210/210\u001b[0m \u001b[32m━━━━━━━━━━━━━━━━━━━━\u001b[0m\u001b[37m\u001b[0m \u001b[1m1s\u001b[0m 5ms/step - accuracy: 0.8144 - loss: 0.6082 - val_accuracy: 0.8127 - val_loss: 0.6174\n",
      "Epoch 26/100\n",
      "\u001b[1m210/210\u001b[0m \u001b[32m━━━━━━━━━━━━━━━━━━━━\u001b[0m\u001b[37m\u001b[0m \u001b[1m1s\u001b[0m 5ms/step - accuracy: 0.8143 - loss: 0.6076 - val_accuracy: 0.8129 - val_loss: 0.6169\n",
      "Epoch 27/100\n",
      "\u001b[1m210/210\u001b[0m \u001b[32m━━━━━━━━━━━━━━━━━━━━\u001b[0m\u001b[37m\u001b[0m \u001b[1m1s\u001b[0m 5ms/step - accuracy: 0.8143 - loss: 0.6069 - val_accuracy: 0.8132 - val_loss: 0.6163\n",
      "Epoch 28/100\n",
      "\u001b[1m210/210\u001b[0m \u001b[32m━━━━━━━━━━━━━━━━━━━━\u001b[0m\u001b[37m\u001b[0m \u001b[1m2s\u001b[0m 9ms/step - accuracy: 0.8144 - loss: 0.6063 - val_accuracy: 0.8134 - val_loss: 0.6158\n",
      "Epoch 29/100\n",
      "\u001b[1m210/210\u001b[0m \u001b[32m━━━━━━━━━━━━━━━━━━━━\u001b[0m\u001b[37m\u001b[0m \u001b[1m1s\u001b[0m 6ms/step - accuracy: 0.8145 - loss: 0.6057 - val_accuracy: 0.8135 - val_loss: 0.6152\n",
      "Epoch 30/100\n",
      "\u001b[1m210/210\u001b[0m \u001b[32m━━━━━━━━━━━━━━━━━━━━\u001b[0m\u001b[37m\u001b[0m \u001b[1m1s\u001b[0m 5ms/step - accuracy: 0.8148 - loss: 0.6051 - val_accuracy: 0.8137 - val_loss: 0.6147\n",
      "Epoch 31/100\n",
      "\u001b[1m210/210\u001b[0m \u001b[32m━━━━━━━━━━━━━━━━━━━━\u001b[0m\u001b[37m\u001b[0m \u001b[1m1s\u001b[0m 5ms/step - accuracy: 0.8149 - loss: 0.6046 - val_accuracy: 0.8138 - val_loss: 0.6143\n",
      "Epoch 32/100\n",
      "\u001b[1m210/210\u001b[0m \u001b[32m━━━━━━━━━━━━━━━━━━━━\u001b[0m\u001b[37m\u001b[0m \u001b[1m1s\u001b[0m 5ms/step - accuracy: 0.8150 - loss: 0.6040 - val_accuracy: 0.8140 - val_loss: 0.6138\n",
      "Epoch 33/100\n",
      "\u001b[1m210/210\u001b[0m \u001b[32m━━━━━━━━━━━━━━━━━━━━\u001b[0m\u001b[37m\u001b[0m \u001b[1m1s\u001b[0m 5ms/step - accuracy: 0.8149 - loss: 0.6035 - val_accuracy: 0.8140 - val_loss: 0.6134\n",
      "Epoch 34/100\n",
      "\u001b[1m210/210\u001b[0m \u001b[32m━━━━━━━━━━━━━━━━━━━━\u001b[0m\u001b[37m\u001b[0m \u001b[1m1s\u001b[0m 5ms/step - accuracy: 0.8151 - loss: 0.6030 - val_accuracy: 0.8140 - val_loss: 0.6130\n",
      "Epoch 35/100\n",
      "\u001b[1m210/210\u001b[0m \u001b[32m━━━━━━━━━━━━━━━━━━━━\u001b[0m\u001b[37m\u001b[0m \u001b[1m1s\u001b[0m 5ms/step - accuracy: 0.8152 - loss: 0.6025 - val_accuracy: 0.8141 - val_loss: 0.6126\n",
      "Epoch 36/100\n",
      "\u001b[1m210/210\u001b[0m \u001b[32m━━━━━━━━━━━━━━━━━━━━\u001b[0m\u001b[37m\u001b[0m \u001b[1m1s\u001b[0m 5ms/step - accuracy: 0.8156 - loss: 0.6021 - val_accuracy: 0.8141 - val_loss: 0.6122\n",
      "Epoch 37/100\n",
      "\u001b[1m210/210\u001b[0m \u001b[32m━━━━━━━━━━━━━━━━━━━━\u001b[0m\u001b[37m\u001b[0m \u001b[1m1s\u001b[0m 5ms/step - accuracy: 0.8155 - loss: 0.6016 - val_accuracy: 0.8142 - val_loss: 0.6118\n",
      "Epoch 38/100\n",
      "\u001b[1m210/210\u001b[0m \u001b[32m━━━━━━━━━━━━━━━━━━━━\u001b[0m\u001b[37m\u001b[0m \u001b[1m2s\u001b[0m 6ms/step - accuracy: 0.8155 - loss: 0.6011 - val_accuracy: 0.8144 - val_loss: 0.6114\n",
      "Epoch 39/100\n",
      "\u001b[1m210/210\u001b[0m \u001b[32m━━━━━━━━━━━━━━━━━━━━\u001b[0m\u001b[37m\u001b[0m \u001b[1m1s\u001b[0m 6ms/step - accuracy: 0.8154 - loss: 0.6007 - val_accuracy: 0.8145 - val_loss: 0.6110\n",
      "Epoch 40/100\n",
      "\u001b[1m210/210\u001b[0m \u001b[32m━━━━━━━━━━━━━━━━━━━━\u001b[0m\u001b[37m\u001b[0m \u001b[1m1s\u001b[0m 5ms/step - accuracy: 0.8155 - loss: 0.6003 - val_accuracy: 0.8147 - val_loss: 0.6107\n",
      "Epoch 41/100\n",
      "\u001b[1m210/210\u001b[0m \u001b[32m━━━━━━━━━━━━━━━━━━━━\u001b[0m\u001b[37m\u001b[0m \u001b[1m1s\u001b[0m 5ms/step - accuracy: 0.8155 - loss: 0.5999 - val_accuracy: 0.8147 - val_loss: 0.6103\n",
      "Epoch 42/100\n",
      "\u001b[1m210/210\u001b[0m \u001b[32m━━━━━━━━━━━━━━━━━━━━\u001b[0m\u001b[37m\u001b[0m \u001b[1m1s\u001b[0m 5ms/step - accuracy: 0.8158 - loss: 0.5994 - val_accuracy: 0.8148 - val_loss: 0.6100\n",
      "Epoch 43/100\n",
      "\u001b[1m210/210\u001b[0m \u001b[32m━━━━━━━━━━━━━━━━━━━━\u001b[0m\u001b[37m\u001b[0m \u001b[1m1s\u001b[0m 5ms/step - accuracy: 0.8160 - loss: 0.5990 - val_accuracy: 0.8150 - val_loss: 0.6097\n",
      "Epoch 44/100\n",
      "\u001b[1m210/210\u001b[0m \u001b[32m━━━━━━━━━━━━━━━━━━━━\u001b[0m\u001b[37m\u001b[0m \u001b[1m1s\u001b[0m 5ms/step - accuracy: 0.8162 - loss: 0.5986 - val_accuracy: 0.8150 - val_loss: 0.6094\n",
      "Epoch 45/100\n",
      "\u001b[1m210/210\u001b[0m \u001b[32m━━━━━━━━━━━━━━━━━━━━\u001b[0m\u001b[37m\u001b[0m \u001b[1m1s\u001b[0m 5ms/step - accuracy: 0.8162 - loss: 0.5983 - val_accuracy: 0.8151 - val_loss: 0.6091\n",
      "Epoch 46/100\n",
      "\u001b[1m210/210\u001b[0m \u001b[32m━━━━━━━━━━━━━━━━━━━━\u001b[0m\u001b[37m\u001b[0m \u001b[1m1s\u001b[0m 5ms/step - accuracy: 0.8165 - loss: 0.5979 - val_accuracy: 0.8151 - val_loss: 0.6088\n",
      "Epoch 47/100\n",
      "\u001b[1m210/210\u001b[0m \u001b[32m━━━━━━━━━━━━━━━━━━━━\u001b[0m\u001b[37m\u001b[0m \u001b[1m1s\u001b[0m 5ms/step - accuracy: 0.8164 - loss: 0.5975 - val_accuracy: 0.8152 - val_loss: 0.6085\n",
      "Epoch 48/100\n",
      "\u001b[1m210/210\u001b[0m \u001b[32m━━━━━━━━━━━━━━━━━━━━\u001b[0m\u001b[37m\u001b[0m \u001b[1m1s\u001b[0m 5ms/step - accuracy: 0.8167 - loss: 0.5972 - val_accuracy: 0.8151 - val_loss: 0.6082\n",
      "Epoch 49/100\n",
      "\u001b[1m210/210\u001b[0m \u001b[32m━━━━━━━━━━━━━━━━━━━━\u001b[0m\u001b[37m\u001b[0m \u001b[1m2s\u001b[0m 9ms/step - accuracy: 0.8169 - loss: 0.5968 - val_accuracy: 0.8151 - val_loss: 0.6080\n",
      "Epoch 50/100\n",
      "\u001b[1m210/210\u001b[0m \u001b[32m━━━━━━━━━━━━━━━━━━━━\u001b[0m\u001b[37m\u001b[0m \u001b[1m2s\u001b[0m 5ms/step - accuracy: 0.8167 - loss: 0.5965 - val_accuracy: 0.8152 - val_loss: 0.6077\n",
      "Epoch 51/100\n",
      "\u001b[1m210/210\u001b[0m \u001b[32m━━━━━━━━━━━━━━━━━━━━\u001b[0m\u001b[37m\u001b[0m \u001b[1m1s\u001b[0m 5ms/step - accuracy: 0.8166 - loss: 0.5962 - val_accuracy: 0.8153 - val_loss: 0.6075\n",
      "Epoch 52/100\n",
      "\u001b[1m210/210\u001b[0m \u001b[32m━━━━━━━━━━━━━━━━━━━━\u001b[0m\u001b[37m\u001b[0m \u001b[1m1s\u001b[0m 5ms/step - accuracy: 0.8164 - loss: 0.5959 - val_accuracy: 0.8155 - val_loss: 0.6072\n",
      "Epoch 53/100\n",
      "\u001b[1m210/210\u001b[0m \u001b[32m━━━━━━━━━━━━━━━━━━━━\u001b[0m\u001b[37m\u001b[0m \u001b[1m1s\u001b[0m 5ms/step - accuracy: 0.8166 - loss: 0.5956 - val_accuracy: 0.8156 - val_loss: 0.6070\n",
      "Epoch 54/100\n",
      "\u001b[1m210/210\u001b[0m \u001b[32m━━━━━━━━━━━━━━━━━━━━\u001b[0m\u001b[37m\u001b[0m \u001b[1m1s\u001b[0m 5ms/step - accuracy: 0.8167 - loss: 0.5953 - val_accuracy: 0.8157 - val_loss: 0.6067\n",
      "Epoch 55/100\n",
      "\u001b[1m210/210\u001b[0m \u001b[32m━━━━━━━━━━━━━━━━━━━━\u001b[0m\u001b[37m\u001b[0m \u001b[1m1s\u001b[0m 5ms/step - accuracy: 0.8167 - loss: 0.5950 - val_accuracy: 0.8159 - val_loss: 0.6065\n",
      "Epoch 56/100\n",
      "\u001b[1m210/210\u001b[0m \u001b[32m━━━━━━━━━━━━━━━━━━━━\u001b[0m\u001b[37m\u001b[0m \u001b[1m1s\u001b[0m 5ms/step - accuracy: 0.8168 - loss: 0.5947 - val_accuracy: 0.8160 - val_loss: 0.6063\n",
      "Epoch 57/100\n",
      "\u001b[1m210/210\u001b[0m \u001b[32m━━━━━━━━━━━━━━━━━━━━\u001b[0m\u001b[37m\u001b[0m \u001b[1m1s\u001b[0m 5ms/step - accuracy: 0.8168 - loss: 0.5944 - val_accuracy: 0.8161 - val_loss: 0.6061\n",
      "Epoch 58/100\n",
      "\u001b[1m210/210\u001b[0m \u001b[32m━━━━━━━━━━━━━━━━━━━━\u001b[0m\u001b[37m\u001b[0m \u001b[1m1s\u001b[0m 5ms/step - accuracy: 0.8170 - loss: 0.5941 - val_accuracy: 0.8162 - val_loss: 0.6058\n",
      "Epoch 59/100\n",
      "\u001b[1m210/210\u001b[0m \u001b[32m━━━━━━━━━━━━━━━━━━━━\u001b[0m\u001b[37m\u001b[0m \u001b[1m1s\u001b[0m 6ms/step - accuracy: 0.8171 - loss: 0.5938 - val_accuracy: 0.8163 - val_loss: 0.6056\n",
      "Epoch 60/100\n",
      "\u001b[1m210/210\u001b[0m \u001b[32m━━━━━━━━━━━━━━━━━━━━\u001b[0m\u001b[37m\u001b[0m \u001b[1m2s\u001b[0m 9ms/step - accuracy: 0.8175 - loss: 0.5936 - val_accuracy: 0.8164 - val_loss: 0.6054\n",
      "Epoch 61/100\n",
      "\u001b[1m210/210\u001b[0m \u001b[32m━━━━━━━━━━━━━━━━━━━━\u001b[0m\u001b[37m\u001b[0m \u001b[1m1s\u001b[0m 5ms/step - accuracy: 0.8176 - loss: 0.5933 - val_accuracy: 0.8163 - val_loss: 0.6052\n",
      "Epoch 62/100\n",
      "\u001b[1m210/210\u001b[0m \u001b[32m━━━━━━━━━━━━━━━━━━━━\u001b[0m\u001b[37m\u001b[0m \u001b[1m1s\u001b[0m 5ms/step - accuracy: 0.8175 - loss: 0.5931 - val_accuracy: 0.8164 - val_loss: 0.6050\n",
      "Epoch 63/100\n",
      "\u001b[1m210/210\u001b[0m \u001b[32m━━━━━━━━━━━━━━━━━━━━\u001b[0m\u001b[37m\u001b[0m \u001b[1m1s\u001b[0m 5ms/step - accuracy: 0.8175 - loss: 0.5928 - val_accuracy: 0.8166 - val_loss: 0.6048\n",
      "Epoch 64/100\n",
      "\u001b[1m210/210\u001b[0m \u001b[32m━━━━━━━━━━━━━━━━━━━━\u001b[0m\u001b[37m\u001b[0m \u001b[1m1s\u001b[0m 5ms/step - accuracy: 0.8176 - loss: 0.5926 - val_accuracy: 0.8165 - val_loss: 0.6046\n",
      "Epoch 65/100\n",
      "\u001b[1m210/210\u001b[0m \u001b[32m━━━━━━━━━━━━━━━━━━━━\u001b[0m\u001b[37m\u001b[0m \u001b[1m1s\u001b[0m 5ms/step - accuracy: 0.8178 - loss: 0.5923 - val_accuracy: 0.8165 - val_loss: 0.6044\n",
      "Epoch 66/100\n",
      "\u001b[1m210/210\u001b[0m \u001b[32m━━━━━━━━━━━━━━━━━━━━\u001b[0m\u001b[37m\u001b[0m \u001b[1m1s\u001b[0m 5ms/step - accuracy: 0.8178 - loss: 0.5921 - val_accuracy: 0.8167 - val_loss: 0.6042\n",
      "Epoch 67/100\n",
      "\u001b[1m210/210\u001b[0m \u001b[32m━━━━━━━━━━━━━━━━━━━━\u001b[0m\u001b[37m\u001b[0m \u001b[1m1s\u001b[0m 5ms/step - accuracy: 0.8181 - loss: 0.5918 - val_accuracy: 0.8168 - val_loss: 0.6041\n",
      "Epoch 68/100\n",
      "\u001b[1m210/210\u001b[0m \u001b[32m━━━━━━━━━━━━━━━━━━━━\u001b[0m\u001b[37m\u001b[0m \u001b[1m1s\u001b[0m 5ms/step - accuracy: 0.8182 - loss: 0.5916 - val_accuracy: 0.8169 - val_loss: 0.6039\n",
      "Epoch 69/100\n",
      "\u001b[1m210/210\u001b[0m \u001b[32m━━━━━━━━━━━━━━━━━━━━\u001b[0m\u001b[37m\u001b[0m \u001b[1m1s\u001b[0m 6ms/step - accuracy: 0.8183 - loss: 0.5914 - val_accuracy: 0.8169 - val_loss: 0.6037\n",
      "Epoch 70/100\n",
      "\u001b[1m210/210\u001b[0m \u001b[32m━━━━━━━━━━━━━━━━━━━━\u001b[0m\u001b[37m\u001b[0m \u001b[1m1s\u001b[0m 6ms/step - accuracy: 0.8185 - loss: 0.5911 - val_accuracy: 0.8171 - val_loss: 0.6035\n",
      "Epoch 71/100\n",
      "\u001b[1m210/210\u001b[0m \u001b[32m━━━━━━━━━━━━━━━━━━━━\u001b[0m\u001b[37m\u001b[0m \u001b[1m1s\u001b[0m 6ms/step - accuracy: 0.8186 - loss: 0.5909 - val_accuracy: 0.8171 - val_loss: 0.6033\n",
      "Epoch 72/100\n",
      "\u001b[1m210/210\u001b[0m \u001b[32m━━━━━━━━━━━━━━━━━━━━\u001b[0m\u001b[37m\u001b[0m \u001b[1m1s\u001b[0m 5ms/step - accuracy: 0.8188 - loss: 0.5907 - val_accuracy: 0.8172 - val_loss: 0.6032\n",
      "Epoch 73/100\n",
      "\u001b[1m210/210\u001b[0m \u001b[32m━━━━━━━━━━━━━━━━━━━━\u001b[0m\u001b[37m\u001b[0m \u001b[1m1s\u001b[0m 5ms/step - accuracy: 0.8187 - loss: 0.5905 - val_accuracy: 0.8173 - val_loss: 0.6030\n",
      "Epoch 74/100\n",
      "\u001b[1m210/210\u001b[0m \u001b[32m━━━━━━━━━━━━━━━━━━━━\u001b[0m\u001b[37m\u001b[0m \u001b[1m1s\u001b[0m 5ms/step - accuracy: 0.8188 - loss: 0.5903 - val_accuracy: 0.8173 - val_loss: 0.6028\n",
      "Epoch 75/100\n",
      "\u001b[1m210/210\u001b[0m \u001b[32m━━━━━━━━━━━━━━━━━━━━\u001b[0m\u001b[37m\u001b[0m \u001b[1m1s\u001b[0m 5ms/step - accuracy: 0.8189 - loss: 0.5900 - val_accuracy: 0.8173 - val_loss: 0.6027\n",
      "Epoch 76/100\n",
      "\u001b[1m210/210\u001b[0m \u001b[32m━━━━━━━━━━━━━━━━━━━━\u001b[0m\u001b[37m\u001b[0m \u001b[1m1s\u001b[0m 5ms/step - accuracy: 0.8189 - loss: 0.5898 - val_accuracy: 0.8173 - val_loss: 0.6025\n",
      "Epoch 77/100\n",
      "\u001b[1m210/210\u001b[0m \u001b[32m━━━━━━━━━━━━━━━━━━━━\u001b[0m\u001b[37m\u001b[0m \u001b[1m1s\u001b[0m 5ms/step - accuracy: 0.8189 - loss: 0.5896 - val_accuracy: 0.8173 - val_loss: 0.6023\n",
      "Epoch 78/100\n",
      "\u001b[1m210/210\u001b[0m \u001b[32m━━━━━━━━━━━━━━━━━━━━\u001b[0m\u001b[37m\u001b[0m \u001b[1m1s\u001b[0m 5ms/step - accuracy: 0.8189 - loss: 0.5894 - val_accuracy: 0.8173 - val_loss: 0.6022\n",
      "Epoch 79/100\n",
      "\u001b[1m210/210\u001b[0m \u001b[32m━━━━━━━━━━━━━━━━━━━━\u001b[0m\u001b[37m\u001b[0m \u001b[1m1s\u001b[0m 5ms/step - accuracy: 0.8190 - loss: 0.5892 - val_accuracy: 0.8175 - val_loss: 0.6020\n",
      "Epoch 80/100\n",
      "\u001b[1m210/210\u001b[0m \u001b[32m━━━━━━━━━━━━━━━━━━━━\u001b[0m\u001b[37m\u001b[0m \u001b[1m1s\u001b[0m 6ms/step - accuracy: 0.8191 - loss: 0.5890 - val_accuracy: 0.8175 - val_loss: 0.6019\n",
      "Epoch 81/100\n",
      "\u001b[1m210/210\u001b[0m \u001b[32m━━━━━━━━━━━━━━━━━━━━\u001b[0m\u001b[37m\u001b[0m \u001b[1m2s\u001b[0m 9ms/step - accuracy: 0.8192 - loss: 0.5888 - val_accuracy: 0.8176 - val_loss: 0.6017\n",
      "Epoch 82/100\n",
      "\u001b[1m210/210\u001b[0m \u001b[32m━━━━━━━━━━━━━━━━━━━━\u001b[0m\u001b[37m\u001b[0m \u001b[1m2s\u001b[0m 5ms/step - accuracy: 0.8191 - loss: 0.5886 - val_accuracy: 0.8176 - val_loss: 0.6016\n",
      "Epoch 83/100\n",
      "\u001b[1m210/210\u001b[0m \u001b[32m━━━━━━━━━━━━━━━━━━━━\u001b[0m\u001b[37m\u001b[0m \u001b[1m1s\u001b[0m 5ms/step - accuracy: 0.8193 - loss: 0.5884 - val_accuracy: 0.8177 - val_loss: 0.6014\n",
      "Epoch 84/100\n",
      "\u001b[1m210/210\u001b[0m \u001b[32m━━━━━━━━━━━━━━━━━━━━\u001b[0m\u001b[37m\u001b[0m \u001b[1m1s\u001b[0m 5ms/step - accuracy: 0.8193 - loss: 0.5883 - val_accuracy: 0.8177 - val_loss: 0.6013\n",
      "Epoch 85/100\n",
      "\u001b[1m210/210\u001b[0m \u001b[32m━━━━━━━━━━━━━━━━━━━━\u001b[0m\u001b[37m\u001b[0m \u001b[1m1s\u001b[0m 5ms/step - accuracy: 0.8194 - loss: 0.5881 - val_accuracy: 0.8177 - val_loss: 0.6011\n",
      "Epoch 86/100\n",
      "\u001b[1m210/210\u001b[0m \u001b[32m━━━━━━━━━━━━━━━━━━━━\u001b[0m\u001b[37m\u001b[0m \u001b[1m1s\u001b[0m 5ms/step - accuracy: 0.8193 - loss: 0.5879 - val_accuracy: 0.8178 - val_loss: 0.6010\n",
      "Epoch 87/100\n",
      "\u001b[1m210/210\u001b[0m \u001b[32m━━━━━━━━━━━━━━━━━━━━\u001b[0m\u001b[37m\u001b[0m \u001b[1m1s\u001b[0m 5ms/step - accuracy: 0.8194 - loss: 0.5877 - val_accuracy: 0.8181 - val_loss: 0.6008\n",
      "Epoch 88/100\n",
      "\u001b[1m210/210\u001b[0m \u001b[32m━━━━━━━━━━━━━━━━━━━━\u001b[0m\u001b[37m\u001b[0m \u001b[1m1s\u001b[0m 5ms/step - accuracy: 0.8196 - loss: 0.5875 - val_accuracy: 0.8181 - val_loss: 0.6007\n",
      "Epoch 89/100\n",
      "\u001b[1m210/210\u001b[0m \u001b[32m━━━━━━━━━━━━━━━━━━━━\u001b[0m\u001b[37m\u001b[0m \u001b[1m1s\u001b[0m 5ms/step - accuracy: 0.8199 - loss: 0.5873 - val_accuracy: 0.8181 - val_loss: 0.6006\n",
      "Epoch 90/100\n",
      "\u001b[1m210/210\u001b[0m \u001b[32m━━━━━━━━━━━━━━━━━━━━\u001b[0m\u001b[37m\u001b[0m \u001b[1m2s\u001b[0m 9ms/step - accuracy: 0.8199 - loss: 0.5872 - val_accuracy: 0.8182 - val_loss: 0.6004\n",
      "Epoch 91/100\n",
      "\u001b[1m210/210\u001b[0m \u001b[32m━━━━━━━━━━━━━━━━━━━━\u001b[0m\u001b[37m\u001b[0m \u001b[1m1s\u001b[0m 6ms/step - accuracy: 0.8200 - loss: 0.5870 - val_accuracy: 0.8184 - val_loss: 0.6003\n",
      "Epoch 92/100\n",
      "\u001b[1m210/210\u001b[0m \u001b[32m━━━━━━━━━━━━━━━━━━━━\u001b[0m\u001b[37m\u001b[0m \u001b[1m1s\u001b[0m 5ms/step - accuracy: 0.8202 - loss: 0.5868 - val_accuracy: 0.8184 - val_loss: 0.6001\n",
      "Epoch 93/100\n",
      "\u001b[1m210/210\u001b[0m \u001b[32m━━━━━━━━━━━━━━━━━━━━\u001b[0m\u001b[37m\u001b[0m \u001b[1m1s\u001b[0m 5ms/step - accuracy: 0.8202 - loss: 0.5866 - val_accuracy: 0.8184 - val_loss: 0.6000\n",
      "Epoch 94/100\n",
      "\u001b[1m210/210\u001b[0m \u001b[32m━━━━━━━━━━━━━━━━━━━━\u001b[0m\u001b[37m\u001b[0m \u001b[1m1s\u001b[0m 5ms/step - accuracy: 0.8203 - loss: 0.5865 - val_accuracy: 0.8185 - val_loss: 0.5999\n",
      "Epoch 95/100\n",
      "\u001b[1m210/210\u001b[0m \u001b[32m━━━━━━━━━━━━━━━━━━━━\u001b[0m\u001b[37m\u001b[0m \u001b[1m1s\u001b[0m 5ms/step - accuracy: 0.8204 - loss: 0.5863 - val_accuracy: 0.8185 - val_loss: 0.5998\n",
      "Epoch 96/100\n",
      "\u001b[1m210/210\u001b[0m \u001b[32m━━━━━━━━━━━━━━━━━━━━\u001b[0m\u001b[37m\u001b[0m \u001b[1m1s\u001b[0m 5ms/step - accuracy: 0.8203 - loss: 0.5862 - val_accuracy: 0.8186 - val_loss: 0.5996\n",
      "Epoch 97/100\n",
      "\u001b[1m210/210\u001b[0m \u001b[32m━━━━━━━━━━━━━━━━━━━━\u001b[0m\u001b[37m\u001b[0m \u001b[1m1s\u001b[0m 5ms/step - accuracy: 0.8204 - loss: 0.5860 - val_accuracy: 0.8187 - val_loss: 0.5995\n",
      "Epoch 98/100\n",
      "\u001b[1m210/210\u001b[0m \u001b[32m━━━━━━━━━━━━━━━━━━━━\u001b[0m\u001b[37m\u001b[0m \u001b[1m1s\u001b[0m 5ms/step - accuracy: 0.8205 - loss: 0.5858 - val_accuracy: 0.8187 - val_loss: 0.5994\n",
      "Epoch 99/100\n",
      "\u001b[1m210/210\u001b[0m \u001b[32m━━━━━━━━━━━━━━━━━━━━\u001b[0m\u001b[37m\u001b[0m \u001b[1m1s\u001b[0m 5ms/step - accuracy: 0.8206 - loss: 0.5857 - val_accuracy: 0.8188 - val_loss: 0.5992\n",
      "Epoch 100/100\n",
      "\u001b[1m210/210\u001b[0m \u001b[32m━━━━━━━━━━━━━━━━━━━━\u001b[0m\u001b[37m\u001b[0m \u001b[1m1s\u001b[0m 5ms/step - accuracy: 0.8206 - loss: 0.5855 - val_accuracy: 0.8188 - val_loss: 0.5991\n"
     ]
    }
   ],
   "source": [
    "#Setting the learning rate  and decay in sgd\n",
    "sgd = optimizers.SGD(0.0001)\n",
    "# compiling the ANN classifier\n",
    "keras_model.compile(optimizer = sgd, loss = 'categorical_crossentropy', metrics = ['accuracy'])\n",
    "# Fitting the ANN to the Training data\n",
    "history = keras_model.fit(X_train, y_train, validation_data=(X_val,y_val),batch_size = 200, epochs = 100, verbose = 1)"
   ]
  },
  {
   "cell_type": "markdown",
   "metadata": {
    "id": "uT9Ixg021HHc"
   },
   "source": [
    "- Model 3 accuracy stands at 82%."
   ]
  },
  {
   "cell_type": "markdown",
   "metadata": {
    "id": "NI4RKjyU2rPz"
   },
   "source": [
    "#### MODEL-4: We will use ADAM optimizer with same learning rate(0.0001) and epochs(100)."
   ]
  },
  {
   "cell_type": "code",
   "execution_count": 26,
   "metadata": {
    "colab": {
     "base_uri": "https://localhost:8080/"
    },
    "executionInfo": {
     "elapsed": 147545,
     "status": "ok",
     "timestamp": 1714709447755,
     "user": {
      "displayName": "Ramana Reddy",
      "userId": "14322252769386133087"
     },
     "user_tz": -330
    },
    "id": "B_ghdfE029yo",
    "outputId": "11e21088-daed-42d3-f373-84e74d1c7660"
   },
   "outputs": [
    {
     "name": "stdout",
     "output_type": "stream",
     "text": [
      "Epoch 1/100\n",
      "\u001b[1m210/210\u001b[0m \u001b[32m━━━━━━━━━━━━━━━━━━━━\u001b[0m\u001b[37m\u001b[0m \u001b[1m5s\u001b[0m 9ms/step - accuracy: 0.8142 - loss: 0.6021 - val_accuracy: 0.8108 - val_loss: 0.6156\n",
      "Epoch 2/100\n",
      "\u001b[1m210/210\u001b[0m \u001b[32m━━━━━━━━━━━━━━━━━━━━\u001b[0m\u001b[37m\u001b[0m \u001b[1m3s\u001b[0m 6ms/step - accuracy: 0.8170 - loss: 0.5880 - val_accuracy: 0.8119 - val_loss: 0.6097\n",
      "Epoch 3/100\n",
      "\u001b[1m210/210\u001b[0m \u001b[32m━━━━━━━━━━━━━━━━━━━━\u001b[0m\u001b[37m\u001b[0m \u001b[1m1s\u001b[0m 6ms/step - accuracy: 0.8212 - loss: 0.5773 - val_accuracy: 0.8158 - val_loss: 0.5996\n",
      "Epoch 4/100\n",
      "\u001b[1m210/210\u001b[0m \u001b[32m━━━━━━━━━━━━━━━━━━━━\u001b[0m\u001b[37m\u001b[0m \u001b[1m1s\u001b[0m 5ms/step - accuracy: 0.8241 - loss: 0.5669 - val_accuracy: 0.8174 - val_loss: 0.5939\n",
      "Epoch 5/100\n",
      "\u001b[1m210/210\u001b[0m \u001b[32m━━━━━━━━━━━━━━━━━━━━\u001b[0m\u001b[37m\u001b[0m \u001b[1m1s\u001b[0m 6ms/step - accuracy: 0.8275 - loss: 0.5583 - val_accuracy: 0.8198 - val_loss: 0.5885\n",
      "Epoch 6/100\n",
      "\u001b[1m210/210\u001b[0m \u001b[32m━━━━━━━━━━━━━━━━━━━━\u001b[0m\u001b[37m\u001b[0m \u001b[1m1s\u001b[0m 7ms/step - accuracy: 0.8297 - loss: 0.5501 - val_accuracy: 0.8217 - val_loss: 0.5816\n",
      "Epoch 7/100\n",
      "\u001b[1m210/210\u001b[0m \u001b[32m━━━━━━━━━━━━━━━━━━━━\u001b[0m\u001b[37m\u001b[0m \u001b[1m2s\u001b[0m 5ms/step - accuracy: 0.8319 - loss: 0.5422 - val_accuracy: 0.8224 - val_loss: 0.5782\n",
      "Epoch 8/100\n",
      "\u001b[1m210/210\u001b[0m \u001b[32m━━━━━━━━━━━━━━━━━━━━\u001b[0m\u001b[37m\u001b[0m \u001b[1m1s\u001b[0m 6ms/step - accuracy: 0.8344 - loss: 0.5354 - val_accuracy: 0.8253 - val_loss: 0.5698\n",
      "Epoch 9/100\n",
      "\u001b[1m210/210\u001b[0m \u001b[32m━━━━━━━━━━━━━━━━━━━━\u001b[0m\u001b[37m\u001b[0m \u001b[1m1s\u001b[0m 5ms/step - accuracy: 0.8364 - loss: 0.5280 - val_accuracy: 0.8274 - val_loss: 0.5632\n",
      "Epoch 10/100\n",
      "\u001b[1m210/210\u001b[0m \u001b[32m━━━━━━━━━━━━━━━━━━━━\u001b[0m\u001b[37m\u001b[0m \u001b[1m1s\u001b[0m 6ms/step - accuracy: 0.8393 - loss: 0.5208 - val_accuracy: 0.8282 - val_loss: 0.5609\n",
      "Epoch 11/100\n",
      "\u001b[1m210/210\u001b[0m \u001b[32m━━━━━━━━━━━━━━━━━━━━\u001b[0m\u001b[37m\u001b[0m \u001b[1m1s\u001b[0m 6ms/step - accuracy: 0.8419 - loss: 0.5139 - val_accuracy: 0.8295 - val_loss: 0.5563\n",
      "Epoch 12/100\n",
      "\u001b[1m210/210\u001b[0m \u001b[32m━━━━━━━━━━━━━━━━━━━━\u001b[0m\u001b[37m\u001b[0m \u001b[1m1s\u001b[0m 5ms/step - accuracy: 0.8431 - loss: 0.5080 - val_accuracy: 0.8305 - val_loss: 0.5526\n",
      "Epoch 13/100\n",
      "\u001b[1m210/210\u001b[0m \u001b[32m━━━━━━━━━━━━━━━━━━━━\u001b[0m\u001b[37m\u001b[0m \u001b[1m1s\u001b[0m 5ms/step - accuracy: 0.8457 - loss: 0.5015 - val_accuracy: 0.8333 - val_loss: 0.5456\n",
      "Epoch 14/100\n",
      "\u001b[1m210/210\u001b[0m \u001b[32m━━━━━━━━━━━━━━━━━━━━\u001b[0m\u001b[37m\u001b[0m \u001b[1m1s\u001b[0m 6ms/step - accuracy: 0.8479 - loss: 0.4945 - val_accuracy: 0.8339 - val_loss: 0.5425\n",
      "Epoch 15/100\n",
      "\u001b[1m210/210\u001b[0m \u001b[32m━━━━━━━━━━━━━━━━━━━━\u001b[0m\u001b[37m\u001b[0m \u001b[1m1s\u001b[0m 7ms/step - accuracy: 0.8494 - loss: 0.4884 - val_accuracy: 0.8366 - val_loss: 0.5370\n",
      "Epoch 16/100\n",
      "\u001b[1m210/210\u001b[0m \u001b[32m━━━━━━━━━━━━━━━━━━━━\u001b[0m\u001b[37m\u001b[0m \u001b[1m2s\u001b[0m 10ms/step - accuracy: 0.8528 - loss: 0.4820 - val_accuracy: 0.8373 - val_loss: 0.5331\n",
      "Epoch 17/100\n",
      "\u001b[1m210/210\u001b[0m \u001b[32m━━━━━━━━━━━━━━━━━━━━\u001b[0m\u001b[37m\u001b[0m \u001b[1m1s\u001b[0m 6ms/step - accuracy: 0.8548 - loss: 0.4765 - val_accuracy: 0.8400 - val_loss: 0.5273\n",
      "Epoch 18/100\n",
      "\u001b[1m210/210\u001b[0m \u001b[32m━━━━━━━━━━━━━━━━━━━━\u001b[0m\u001b[37m\u001b[0m \u001b[1m2s\u001b[0m 5ms/step - accuracy: 0.8573 - loss: 0.4712 - val_accuracy: 0.8421 - val_loss: 0.5219\n",
      "Epoch 19/100\n",
      "\u001b[1m210/210\u001b[0m \u001b[32m━━━━━━━━━━━━━━━━━━━━\u001b[0m\u001b[37m\u001b[0m \u001b[1m1s\u001b[0m 5ms/step - accuracy: 0.8588 - loss: 0.4652 - val_accuracy: 0.8429 - val_loss: 0.5174\n",
      "Epoch 20/100\n",
      "\u001b[1m210/210\u001b[0m \u001b[32m━━━━━━━━━━━━━━━━━━━━\u001b[0m\u001b[37m\u001b[0m \u001b[1m1s\u001b[0m 6ms/step - accuracy: 0.8610 - loss: 0.4599 - val_accuracy: 0.8451 - val_loss: 0.5127\n",
      "Epoch 21/100\n",
      "\u001b[1m210/210\u001b[0m \u001b[32m━━━━━━━━━━━━━━━━━━━━\u001b[0m\u001b[37m\u001b[0m \u001b[1m1s\u001b[0m 5ms/step - accuracy: 0.8627 - loss: 0.4545 - val_accuracy: 0.8461 - val_loss: 0.5096\n",
      "Epoch 22/100\n",
      "\u001b[1m210/210\u001b[0m \u001b[32m━━━━━━━━━━━━━━━━━━━━\u001b[0m\u001b[37m\u001b[0m \u001b[1m1s\u001b[0m 5ms/step - accuracy: 0.8644 - loss: 0.4492 - val_accuracy: 0.8477 - val_loss: 0.5045\n",
      "Epoch 23/100\n",
      "\u001b[1m210/210\u001b[0m \u001b[32m━━━━━━━━━━━━━━━━━━━━\u001b[0m\u001b[37m\u001b[0m \u001b[1m1s\u001b[0m 6ms/step - accuracy: 0.8665 - loss: 0.4438 - val_accuracy: 0.8488 - val_loss: 0.5002\n",
      "Epoch 24/100\n",
      "\u001b[1m210/210\u001b[0m \u001b[32m━━━━━━━━━━━━━━━━━━━━\u001b[0m\u001b[37m\u001b[0m \u001b[1m1s\u001b[0m 7ms/step - accuracy: 0.8677 - loss: 0.4385 - val_accuracy: 0.8505 - val_loss: 0.4950\n",
      "Epoch 25/100\n",
      "\u001b[1m210/210\u001b[0m \u001b[32m━━━━━━━━━━━━━━━━━━━━\u001b[0m\u001b[37m\u001b[0m \u001b[1m1s\u001b[0m 7ms/step - accuracy: 0.8689 - loss: 0.4332 - val_accuracy: 0.8513 - val_loss: 0.4918\n",
      "Epoch 26/100\n",
      "\u001b[1m210/210\u001b[0m \u001b[32m━━━━━━━━━━━━━━━━━━━━\u001b[0m\u001b[37m\u001b[0m \u001b[1m1s\u001b[0m 6ms/step - accuracy: 0.8713 - loss: 0.4278 - val_accuracy: 0.8527 - val_loss: 0.4881\n",
      "Epoch 27/100\n",
      "\u001b[1m210/210\u001b[0m \u001b[32m━━━━━━━━━━━━━━━━━━━━\u001b[0m\u001b[37m\u001b[0m \u001b[1m2s\u001b[0m 5ms/step - accuracy: 0.8733 - loss: 0.4231 - val_accuracy: 0.8551 - val_loss: 0.4827\n",
      "Epoch 28/100\n",
      "\u001b[1m210/210\u001b[0m \u001b[32m━━━━━━━━━━━━━━━━━━━━\u001b[0m\u001b[37m\u001b[0m \u001b[1m1s\u001b[0m 6ms/step - accuracy: 0.8754 - loss: 0.4179 - val_accuracy: 0.8551 - val_loss: 0.4815\n",
      "Epoch 29/100\n",
      "\u001b[1m210/210\u001b[0m \u001b[32m━━━━━━━━━━━━━━━━━━━━\u001b[0m\u001b[37m\u001b[0m \u001b[1m1s\u001b[0m 5ms/step - accuracy: 0.8767 - loss: 0.4136 - val_accuracy: 0.8563 - val_loss: 0.4779\n",
      "Epoch 30/100\n",
      "\u001b[1m210/210\u001b[0m \u001b[32m━━━━━━━━━━━━━━━━━━━━\u001b[0m\u001b[37m\u001b[0m \u001b[1m1s\u001b[0m 6ms/step - accuracy: 0.8778 - loss: 0.4094 - val_accuracy: 0.8576 - val_loss: 0.4731\n",
      "Epoch 31/100\n",
      "\u001b[1m210/210\u001b[0m \u001b[32m━━━━━━━━━━━━━━━━━━━━\u001b[0m\u001b[37m\u001b[0m \u001b[1m1s\u001b[0m 5ms/step - accuracy: 0.8800 - loss: 0.4043 - val_accuracy: 0.8584 - val_loss: 0.4712\n",
      "Epoch 32/100\n",
      "\u001b[1m210/210\u001b[0m \u001b[32m━━━━━━━━━━━━━━━━━━━━\u001b[0m\u001b[37m\u001b[0m \u001b[1m1s\u001b[0m 6ms/step - accuracy: 0.8817 - loss: 0.3998 - val_accuracy: 0.8595 - val_loss: 0.4677\n",
      "Epoch 33/100\n",
      "\u001b[1m210/210\u001b[0m \u001b[32m━━━━━━━━━━━━━━━━━━━━\u001b[0m\u001b[37m\u001b[0m \u001b[1m2s\u001b[0m 9ms/step - accuracy: 0.8822 - loss: 0.3957 - val_accuracy: 0.8600 - val_loss: 0.4661\n",
      "Epoch 34/100\n",
      "\u001b[1m210/210\u001b[0m \u001b[32m━━━━━━━━━━━━━━━━━━━━\u001b[0m\u001b[37m\u001b[0m \u001b[1m1s\u001b[0m 6ms/step - accuracy: 0.8837 - loss: 0.3911 - val_accuracy: 0.8613 - val_loss: 0.4632\n",
      "Epoch 35/100\n",
      "\u001b[1m210/210\u001b[0m \u001b[32m━━━━━━━━━━━━━━━━━━━━\u001b[0m\u001b[37m\u001b[0m \u001b[1m1s\u001b[0m 6ms/step - accuracy: 0.8847 - loss: 0.3868 - val_accuracy: 0.8620 - val_loss: 0.4605\n",
      "Epoch 36/100\n",
      "\u001b[1m210/210\u001b[0m \u001b[32m━━━━━━━━━━━━━━━━━━━━\u001b[0m\u001b[37m\u001b[0m \u001b[1m1s\u001b[0m 6ms/step - accuracy: 0.8858 - loss: 0.3823 - val_accuracy: 0.8623 - val_loss: 0.4582\n",
      "Epoch 37/100\n",
      "\u001b[1m210/210\u001b[0m \u001b[32m━━━━━━━━━━━━━━━━━━━━\u001b[0m\u001b[37m\u001b[0m \u001b[1m1s\u001b[0m 6ms/step - accuracy: 0.8869 - loss: 0.3777 - val_accuracy: 0.8648 - val_loss: 0.4528\n",
      "Epoch 38/100\n",
      "\u001b[1m210/210\u001b[0m \u001b[32m━━━━━━━━━━━━━━━━━━━━\u001b[0m\u001b[37m\u001b[0m \u001b[1m1s\u001b[0m 5ms/step - accuracy: 0.8876 - loss: 0.3739 - val_accuracy: 0.8662 - val_loss: 0.4491\n",
      "Epoch 39/100\n",
      "\u001b[1m210/210\u001b[0m \u001b[32m━━━━━━━━━━━━━━━━━━━━\u001b[0m\u001b[37m\u001b[0m \u001b[1m1s\u001b[0m 6ms/step - accuracy: 0.8893 - loss: 0.3693 - val_accuracy: 0.8665 - val_loss: 0.4484\n",
      "Epoch 40/100\n",
      "\u001b[1m210/210\u001b[0m \u001b[32m━━━━━━━━━━━━━━━━━━━━\u001b[0m\u001b[37m\u001b[0m \u001b[1m1s\u001b[0m 6ms/step - accuracy: 0.8906 - loss: 0.3654 - val_accuracy: 0.8675 - val_loss: 0.4455\n",
      "Epoch 41/100\n",
      "\u001b[1m210/210\u001b[0m \u001b[32m━━━━━━━━━━━━━━━━━━━━\u001b[0m\u001b[37m\u001b[0m \u001b[1m1s\u001b[0m 5ms/step - accuracy: 0.8921 - loss: 0.3612 - val_accuracy: 0.8691 - val_loss: 0.4415\n",
      "Epoch 42/100\n",
      "\u001b[1m210/210\u001b[0m \u001b[32m━━━━━━━━━━━━━━━━━━━━\u001b[0m\u001b[37m\u001b[0m \u001b[1m1s\u001b[0m 6ms/step - accuracy: 0.8937 - loss: 0.3569 - val_accuracy: 0.8703 - val_loss: 0.4383\n",
      "Epoch 43/100\n",
      "\u001b[1m210/210\u001b[0m \u001b[32m━━━━━━━━━━━━━━━━━━━━\u001b[0m\u001b[37m\u001b[0m \u001b[1m1s\u001b[0m 7ms/step - accuracy: 0.8948 - loss: 0.3529 - val_accuracy: 0.8698 - val_loss: 0.4375\n",
      "Epoch 44/100\n",
      "\u001b[1m210/210\u001b[0m \u001b[32m━━━━━━━━━━━━━━━━━━━━\u001b[0m\u001b[37m\u001b[0m \u001b[1m2s\u001b[0m 6ms/step - accuracy: 0.8961 - loss: 0.3491 - val_accuracy: 0.8704 - val_loss: 0.4375\n",
      "Epoch 45/100\n",
      "\u001b[1m210/210\u001b[0m \u001b[32m━━━━━━━━━━━━━━━━━━━━\u001b[0m\u001b[37m\u001b[0m \u001b[1m1s\u001b[0m 5ms/step - accuracy: 0.8967 - loss: 0.3451 - val_accuracy: 0.8698 - val_loss: 0.4373\n",
      "Epoch 46/100\n",
      "\u001b[1m210/210\u001b[0m \u001b[32m━━━━━━━━━━━━━━━━━━━━\u001b[0m\u001b[37m\u001b[0m \u001b[1m1s\u001b[0m 6ms/step - accuracy: 0.8984 - loss: 0.3411 - val_accuracy: 0.8705 - val_loss: 0.4348\n",
      "Epoch 47/100\n",
      "\u001b[1m210/210\u001b[0m \u001b[32m━━━━━━━━━━━━━━━━━━━━\u001b[0m\u001b[37m\u001b[0m \u001b[1m1s\u001b[0m 5ms/step - accuracy: 0.8991 - loss: 0.3372 - val_accuracy: 0.8714 - val_loss: 0.4328\n",
      "Epoch 48/100\n",
      "\u001b[1m210/210\u001b[0m \u001b[32m━━━━━━━━━━━━━━━━━━━━\u001b[0m\u001b[37m\u001b[0m \u001b[1m1s\u001b[0m 5ms/step - accuracy: 0.9004 - loss: 0.3338 - val_accuracy: 0.8714 - val_loss: 0.4338\n",
      "Epoch 49/100\n",
      "\u001b[1m210/210\u001b[0m \u001b[32m━━━━━━━━━━━━━━━━━━━━\u001b[0m\u001b[37m\u001b[0m \u001b[1m1s\u001b[0m 5ms/step - accuracy: 0.9015 - loss: 0.3307 - val_accuracy: 0.8716 - val_loss: 0.4333\n",
      "Epoch 50/100\n",
      "\u001b[1m210/210\u001b[0m \u001b[32m━━━━━━━━━━━━━━━━━━━━\u001b[0m\u001b[37m\u001b[0m \u001b[1m1s\u001b[0m 5ms/step - accuracy: 0.9025 - loss: 0.3275 - val_accuracy: 0.8717 - val_loss: 0.4315\n",
      "Epoch 51/100\n",
      "\u001b[1m210/210\u001b[0m \u001b[32m━━━━━━━━━━━━━━━━━━━━\u001b[0m\u001b[37m\u001b[0m \u001b[1m1s\u001b[0m 6ms/step - accuracy: 0.9032 - loss: 0.3240 - val_accuracy: 0.8734 - val_loss: 0.4281\n",
      "Epoch 52/100\n",
      "\u001b[1m210/210\u001b[0m \u001b[32m━━━━━━━━━━━━━━━━━━━━\u001b[0m\u001b[37m\u001b[0m \u001b[1m1s\u001b[0m 7ms/step - accuracy: 0.9046 - loss: 0.3206 - val_accuracy: 0.8735 - val_loss: 0.4270\n",
      "Epoch 53/100\n",
      "\u001b[1m210/210\u001b[0m \u001b[32m━━━━━━━━━━━━━━━━━━━━\u001b[0m\u001b[37m\u001b[0m \u001b[1m1s\u001b[0m 7ms/step - accuracy: 0.9049 - loss: 0.3174 - val_accuracy: 0.8737 - val_loss: 0.4272\n",
      "Epoch 54/100\n",
      "\u001b[1m210/210\u001b[0m \u001b[32m━━━━━━━━━━━━━━━━━━━━\u001b[0m\u001b[37m\u001b[0m \u001b[1m1s\u001b[0m 5ms/step - accuracy: 0.9062 - loss: 0.3143 - val_accuracy: 0.8747 - val_loss: 0.4244\n",
      "Epoch 55/100\n",
      "\u001b[1m210/210\u001b[0m \u001b[32m━━━━━━━━━━━━━━━━━━━━\u001b[0m\u001b[37m\u001b[0m \u001b[1m1s\u001b[0m 5ms/step - accuracy: 0.9073 - loss: 0.3110 - val_accuracy: 0.8747 - val_loss: 0.4243\n",
      "Epoch 56/100\n",
      "\u001b[1m210/210\u001b[0m \u001b[32m━━━━━━━━━━━━━━━━━━━━\u001b[0m\u001b[37m\u001b[0m \u001b[1m1s\u001b[0m 6ms/step - accuracy: 0.9080 - loss: 0.3078 - val_accuracy: 0.8754 - val_loss: 0.4229\n",
      "Epoch 57/100\n",
      "\u001b[1m210/210\u001b[0m \u001b[32m━━━━━━━━━━━━━━━━━━━━\u001b[0m\u001b[37m\u001b[0m \u001b[1m1s\u001b[0m 5ms/step - accuracy: 0.9097 - loss: 0.3045 - val_accuracy: 0.8761 - val_loss: 0.4218\n",
      "Epoch 58/100\n",
      "\u001b[1m210/210\u001b[0m \u001b[32m━━━━━━━━━━━━━━━━━━━━\u001b[0m\u001b[37m\u001b[0m \u001b[1m1s\u001b[0m 6ms/step - accuracy: 0.9102 - loss: 0.3014 - val_accuracy: 0.8758 - val_loss: 0.4227\n",
      "Epoch 59/100\n",
      "\u001b[1m210/210\u001b[0m \u001b[32m━━━━━━━━━━━━━━━━━━━━\u001b[0m\u001b[37m\u001b[0m \u001b[1m1s\u001b[0m 5ms/step - accuracy: 0.9108 - loss: 0.2990 - val_accuracy: 0.8773 - val_loss: 0.4194\n",
      "Epoch 60/100\n",
      "\u001b[1m210/210\u001b[0m \u001b[32m━━━━━━━━━━━━━━━━━━━━\u001b[0m\u001b[37m\u001b[0m \u001b[1m1s\u001b[0m 5ms/step - accuracy: 0.9116 - loss: 0.2962 - val_accuracy: 0.8766 - val_loss: 0.4210\n",
      "Epoch 61/100\n",
      "\u001b[1m210/210\u001b[0m \u001b[32m━━━━━━━━━━━━━━━━━━━━\u001b[0m\u001b[37m\u001b[0m \u001b[1m1s\u001b[0m 6ms/step - accuracy: 0.9127 - loss: 0.2928 - val_accuracy: 0.8766 - val_loss: 0.4213\n",
      "Epoch 62/100\n",
      "\u001b[1m210/210\u001b[0m \u001b[32m━━━━━━━━━━━━━━━━━━━━\u001b[0m\u001b[37m\u001b[0m \u001b[1m1s\u001b[0m 6ms/step - accuracy: 0.9137 - loss: 0.2899 - val_accuracy: 0.8780 - val_loss: 0.4178\n",
      "Epoch 63/100\n",
      "\u001b[1m210/210\u001b[0m \u001b[32m━━━━━━━━━━━━━━━━━━━━\u001b[0m\u001b[37m\u001b[0m \u001b[1m2s\u001b[0m 8ms/step - accuracy: 0.9153 - loss: 0.2865 - val_accuracy: 0.8790 - val_loss: 0.4168\n",
      "Epoch 64/100\n",
      "\u001b[1m210/210\u001b[0m \u001b[32m━━━━━━━━━━━━━━━━━━━━\u001b[0m\u001b[37m\u001b[0m \u001b[1m2s\u001b[0m 10ms/step - accuracy: 0.9158 - loss: 0.2835 - val_accuracy: 0.8796 - val_loss: 0.4140\n",
      "Epoch 65/100\n",
      "\u001b[1m210/210\u001b[0m \u001b[32m━━━━━━━━━━━━━━━━━━━━\u001b[0m\u001b[37m\u001b[0m \u001b[1m2s\u001b[0m 7ms/step - accuracy: 0.9169 - loss: 0.2799 - val_accuracy: 0.8803 - val_loss: 0.4134\n",
      "Epoch 66/100\n",
      "\u001b[1m210/210\u001b[0m \u001b[32m━━━━━━━━━━━━━━━━━━━━\u001b[0m\u001b[37m\u001b[0m \u001b[1m2s\u001b[0m 6ms/step - accuracy: 0.9173 - loss: 0.2773 - val_accuracy: 0.8808 - val_loss: 0.4117\n",
      "Epoch 67/100\n",
      "\u001b[1m210/210\u001b[0m \u001b[32m━━━━━━━━━━━━━━━━━━━━\u001b[0m\u001b[37m\u001b[0m \u001b[1m1s\u001b[0m 5ms/step - accuracy: 0.9186 - loss: 0.2748 - val_accuracy: 0.8810 - val_loss: 0.4111\n",
      "Epoch 68/100\n",
      "\u001b[1m210/210\u001b[0m \u001b[32m━━━━━━━━━━━━━━━━━━━━\u001b[0m\u001b[37m\u001b[0m \u001b[1m1s\u001b[0m 6ms/step - accuracy: 0.9190 - loss: 0.2723 - val_accuracy: 0.8831 - val_loss: 0.4063\n",
      "Epoch 69/100\n",
      "\u001b[1m210/210\u001b[0m \u001b[32m━━━━━━━━━━━━━━━━━━━━\u001b[0m\u001b[37m\u001b[0m \u001b[1m3s\u001b[0m 6ms/step - accuracy: 0.9198 - loss: 0.2697 - val_accuracy: 0.8843 - val_loss: 0.4033\n",
      "Epoch 70/100\n",
      "\u001b[1m210/210\u001b[0m \u001b[32m━━━━━━━━━━━━━━━━━━━━\u001b[0m\u001b[37m\u001b[0m \u001b[1m3s\u001b[0m 10ms/step - accuracy: 0.9211 - loss: 0.2667 - val_accuracy: 0.8847 - val_loss: 0.4006\n",
      "Epoch 71/100\n",
      "\u001b[1m210/210\u001b[0m \u001b[32m━━━━━━━━━━━━━━━━━━━━\u001b[0m\u001b[37m\u001b[0m \u001b[1m2s\u001b[0m 6ms/step - accuracy: 0.9218 - loss: 0.2638 - val_accuracy: 0.8856 - val_loss: 0.3996\n",
      "Epoch 72/100\n",
      "\u001b[1m210/210\u001b[0m \u001b[32m━━━━━━━━━━━━━━━━━━━━\u001b[0m\u001b[37m\u001b[0m \u001b[1m1s\u001b[0m 6ms/step - accuracy: 0.9226 - loss: 0.2612 - val_accuracy: 0.8866 - val_loss: 0.3981\n",
      "Epoch 73/100\n",
      "\u001b[1m210/210\u001b[0m \u001b[32m━━━━━━━━━━━━━━━━━━━━\u001b[0m\u001b[37m\u001b[0m \u001b[1m1s\u001b[0m 6ms/step - accuracy: 0.9229 - loss: 0.2596 - val_accuracy: 0.8874 - val_loss: 0.3969\n",
      "Epoch 74/100\n",
      "\u001b[1m210/210\u001b[0m \u001b[32m━━━━━━━━━━━━━━━━━━━━\u001b[0m\u001b[37m\u001b[0m \u001b[1m1s\u001b[0m 6ms/step - accuracy: 0.9240 - loss: 0.2568 - val_accuracy: 0.8876 - val_loss: 0.3956\n",
      "Epoch 75/100\n",
      "\u001b[1m210/210\u001b[0m \u001b[32m━━━━━━━━━━━━━━━━━━━━\u001b[0m\u001b[37m\u001b[0m \u001b[1m1s\u001b[0m 5ms/step - accuracy: 0.9246 - loss: 0.2546 - val_accuracy: 0.8885 - val_loss: 0.3929\n",
      "Epoch 76/100\n",
      "\u001b[1m210/210\u001b[0m \u001b[32m━━━━━━━━━━━━━━━━━━━━\u001b[0m\u001b[37m\u001b[0m \u001b[1m1s\u001b[0m 5ms/step - accuracy: 0.9253 - loss: 0.2528 - val_accuracy: 0.8885 - val_loss: 0.3938\n",
      "Epoch 77/100\n",
      "\u001b[1m210/210\u001b[0m \u001b[32m━━━━━━━━━━━━━━━━━━━━\u001b[0m\u001b[37m\u001b[0m \u001b[1m1s\u001b[0m 5ms/step - accuracy: 0.9268 - loss: 0.2510 - val_accuracy: 0.8890 - val_loss: 0.3929\n",
      "Epoch 78/100\n",
      "\u001b[1m210/210\u001b[0m \u001b[32m━━━━━━━━━━━━━━━━━━━━\u001b[0m\u001b[37m\u001b[0m \u001b[1m1s\u001b[0m 5ms/step - accuracy: 0.9260 - loss: 0.2490 - val_accuracy: 0.8883 - val_loss: 0.3934\n",
      "Epoch 79/100\n",
      "\u001b[1m210/210\u001b[0m \u001b[32m━━━━━━━━━━━━━━━━━━━━\u001b[0m\u001b[37m\u001b[0m \u001b[1m2s\u001b[0m 10ms/step - accuracy: 0.9270 - loss: 0.2466 - val_accuracy: 0.8904 - val_loss: 0.3903\n",
      "Epoch 80/100\n",
      "\u001b[1m210/210\u001b[0m \u001b[32m━━━━━━━━━━━━━━━━━━━━\u001b[0m\u001b[37m\u001b[0m \u001b[1m1s\u001b[0m 6ms/step - accuracy: 0.9272 - loss: 0.2451 - val_accuracy: 0.8899 - val_loss: 0.3916\n",
      "Epoch 81/100\n",
      "\u001b[1m210/210\u001b[0m \u001b[32m━━━━━━━━━━━━━━━━━━━━\u001b[0m\u001b[37m\u001b[0m \u001b[1m1s\u001b[0m 6ms/step - accuracy: 0.9276 - loss: 0.2431 - val_accuracy: 0.8899 - val_loss: 0.3903\n",
      "Epoch 82/100\n",
      "\u001b[1m210/210\u001b[0m \u001b[32m━━━━━━━━━━━━━━━━━━━━\u001b[0m\u001b[37m\u001b[0m \u001b[1m1s\u001b[0m 6ms/step - accuracy: 0.9285 - loss: 0.2415 - val_accuracy: 0.8906 - val_loss: 0.3897\n",
      "Epoch 83/100\n",
      "\u001b[1m210/210\u001b[0m \u001b[32m━━━━━━━━━━━━━━━━━━━━\u001b[0m\u001b[37m\u001b[0m \u001b[1m1s\u001b[0m 6ms/step - accuracy: 0.9286 - loss: 0.2395 - val_accuracy: 0.8902 - val_loss: 0.3915\n",
      "Epoch 84/100\n",
      "\u001b[1m210/210\u001b[0m \u001b[32m━━━━━━━━━━━━━━━━━━━━\u001b[0m\u001b[37m\u001b[0m \u001b[1m1s\u001b[0m 5ms/step - accuracy: 0.9294 - loss: 0.2370 - val_accuracy: 0.8910 - val_loss: 0.3890\n",
      "Epoch 85/100\n",
      "\u001b[1m210/210\u001b[0m \u001b[32m━━━━━━━━━━━━━━━━━━━━\u001b[0m\u001b[37m\u001b[0m \u001b[1m1s\u001b[0m 6ms/step - accuracy: 0.9296 - loss: 0.2359 - val_accuracy: 0.8910 - val_loss: 0.3894\n",
      "Epoch 86/100\n",
      "\u001b[1m210/210\u001b[0m \u001b[32m━━━━━━━━━━━━━━━━━━━━\u001b[0m\u001b[37m\u001b[0m \u001b[1m1s\u001b[0m 6ms/step - accuracy: 0.9298 - loss: 0.2347 - val_accuracy: 0.8892 - val_loss: 0.3941\n",
      "Epoch 87/100\n",
      "\u001b[1m210/210\u001b[0m \u001b[32m━━━━━━━━━━━━━━━━━━━━\u001b[0m\u001b[37m\u001b[0m \u001b[1m1s\u001b[0m 5ms/step - accuracy: 0.9301 - loss: 0.2335 - val_accuracy: 0.8898 - val_loss: 0.3940\n",
      "Epoch 88/100\n",
      "\u001b[1m210/210\u001b[0m \u001b[32m━━━━━━━━━━━━━━━━━━━━\u001b[0m\u001b[37m\u001b[0m \u001b[1m1s\u001b[0m 6ms/step - accuracy: 0.9304 - loss: 0.2318 - val_accuracy: 0.8899 - val_loss: 0.3949\n",
      "Epoch 89/100\n",
      "\u001b[1m210/210\u001b[0m \u001b[32m━━━━━━━━━━━━━━━━━━━━\u001b[0m\u001b[37m\u001b[0m \u001b[1m1s\u001b[0m 7ms/step - accuracy: 0.9312 - loss: 0.2305 - val_accuracy: 0.8888 - val_loss: 0.3977\n",
      "Epoch 90/100\n",
      "\u001b[1m210/210\u001b[0m \u001b[32m━━━━━━━━━━━━━━━━━━━━\u001b[0m\u001b[37m\u001b[0m \u001b[1m1s\u001b[0m 7ms/step - accuracy: 0.9317 - loss: 0.2288 - val_accuracy: 0.8867 - val_loss: 0.4055\n",
      "Epoch 91/100\n",
      "\u001b[1m210/210\u001b[0m \u001b[32m━━━━━━━━━━━━━━━━━━━━\u001b[0m\u001b[37m\u001b[0m \u001b[1m2s\u001b[0m 5ms/step - accuracy: 0.9321 - loss: 0.2277 - val_accuracy: 0.8860 - val_loss: 0.4086\n",
      "Epoch 92/100\n",
      "\u001b[1m210/210\u001b[0m \u001b[32m━━━━━━━━━━━━━━━━━━━━\u001b[0m\u001b[37m\u001b[0m \u001b[1m1s\u001b[0m 5ms/step - accuracy: 0.9327 - loss: 0.2257 - val_accuracy: 0.8863 - val_loss: 0.4092\n",
      "Epoch 93/100\n",
      "\u001b[1m210/210\u001b[0m \u001b[32m━━━━━━━━━━━━━━━━━━━━\u001b[0m\u001b[37m\u001b[0m \u001b[1m1s\u001b[0m 6ms/step - accuracy: 0.9327 - loss: 0.2238 - val_accuracy: 0.8851 - val_loss: 0.4139\n",
      "Epoch 94/100\n",
      "\u001b[1m210/210\u001b[0m \u001b[32m━━━━━━━━━━━━━━━━━━━━\u001b[0m\u001b[37m\u001b[0m \u001b[1m1s\u001b[0m 5ms/step - accuracy: 0.9329 - loss: 0.2227 - val_accuracy: 0.8825 - val_loss: 0.4224\n",
      "Epoch 95/100\n",
      "\u001b[1m210/210\u001b[0m \u001b[32m━━━━━━━━━━━━━━━━━━━━\u001b[0m\u001b[37m\u001b[0m \u001b[1m1s\u001b[0m 5ms/step - accuracy: 0.9326 - loss: 0.2220 - val_accuracy: 0.8848 - val_loss: 0.4175\n",
      "Epoch 96/100\n",
      "\u001b[1m210/210\u001b[0m \u001b[32m━━━━━━━━━━━━━━━━━━━━\u001b[0m\u001b[37m\u001b[0m \u001b[1m1s\u001b[0m 5ms/step - accuracy: 0.9340 - loss: 0.2198 - val_accuracy: 0.8833 - val_loss: 0.4223\n",
      "Epoch 97/100\n",
      "\u001b[1m210/210\u001b[0m \u001b[32m━━━━━━━━━━━━━━━━━━━━\u001b[0m\u001b[37m\u001b[0m \u001b[1m1s\u001b[0m 6ms/step - accuracy: 0.9342 - loss: 0.2176 - val_accuracy: 0.8842 - val_loss: 0.4194\n",
      "Epoch 98/100\n",
      "\u001b[1m210/210\u001b[0m \u001b[32m━━━━━━━━━━━━━━━━━━━━\u001b[0m\u001b[37m\u001b[0m \u001b[1m2s\u001b[0m 9ms/step - accuracy: 0.9350 - loss: 0.2145 - val_accuracy: 0.8857 - val_loss: 0.4175\n",
      "Epoch 99/100\n",
      "\u001b[1m210/210\u001b[0m \u001b[32m━━━━━━━━━━━━━━━━━━━━\u001b[0m\u001b[37m\u001b[0m \u001b[1m2s\u001b[0m 6ms/step - accuracy: 0.9362 - loss: 0.2123 - val_accuracy: 0.8865 - val_loss: 0.4145\n",
      "Epoch 100/100\n",
      "\u001b[1m210/210\u001b[0m \u001b[32m━━━━━━━━━━━━━━━━━━━━\u001b[0m\u001b[37m\u001b[0m \u001b[1m1s\u001b[0m 6ms/step - accuracy: 0.9380 - loss: 0.2091 - val_accuracy: 0.8868 - val_loss: 0.4154\n"
     ]
    }
   ],
   "source": [
    "#Setting the learning rate  and decay in sgd\n",
    "adam = optimizers.Adam(0.0001)\n",
    "# compiling the ANN classifier\n",
    "keras_model.compile(optimizer = adam, loss = 'categorical_crossentropy', metrics = ['accuracy'])\n",
    "# Fitting the ANN to the Training data\n",
    "history_1 = keras_model.fit(X_train, y_train, validation_data=(X_val,y_val),batch_size = 200, epochs = 100, verbose = 1)"
   ]
  },
  {
   "cell_type": "markdown",
   "metadata": {
    "id": "bzWaKtqD3H3M"
   },
   "source": [
    "With MODEL-4, the accuracy of the model on Train and Val data using ADAM with learning rate=0.0001 has shown significant improvement (Train:84%, Val:89%).."
   ]
  },
  {
   "cell_type": "code",
   "execution_count": 27,
   "metadata": {
    "colab": {
     "base_uri": "https://localhost:8080/"
    },
    "executionInfo": {
     "elapsed": 5921,
     "status": "ok",
     "timestamp": 1714709453662,
     "user": {
      "displayName": "Ramana Reddy",
      "userId": "14322252769386133087"
     },
     "user_tz": -330
    },
    "id": "d-7YQKpt4A7-",
    "outputId": "4f86dcb2-9872-4445-cdb6-eebe62277019"
   },
   "outputs": [
    {
     "name": "stdout",
     "output_type": "stream",
     "text": [
      "\u001b[1m1875/1875\u001b[0m \u001b[32m━━━━━━━━━━━━━━━━━━━━\u001b[0m\u001b[37m\u001b[0m \u001b[1m4s\u001b[0m 2ms/step - accuracy: 0.8760 - loss: 0.4617\n",
      "Val_accuracy using Base NN with adam optimizer :  0.8867833614349365\n"
     ]
    }
   ],
   "source": [
    "results_nn_adam = keras_model.evaluate(X_val, y_val)\n",
    "print('Val_accuracy using Base NN with adam optimizer : ', results_nn_adam[1])"
   ]
  },
  {
   "cell_type": "markdown",
   "metadata": {
    "id": "DKIIdiER768P"
   },
   "source": [
    "#### MODEL-5: Use batch normalization, ADAM optimizer, lr:0000.1 for training the neural network."
   ]
  },
  {
   "cell_type": "code",
   "execution_count": 28,
   "metadata": {
    "executionInfo": {
     "elapsed": 21,
     "status": "ok",
     "timestamp": 1714709453663,
     "user": {
      "displayName": "Ramana Reddy",
      "userId": "14322252769386133087"
     },
     "user_tz": -330
    },
    "id": "lghfF8bR4luf"
   },
   "outputs": [],
   "source": [
    "##Initialize the Artificial Neural Network Classifier\n",
    "keras_model_1 = Sequential()"
   ]
  },
  {
   "cell_type": "code",
   "execution_count": 29,
   "metadata": {
    "executionInfo": {
     "elapsed": 21,
     "status": "ok",
     "timestamp": 1714709453663,
     "user": {
      "displayName": "Ramana Reddy",
      "userId": "14322252769386133087"
     },
     "user_tz": -330
    },
    "id": "Zx6GTuCx8XBO"
   },
   "outputs": [],
   "source": [
    "# Input Layer\n",
    "#Adding Input layer and activation functions ReLU\n",
    "keras_model_1.add(Dense(512, activation='relu', kernel_initializer='he_normal',input_shape = (1024, )))\n",
    "#Adding BatchNormalization Layer\n",
    "keras_model_1.add(BatchNormalization())\n",
    "\n",
    "#Hidden Layer 1\n",
    "#Adding first Hidden layer\n",
    "keras_model_1.add(Dense(256, activation='relu', kernel_initializer='he_normal'))\n",
    "#Adding BatchNormalization Layer\n",
    "keras_model_1.add(BatchNormalization())\n",
    "\n",
    "#Hidden Layer 2\n",
    "#Adding second Hidden layer\n",
    "keras_model_1.add(Dense(128, activation='relu', kernel_initializer='he_normal'))\n",
    "#Adding BatchNormalization Layer\n",
    "keras_model_1.add(BatchNormalization())\n",
    "\n",
    "#Hidden Layer 3\n",
    "#Adding third Hidden layer\n",
    "keras_model_1.add(Dense(64, activation='relu', kernel_initializer='he_normal'))\n",
    "#Adding BatchNormalization Layer\n",
    "keras_model_1.add(BatchNormalization())\n",
    "\n",
    "#Hidden Layer 4\n",
    "#Adding fourth Hidden layer\n",
    "keras_model_1.add(Dense(32, activation='relu', kernel_initializer='he_normal'))\n",
    "#Adding BatchNormalization Layer\n",
    "keras_model_1.add(BatchNormalization())\n",
    "\n",
    "# Output Layer\n",
    "#Adding output layer which is of 10 nodes (digits)\n",
    "keras_model_1.add(Dense(10, activation='softmax'))\n",
    "#Adding Activation function\n",
    "# Here, we are using softmax function because we have multiclass classsification"
   ]
  },
  {
   "cell_type": "code",
   "execution_count": 30,
   "metadata": {
    "colab": {
     "base_uri": "https://localhost:8080/",
     "height": 561
    },
    "executionInfo": {
     "elapsed": 20,
     "status": "ok",
     "timestamp": 1714709453663,
     "user": {
      "displayName": "Ramana Reddy",
      "userId": "14322252769386133087"
     },
     "user_tz": -330
    },
    "id": "6baHjlkN9rg9",
    "outputId": "0cc6cacd-5b70-44a2-e53e-b7f949f0696d"
   },
   "outputs": [
    {
     "data": {
      "text/html": [
       "<pre style=\"white-space:pre;overflow-x:auto;line-height:normal;font-family:Menlo,'DejaVu Sans Mono',consolas,'Courier New',monospace\"><span style=\"font-weight: bold\">Model: \"sequential_1\"</span>\n",
       "</pre>\n"
      ],
      "text/plain": [
       "\u001b[1mModel: \"sequential_1\"\u001b[0m\n"
      ]
     },
     "metadata": {},
     "output_type": "display_data"
    },
    {
     "data": {
      "text/html": [
       "<pre style=\"white-space:pre;overflow-x:auto;line-height:normal;font-family:Menlo,'DejaVu Sans Mono',consolas,'Courier New',monospace\">┏━━━━━━━━━━━━━━━━━━━━━━━━━━━━━━━━━━━━━━┳━━━━━━━━━━━━━━━━━━━━━━━━━━━━━┳━━━━━━━━━━━━━━━━━┓\n",
       "┃<span style=\"font-weight: bold\"> Layer (type)                         </span>┃<span style=\"font-weight: bold\"> Output Shape                </span>┃<span style=\"font-weight: bold\">         Param # </span>┃\n",
       "┡━━━━━━━━━━━━━━━━━━━━━━━━━━━━━━━━━━━━━━╇━━━━━━━━━━━━━━━━━━━━━━━━━━━━━╇━━━━━━━━━━━━━━━━━┩\n",
       "│ dense_6 (<span style=\"color: #0087ff; text-decoration-color: #0087ff\">Dense</span>)                      │ (<span style=\"color: #00d7ff; text-decoration-color: #00d7ff\">None</span>, <span style=\"color: #00af00; text-decoration-color: #00af00\">512</span>)                 │         <span style=\"color: #00af00; text-decoration-color: #00af00\">524,800</span> │\n",
       "├──────────────────────────────────────┼─────────────────────────────┼─────────────────┤\n",
       "│ batch_normalization                  │ (<span style=\"color: #00d7ff; text-decoration-color: #00d7ff\">None</span>, <span style=\"color: #00af00; text-decoration-color: #00af00\">512</span>)                 │           <span style=\"color: #00af00; text-decoration-color: #00af00\">2,048</span> │\n",
       "│ (<span style=\"color: #0087ff; text-decoration-color: #0087ff\">BatchNormalization</span>)                 │                             │                 │\n",
       "├──────────────────────────────────────┼─────────────────────────────┼─────────────────┤\n",
       "│ dense_7 (<span style=\"color: #0087ff; text-decoration-color: #0087ff\">Dense</span>)                      │ (<span style=\"color: #00d7ff; text-decoration-color: #00d7ff\">None</span>, <span style=\"color: #00af00; text-decoration-color: #00af00\">256</span>)                 │         <span style=\"color: #00af00; text-decoration-color: #00af00\">131,328</span> │\n",
       "├──────────────────────────────────────┼─────────────────────────────┼─────────────────┤\n",
       "│ batch_normalization_1                │ (<span style=\"color: #00d7ff; text-decoration-color: #00d7ff\">None</span>, <span style=\"color: #00af00; text-decoration-color: #00af00\">256</span>)                 │           <span style=\"color: #00af00; text-decoration-color: #00af00\">1,024</span> │\n",
       "│ (<span style=\"color: #0087ff; text-decoration-color: #0087ff\">BatchNormalization</span>)                 │                             │                 │\n",
       "├──────────────────────────────────────┼─────────────────────────────┼─────────────────┤\n",
       "│ dense_8 (<span style=\"color: #0087ff; text-decoration-color: #0087ff\">Dense</span>)                      │ (<span style=\"color: #00d7ff; text-decoration-color: #00d7ff\">None</span>, <span style=\"color: #00af00; text-decoration-color: #00af00\">128</span>)                 │          <span style=\"color: #00af00; text-decoration-color: #00af00\">32,896</span> │\n",
       "├──────────────────────────────────────┼─────────────────────────────┼─────────────────┤\n",
       "│ batch_normalization_2                │ (<span style=\"color: #00d7ff; text-decoration-color: #00d7ff\">None</span>, <span style=\"color: #00af00; text-decoration-color: #00af00\">128</span>)                 │             <span style=\"color: #00af00; text-decoration-color: #00af00\">512</span> │\n",
       "│ (<span style=\"color: #0087ff; text-decoration-color: #0087ff\">BatchNormalization</span>)                 │                             │                 │\n",
       "├──────────────────────────────────────┼─────────────────────────────┼─────────────────┤\n",
       "│ dense_9 (<span style=\"color: #0087ff; text-decoration-color: #0087ff\">Dense</span>)                      │ (<span style=\"color: #00d7ff; text-decoration-color: #00d7ff\">None</span>, <span style=\"color: #00af00; text-decoration-color: #00af00\">64</span>)                  │           <span style=\"color: #00af00; text-decoration-color: #00af00\">8,256</span> │\n",
       "├──────────────────────────────────────┼─────────────────────────────┼─────────────────┤\n",
       "│ batch_normalization_3                │ (<span style=\"color: #00d7ff; text-decoration-color: #00d7ff\">None</span>, <span style=\"color: #00af00; text-decoration-color: #00af00\">64</span>)                  │             <span style=\"color: #00af00; text-decoration-color: #00af00\">256</span> │\n",
       "│ (<span style=\"color: #0087ff; text-decoration-color: #0087ff\">BatchNormalization</span>)                 │                             │                 │\n",
       "├──────────────────────────────────────┼─────────────────────────────┼─────────────────┤\n",
       "│ dense_10 (<span style=\"color: #0087ff; text-decoration-color: #0087ff\">Dense</span>)                     │ (<span style=\"color: #00d7ff; text-decoration-color: #00d7ff\">None</span>, <span style=\"color: #00af00; text-decoration-color: #00af00\">32</span>)                  │           <span style=\"color: #00af00; text-decoration-color: #00af00\">2,080</span> │\n",
       "├──────────────────────────────────────┼─────────────────────────────┼─────────────────┤\n",
       "│ batch_normalization_4                │ (<span style=\"color: #00d7ff; text-decoration-color: #00d7ff\">None</span>, <span style=\"color: #00af00; text-decoration-color: #00af00\">32</span>)                  │             <span style=\"color: #00af00; text-decoration-color: #00af00\">128</span> │\n",
       "│ (<span style=\"color: #0087ff; text-decoration-color: #0087ff\">BatchNormalization</span>)                 │                             │                 │\n",
       "├──────────────────────────────────────┼─────────────────────────────┼─────────────────┤\n",
       "│ dense_11 (<span style=\"color: #0087ff; text-decoration-color: #0087ff\">Dense</span>)                     │ (<span style=\"color: #00d7ff; text-decoration-color: #00d7ff\">None</span>, <span style=\"color: #00af00; text-decoration-color: #00af00\">10</span>)                  │             <span style=\"color: #00af00; text-decoration-color: #00af00\">330</span> │\n",
       "└──────────────────────────────────────┴─────────────────────────────┴─────────────────┘\n",
       "</pre>\n"
      ],
      "text/plain": [
       "┏━━━━━━━━━━━━━━━━━━━━━━━━━━━━━━━━━━━━━━┳━━━━━━━━━━━━━━━━━━━━━━━━━━━━━┳━━━━━━━━━━━━━━━━━┓\n",
       "┃\u001b[1m \u001b[0m\u001b[1mLayer (type)                        \u001b[0m\u001b[1m \u001b[0m┃\u001b[1m \u001b[0m\u001b[1mOutput Shape               \u001b[0m\u001b[1m \u001b[0m┃\u001b[1m \u001b[0m\u001b[1m        Param #\u001b[0m\u001b[1m \u001b[0m┃\n",
       "┡━━━━━━━━━━━━━━━━━━━━━━━━━━━━━━━━━━━━━━╇━━━━━━━━━━━━━━━━━━━━━━━━━━━━━╇━━━━━━━━━━━━━━━━━┩\n",
       "│ dense_6 (\u001b[38;5;33mDense\u001b[0m)                      │ (\u001b[38;5;45mNone\u001b[0m, \u001b[38;5;34m512\u001b[0m)                 │         \u001b[38;5;34m524,800\u001b[0m │\n",
       "├──────────────────────────────────────┼─────────────────────────────┼─────────────────┤\n",
       "│ batch_normalization                  │ (\u001b[38;5;45mNone\u001b[0m, \u001b[38;5;34m512\u001b[0m)                 │           \u001b[38;5;34m2,048\u001b[0m │\n",
       "│ (\u001b[38;5;33mBatchNormalization\u001b[0m)                 │                             │                 │\n",
       "├──────────────────────────────────────┼─────────────────────────────┼─────────────────┤\n",
       "│ dense_7 (\u001b[38;5;33mDense\u001b[0m)                      │ (\u001b[38;5;45mNone\u001b[0m, \u001b[38;5;34m256\u001b[0m)                 │         \u001b[38;5;34m131,328\u001b[0m │\n",
       "├──────────────────────────────────────┼─────────────────────────────┼─────────────────┤\n",
       "│ batch_normalization_1                │ (\u001b[38;5;45mNone\u001b[0m, \u001b[38;5;34m256\u001b[0m)                 │           \u001b[38;5;34m1,024\u001b[0m │\n",
       "│ (\u001b[38;5;33mBatchNormalization\u001b[0m)                 │                             │                 │\n",
       "├──────────────────────────────────────┼─────────────────────────────┼─────────────────┤\n",
       "│ dense_8 (\u001b[38;5;33mDense\u001b[0m)                      │ (\u001b[38;5;45mNone\u001b[0m, \u001b[38;5;34m128\u001b[0m)                 │          \u001b[38;5;34m32,896\u001b[0m │\n",
       "├──────────────────────────────────────┼─────────────────────────────┼─────────────────┤\n",
       "│ batch_normalization_2                │ (\u001b[38;5;45mNone\u001b[0m, \u001b[38;5;34m128\u001b[0m)                 │             \u001b[38;5;34m512\u001b[0m │\n",
       "│ (\u001b[38;5;33mBatchNormalization\u001b[0m)                 │                             │                 │\n",
       "├──────────────────────────────────────┼─────────────────────────────┼─────────────────┤\n",
       "│ dense_9 (\u001b[38;5;33mDense\u001b[0m)                      │ (\u001b[38;5;45mNone\u001b[0m, \u001b[38;5;34m64\u001b[0m)                  │           \u001b[38;5;34m8,256\u001b[0m │\n",
       "├──────────────────────────────────────┼─────────────────────────────┼─────────────────┤\n",
       "│ batch_normalization_3                │ (\u001b[38;5;45mNone\u001b[0m, \u001b[38;5;34m64\u001b[0m)                  │             \u001b[38;5;34m256\u001b[0m │\n",
       "│ (\u001b[38;5;33mBatchNormalization\u001b[0m)                 │                             │                 │\n",
       "├──────────────────────────────────────┼─────────────────────────────┼─────────────────┤\n",
       "│ dense_10 (\u001b[38;5;33mDense\u001b[0m)                     │ (\u001b[38;5;45mNone\u001b[0m, \u001b[38;5;34m32\u001b[0m)                  │           \u001b[38;5;34m2,080\u001b[0m │\n",
       "├──────────────────────────────────────┼─────────────────────────────┼─────────────────┤\n",
       "│ batch_normalization_4                │ (\u001b[38;5;45mNone\u001b[0m, \u001b[38;5;34m32\u001b[0m)                  │             \u001b[38;5;34m128\u001b[0m │\n",
       "│ (\u001b[38;5;33mBatchNormalization\u001b[0m)                 │                             │                 │\n",
       "├──────────────────────────────────────┼─────────────────────────────┼─────────────────┤\n",
       "│ dense_11 (\u001b[38;5;33mDense\u001b[0m)                     │ (\u001b[38;5;45mNone\u001b[0m, \u001b[38;5;34m10\u001b[0m)                  │             \u001b[38;5;34m330\u001b[0m │\n",
       "└──────────────────────────────────────┴─────────────────────────────┴─────────────────┘\n"
      ]
     },
     "metadata": {},
     "output_type": "display_data"
    },
    {
     "data": {
      "text/html": [
       "<pre style=\"white-space:pre;overflow-x:auto;line-height:normal;font-family:Menlo,'DejaVu Sans Mono',consolas,'Courier New',monospace\"><span style=\"font-weight: bold\"> Total params: </span><span style=\"color: #00af00; text-decoration-color: #00af00\">703,658</span> (2.68 MB)\n",
       "</pre>\n"
      ],
      "text/plain": [
       "\u001b[1m Total params: \u001b[0m\u001b[38;5;34m703,658\u001b[0m (2.68 MB)\n"
      ]
     },
     "metadata": {},
     "output_type": "display_data"
    },
    {
     "data": {
      "text/html": [
       "<pre style=\"white-space:pre;overflow-x:auto;line-height:normal;font-family:Menlo,'DejaVu Sans Mono',consolas,'Courier New',monospace\"><span style=\"font-weight: bold\"> Trainable params: </span><span style=\"color: #00af00; text-decoration-color: #00af00\">701,674</span> (2.68 MB)\n",
       "</pre>\n"
      ],
      "text/plain": [
       "\u001b[1m Trainable params: \u001b[0m\u001b[38;5;34m701,674\u001b[0m (2.68 MB)\n"
      ]
     },
     "metadata": {},
     "output_type": "display_data"
    },
    {
     "data": {
      "text/html": [
       "<pre style=\"white-space:pre;overflow-x:auto;line-height:normal;font-family:Menlo,'DejaVu Sans Mono',consolas,'Courier New',monospace\"><span style=\"font-weight: bold\"> Non-trainable params: </span><span style=\"color: #00af00; text-decoration-color: #00af00\">1,984</span> (7.75 KB)\n",
       "</pre>\n"
      ],
      "text/plain": [
       "\u001b[1m Non-trainable params: \u001b[0m\u001b[38;5;34m1,984\u001b[0m (7.75 KB)\n"
      ]
     },
     "metadata": {},
     "output_type": "display_data"
    }
   ],
   "source": [
    "keras_model_1.summary()"
   ]
  },
  {
   "cell_type": "markdown",
   "metadata": {
    "id": "JbnMMKGO93F6"
   },
   "source": [
    "- Use ADAM optimizer, LR=0.0001."
   ]
  },
  {
   "cell_type": "code",
   "execution_count": 31,
   "metadata": {
    "executionInfo": {
     "elapsed": 5,
     "status": "ok",
     "timestamp": 1714709453663,
     "user": {
      "displayName": "Ramana Reddy",
      "userId": "14322252769386133087"
     },
     "user_tz": -330
    },
    "id": "eeWp8iw59_ga"
   },
   "outputs": [],
   "source": [
    "#Setting the learning rate  and decay in sgd\n",
    "adam = optimizers.Adam(0.0001)\n",
    "# compiling the ANN classifier\n",
    "keras_model_1.compile(optimizer = adam, loss = 'categorical_crossentropy', metrics = ['accuracy'])"
   ]
  },
  {
   "cell_type": "code",
   "execution_count": 32,
   "metadata": {
    "colab": {
     "base_uri": "https://localhost:8080/"
    },
    "executionInfo": {
     "elapsed": 195403,
     "status": "ok",
     "timestamp": 1714709649062,
     "user": {
      "displayName": "Ramana Reddy",
      "userId": "14322252769386133087"
     },
     "user_tz": -330
    },
    "id": "ql_u_sRr-CSx",
    "outputId": "67bbb9e2-c690-4fec-8617-0f0e08080a91"
   },
   "outputs": [
    {
     "name": "stdout",
     "output_type": "stream",
     "text": [
      "Epoch 1/100\n",
      "\u001b[1m210/210\u001b[0m \u001b[32m━━━━━━━━━━━━━━━━━━━━\u001b[0m\u001b[37m\u001b[0m \u001b[1m8s\u001b[0m 11ms/step - accuracy: 0.1863 - loss: 2.4071 - val_accuracy: 0.3119 - val_loss: 2.0008\n",
      "Epoch 2/100\n",
      "\u001b[1m210/210\u001b[0m \u001b[32m━━━━━━━━━━━━━━━━━━━━\u001b[0m\u001b[37m\u001b[0m \u001b[1m6s\u001b[0m 6ms/step - accuracy: 0.4555 - loss: 1.6332 - val_accuracy: 0.5310 - val_loss: 1.4812\n",
      "Epoch 3/100\n",
      "\u001b[1m210/210\u001b[0m \u001b[32m━━━━━━━━━━━━━━━━━━━━\u001b[0m\u001b[37m\u001b[0m \u001b[1m3s\u001b[0m 7ms/step - accuracy: 0.5935 - loss: 1.3119 - val_accuracy: 0.5896 - val_loss: 1.2939\n",
      "Epoch 4/100\n",
      "\u001b[1m210/210\u001b[0m \u001b[32m━━━━━━━━━━━━━━━━━━━━\u001b[0m\u001b[37m\u001b[0m \u001b[1m2s\u001b[0m 7ms/step - accuracy: 0.6573 - loss: 1.1263 - val_accuracy: 0.6237 - val_loss: 1.1994\n",
      "Epoch 5/100\n",
      "\u001b[1m210/210\u001b[0m \u001b[32m━━━━━━━━━━━━━━━━━━━━\u001b[0m\u001b[37m\u001b[0m \u001b[1m2s\u001b[0m 6ms/step - accuracy: 0.6988 - loss: 0.9988 - val_accuracy: 0.6550 - val_loss: 1.1038\n",
      "Epoch 6/100\n",
      "\u001b[1m210/210\u001b[0m \u001b[32m━━━━━━━━━━━━━━━━━━━━\u001b[0m\u001b[37m\u001b[0m \u001b[1m3s\u001b[0m 6ms/step - accuracy: 0.7230 - loss: 0.9080 - val_accuracy: 0.6790 - val_loss: 1.0200\n",
      "Epoch 7/100\n",
      "\u001b[1m210/210\u001b[0m \u001b[32m━━━━━━━━━━━━━━━━━━━━\u001b[0m\u001b[37m\u001b[0m \u001b[1m1s\u001b[0m 6ms/step - accuracy: 0.7457 - loss: 0.8311 - val_accuracy: 0.6903 - val_loss: 0.9994\n",
      "Epoch 8/100\n",
      "\u001b[1m210/210\u001b[0m \u001b[32m━━━━━━━━━━━━━━━━━━━━\u001b[0m\u001b[37m\u001b[0m \u001b[1m2s\u001b[0m 9ms/step - accuracy: 0.7671 - loss: 0.7679 - val_accuracy: 0.7166 - val_loss: 0.9208\n",
      "Epoch 9/100\n",
      "\u001b[1m210/210\u001b[0m \u001b[32m━━━━━━━━━━━━━━━━━━━━\u001b[0m\u001b[37m\u001b[0m \u001b[1m2s\u001b[0m 7ms/step - accuracy: 0.7828 - loss: 0.7153 - val_accuracy: 0.7147 - val_loss: 0.9119\n",
      "Epoch 10/100\n",
      "\u001b[1m210/210\u001b[0m \u001b[32m━━━━━━━━━━━━━━━━━━━━\u001b[0m\u001b[37m\u001b[0m \u001b[1m1s\u001b[0m 6ms/step - accuracy: 0.7957 - loss: 0.6684 - val_accuracy: 0.7278 - val_loss: 0.8723\n",
      "Epoch 11/100\n",
      "\u001b[1m210/210\u001b[0m \u001b[32m━━━━━━━━━━━━━━━━━━━━\u001b[0m\u001b[37m\u001b[0m \u001b[1m1s\u001b[0m 6ms/step - accuracy: 0.8075 - loss: 0.6307 - val_accuracy: 0.7378 - val_loss: 0.8512\n",
      "Epoch 12/100\n",
      "\u001b[1m210/210\u001b[0m \u001b[32m━━━━━━━━━━━━━━━━━━━━\u001b[0m\u001b[37m\u001b[0m \u001b[1m1s\u001b[0m 6ms/step - accuracy: 0.8189 - loss: 0.5919 - val_accuracy: 0.7316 - val_loss: 0.8477\n",
      "Epoch 13/100\n",
      "\u001b[1m210/210\u001b[0m \u001b[32m━━━━━━━━━━━━━━━━━━━━\u001b[0m\u001b[37m\u001b[0m \u001b[1m2s\u001b[0m 6ms/step - accuracy: 0.8290 - loss: 0.5578 - val_accuracy: 0.7342 - val_loss: 0.8434\n",
      "Epoch 14/100\n",
      "\u001b[1m210/210\u001b[0m \u001b[32m━━━━━━━━━━━━━━━━━━━━\u001b[0m\u001b[37m\u001b[0m \u001b[1m1s\u001b[0m 6ms/step - accuracy: 0.8377 - loss: 0.5307 - val_accuracy: 0.7258 - val_loss: 0.8679\n",
      "Epoch 15/100\n",
      "\u001b[1m210/210\u001b[0m \u001b[32m━━━━━━━━━━━━━━━━━━━━\u001b[0m\u001b[37m\u001b[0m \u001b[1m1s\u001b[0m 6ms/step - accuracy: 0.8493 - loss: 0.4997 - val_accuracy: 0.7380 - val_loss: 0.8299\n",
      "Epoch 16/100\n",
      "\u001b[1m210/210\u001b[0m \u001b[32m━━━━━━━━━━━━━━━━━━━━\u001b[0m\u001b[37m\u001b[0m \u001b[1m2s\u001b[0m 10ms/step - accuracy: 0.8595 - loss: 0.4727 - val_accuracy: 0.7221 - val_loss: 0.8744\n",
      "Epoch 17/100\n",
      "\u001b[1m210/210\u001b[0m \u001b[32m━━━━━━━━━━━━━━━━━━━━\u001b[0m\u001b[37m\u001b[0m \u001b[1m2s\u001b[0m 7ms/step - accuracy: 0.8658 - loss: 0.4474 - val_accuracy: 0.7433 - val_loss: 0.8099\n",
      "Epoch 18/100\n",
      "\u001b[1m210/210\u001b[0m \u001b[32m━━━━━━━━━━━━━━━━━━━━\u001b[0m\u001b[37m\u001b[0m \u001b[1m1s\u001b[0m 6ms/step - accuracy: 0.8710 - loss: 0.4277 - val_accuracy: 0.7244 - val_loss: 0.8792\n",
      "Epoch 19/100\n",
      "\u001b[1m210/210\u001b[0m \u001b[32m━━━━━━━━━━━━━━━━━━━━\u001b[0m\u001b[37m\u001b[0m \u001b[1m1s\u001b[0m 6ms/step - accuracy: 0.8775 - loss: 0.4141 - val_accuracy: 0.7266 - val_loss: 0.8536\n",
      "Epoch 20/100\n",
      "\u001b[1m210/210\u001b[0m \u001b[32m━━━━━━━━━━━━━━━━━━━━\u001b[0m\u001b[37m\u001b[0m \u001b[1m1s\u001b[0m 6ms/step - accuracy: 0.8856 - loss: 0.3917 - val_accuracy: 0.7018 - val_loss: 0.9476\n",
      "Epoch 21/100\n",
      "\u001b[1m210/210\u001b[0m \u001b[32m━━━━━━━━━━━━━━━━━━━━\u001b[0m\u001b[37m\u001b[0m \u001b[1m3s\u001b[0m 6ms/step - accuracy: 0.8876 - loss: 0.3782 - val_accuracy: 0.7446 - val_loss: 0.8000\n",
      "Epoch 22/100\n",
      "\u001b[1m210/210\u001b[0m \u001b[32m━━━━━━━━━━━━━━━━━━━━\u001b[0m\u001b[37m\u001b[0m \u001b[1m3s\u001b[0m 6ms/step - accuracy: 0.8923 - loss: 0.3634 - val_accuracy: 0.7553 - val_loss: 0.7740\n",
      "Epoch 23/100\n",
      "\u001b[1m210/210\u001b[0m \u001b[32m━━━━━━━━━━━━━━━━━━━━\u001b[0m\u001b[37m\u001b[0m \u001b[1m2s\u001b[0m 10ms/step - accuracy: 0.8987 - loss: 0.3434 - val_accuracy: 0.7543 - val_loss: 0.7841\n",
      "Epoch 24/100\n",
      "\u001b[1m210/210\u001b[0m \u001b[32m━━━━━━━━━━━━━━━━━━━━\u001b[0m\u001b[37m\u001b[0m \u001b[1m1s\u001b[0m 6ms/step - accuracy: 0.9048 - loss: 0.3300 - val_accuracy: 0.7717 - val_loss: 0.7276\n",
      "Epoch 25/100\n",
      "\u001b[1m210/210\u001b[0m \u001b[32m━━━━━━━━━━━━━━━━━━━━\u001b[0m\u001b[37m\u001b[0m \u001b[1m2s\u001b[0m 6ms/step - accuracy: 0.9111 - loss: 0.3129 - val_accuracy: 0.7828 - val_loss: 0.6924\n",
      "Epoch 26/100\n",
      "\u001b[1m210/210\u001b[0m \u001b[32m━━━━━━━━━━━━━━━━━━━━\u001b[0m\u001b[37m\u001b[0m \u001b[1m1s\u001b[0m 6ms/step - accuracy: 0.9122 - loss: 0.3017 - val_accuracy: 0.7686 - val_loss: 0.7675\n",
      "Epoch 27/100\n",
      "\u001b[1m210/210\u001b[0m \u001b[32m━━━━━━━━━━━━━━━━━━━━\u001b[0m\u001b[37m\u001b[0m \u001b[1m1s\u001b[0m 6ms/step - accuracy: 0.9187 - loss: 0.2854 - val_accuracy: 0.7706 - val_loss: 0.7465\n",
      "Epoch 28/100\n",
      "\u001b[1m210/210\u001b[0m \u001b[32m━━━━━━━━━━━━━━━━━━━━\u001b[0m\u001b[37m\u001b[0m \u001b[1m1s\u001b[0m 6ms/step - accuracy: 0.9249 - loss: 0.2718 - val_accuracy: 0.7674 - val_loss: 0.7553\n",
      "Epoch 29/100\n",
      "\u001b[1m210/210\u001b[0m \u001b[32m━━━━━━━━━━━━━━━━━━━━\u001b[0m\u001b[37m\u001b[0m \u001b[1m3s\u001b[0m 7ms/step - accuracy: 0.9256 - loss: 0.2632 - val_accuracy: 0.7754 - val_loss: 0.7351\n",
      "Epoch 30/100\n",
      "\u001b[1m210/210\u001b[0m \u001b[32m━━━━━━━━━━━━━━━━━━━━\u001b[0m\u001b[37m\u001b[0m \u001b[1m2s\u001b[0m 8ms/step - accuracy: 0.9260 - loss: 0.2583 - val_accuracy: 0.7731 - val_loss: 0.7678\n",
      "Epoch 31/100\n",
      "\u001b[1m210/210\u001b[0m \u001b[32m━━━━━━━━━━━━━━━━━━━━\u001b[0m\u001b[37m\u001b[0m \u001b[1m2s\u001b[0m 6ms/step - accuracy: 0.9285 - loss: 0.2478 - val_accuracy: 0.7780 - val_loss: 0.7175\n",
      "Epoch 32/100\n",
      "\u001b[1m210/210\u001b[0m \u001b[32m━━━━━━━━━━━━━━━━━━━━\u001b[0m\u001b[37m\u001b[0m \u001b[1m3s\u001b[0m 6ms/step - accuracy: 0.9363 - loss: 0.2323 - val_accuracy: 0.7707 - val_loss: 0.7522\n",
      "Epoch 33/100\n",
      "\u001b[1m210/210\u001b[0m \u001b[32m━━━━━━━━━━━━━━━━━━━━\u001b[0m\u001b[37m\u001b[0m \u001b[1m1s\u001b[0m 6ms/step - accuracy: 0.9402 - loss: 0.2189 - val_accuracy: 0.7506 - val_loss: 0.8343\n",
      "Epoch 34/100\n",
      "\u001b[1m210/210\u001b[0m \u001b[32m━━━━━━━━━━━━━━━━━━━━\u001b[0m\u001b[37m\u001b[0m \u001b[1m1s\u001b[0m 6ms/step - accuracy: 0.9432 - loss: 0.2117 - val_accuracy: 0.7632 - val_loss: 0.8010\n",
      "Epoch 35/100\n",
      "\u001b[1m210/210\u001b[0m \u001b[32m━━━━━━━━━━━━━━━━━━━━\u001b[0m\u001b[37m\u001b[0m \u001b[1m1s\u001b[0m 6ms/step - accuracy: 0.9461 - loss: 0.1999 - val_accuracy: 0.7300 - val_loss: 0.8996\n",
      "Epoch 36/100\n",
      "\u001b[1m210/210\u001b[0m \u001b[32m━━━━━━━━━━━━━━━━━━━━\u001b[0m\u001b[37m\u001b[0m \u001b[1m3s\u001b[0m 6ms/step - accuracy: 0.9420 - loss: 0.2068 - val_accuracy: 0.7445 - val_loss: 0.8832\n",
      "Epoch 37/100\n",
      "\u001b[1m210/210\u001b[0m \u001b[32m━━━━━━━━━━━━━━━━━━━━\u001b[0m\u001b[37m\u001b[0m \u001b[1m2s\u001b[0m 8ms/step - accuracy: 0.9443 - loss: 0.1957 - val_accuracy: 0.7611 - val_loss: 0.8317\n",
      "Epoch 38/100\n",
      "\u001b[1m210/210\u001b[0m \u001b[32m━━━━━━━━━━━━━━━━━━━━\u001b[0m\u001b[37m\u001b[0m \u001b[1m2s\u001b[0m 6ms/step - accuracy: 0.9481 - loss: 0.1878 - val_accuracy: 0.7091 - val_loss: 1.0574\n",
      "Epoch 39/100\n",
      "\u001b[1m210/210\u001b[0m \u001b[32m━━━━━━━━━━━━━━━━━━━━\u001b[0m\u001b[37m\u001b[0m \u001b[1m1s\u001b[0m 6ms/step - accuracy: 0.9501 - loss: 0.1781 - val_accuracy: 0.7459 - val_loss: 0.8799\n",
      "Epoch 40/100\n",
      "\u001b[1m210/210\u001b[0m \u001b[32m━━━━━━━━━━━━━━━━━━━━\u001b[0m\u001b[37m\u001b[0m \u001b[1m2s\u001b[0m 6ms/step - accuracy: 0.9551 - loss: 0.1701 - val_accuracy: 0.7362 - val_loss: 0.9618\n",
      "Epoch 41/100\n",
      "\u001b[1m210/210\u001b[0m \u001b[32m━━━━━━━━━━━━━━━━━━━━\u001b[0m\u001b[37m\u001b[0m \u001b[1m1s\u001b[0m 6ms/step - accuracy: 0.9569 - loss: 0.1632 - val_accuracy: 0.7491 - val_loss: 0.8881\n",
      "Epoch 42/100\n",
      "\u001b[1m210/210\u001b[0m \u001b[32m━━━━━━━━━━━━━━━━━━━━\u001b[0m\u001b[37m\u001b[0m \u001b[1m1s\u001b[0m 6ms/step - accuracy: 0.9597 - loss: 0.1536 - val_accuracy: 0.7115 - val_loss: 1.1084\n",
      "Epoch 43/100\n",
      "\u001b[1m210/210\u001b[0m \u001b[32m━━━━━━━━━━━━━━━━━━━━\u001b[0m\u001b[37m\u001b[0m \u001b[1m3s\u001b[0m 7ms/step - accuracy: 0.9637 - loss: 0.1430 - val_accuracy: 0.7502 - val_loss: 0.8872\n",
      "Epoch 44/100\n",
      "\u001b[1m210/210\u001b[0m \u001b[32m━━━━━━━━━━━━━━━━━━━━\u001b[0m\u001b[37m\u001b[0m \u001b[1m3s\u001b[0m 7ms/step - accuracy: 0.9659 - loss: 0.1345 - val_accuracy: 0.7504 - val_loss: 0.8879\n",
      "Epoch 45/100\n",
      "\u001b[1m210/210\u001b[0m \u001b[32m━━━━━━━━━━━━━━━━━━━━\u001b[0m\u001b[37m\u001b[0m \u001b[1m1s\u001b[0m 7ms/step - accuracy: 0.9638 - loss: 0.1353 - val_accuracy: 0.7298 - val_loss: 1.0182\n",
      "Epoch 46/100\n",
      "\u001b[1m210/210\u001b[0m \u001b[32m━━━━━━━━━━━━━━━━━━━━\u001b[0m\u001b[37m\u001b[0m \u001b[1m1s\u001b[0m 6ms/step - accuracy: 0.9676 - loss: 0.1283 - val_accuracy: 0.7725 - val_loss: 0.8448\n",
      "Epoch 47/100\n",
      "\u001b[1m210/210\u001b[0m \u001b[32m━━━━━━━━━━━━━━━━━━━━\u001b[0m\u001b[37m\u001b[0m \u001b[1m1s\u001b[0m 6ms/step - accuracy: 0.9686 - loss: 0.1226 - val_accuracy: 0.7479 - val_loss: 0.9652\n",
      "Epoch 48/100\n",
      "\u001b[1m210/210\u001b[0m \u001b[32m━━━━━━━━━━━━━━━━━━━━\u001b[0m\u001b[37m\u001b[0m \u001b[1m1s\u001b[0m 6ms/step - accuracy: 0.9687 - loss: 0.1200 - val_accuracy: 0.7575 - val_loss: 0.8842\n",
      "Epoch 49/100\n",
      "\u001b[1m210/210\u001b[0m \u001b[32m━━━━━━━━━━━━━━━━━━━━\u001b[0m\u001b[37m\u001b[0m \u001b[1m1s\u001b[0m 6ms/step - accuracy: 0.9722 - loss: 0.1117 - val_accuracy: 0.7659 - val_loss: 0.8629\n",
      "Epoch 50/100\n",
      "\u001b[1m210/210\u001b[0m \u001b[32m━━━━━━━━━━━━━━━━━━━━\u001b[0m\u001b[37m\u001b[0m \u001b[1m1s\u001b[0m 6ms/step - accuracy: 0.9735 - loss: 0.1086 - val_accuracy: 0.7410 - val_loss: 0.9818\n",
      "Epoch 51/100\n",
      "\u001b[1m210/210\u001b[0m \u001b[32m━━━━━━━━━━━━━━━━━━━━\u001b[0m\u001b[37m\u001b[0m \u001b[1m1s\u001b[0m 6ms/step - accuracy: 0.9747 - loss: 0.1037 - val_accuracy: 0.7329 - val_loss: 1.0270\n",
      "Epoch 52/100\n",
      "\u001b[1m210/210\u001b[0m \u001b[32m━━━━━━━━━━━━━━━━━━━━\u001b[0m\u001b[37m\u001b[0m \u001b[1m2s\u001b[0m 8ms/step - accuracy: 0.9716 - loss: 0.1074 - val_accuracy: 0.7376 - val_loss: 1.0344\n",
      "Epoch 53/100\n",
      "\u001b[1m210/210\u001b[0m \u001b[32m━━━━━━━━━━━━━━━━━━━━\u001b[0m\u001b[37m\u001b[0m \u001b[1m2s\u001b[0m 6ms/step - accuracy: 0.9754 - loss: 0.1004 - val_accuracy: 0.7379 - val_loss: 1.0297\n",
      "Epoch 54/100\n",
      "\u001b[1m210/210\u001b[0m \u001b[32m━━━━━━━━━━━━━━━━━━━━\u001b[0m\u001b[37m\u001b[0m \u001b[1m1s\u001b[0m 6ms/step - accuracy: 0.9769 - loss: 0.0940 - val_accuracy: 0.7347 - val_loss: 1.0454\n",
      "Epoch 55/100\n",
      "\u001b[1m210/210\u001b[0m \u001b[32m━━━━━━━━━━━━━━━━━━━━\u001b[0m\u001b[37m\u001b[0m \u001b[1m1s\u001b[0m 6ms/step - accuracy: 0.9770 - loss: 0.0946 - val_accuracy: 0.7372 - val_loss: 1.0261\n",
      "Epoch 56/100\n",
      "\u001b[1m210/210\u001b[0m \u001b[32m━━━━━━━━━━━━━━━━━━━━\u001b[0m\u001b[37m\u001b[0m \u001b[1m1s\u001b[0m 6ms/step - accuracy: 0.9782 - loss: 0.0904 - val_accuracy: 0.7322 - val_loss: 1.0583\n",
      "Epoch 57/100\n",
      "\u001b[1m210/210\u001b[0m \u001b[32m━━━━━━━━━━━━━━━━━━━━\u001b[0m\u001b[37m\u001b[0m \u001b[1m3s\u001b[0m 6ms/step - accuracy: 0.9811 - loss: 0.0841 - val_accuracy: 0.7352 - val_loss: 1.0358\n",
      "Epoch 58/100\n",
      "\u001b[1m210/210\u001b[0m \u001b[32m━━━━━━━━━━━━━━━━━━━━\u001b[0m\u001b[37m\u001b[0m \u001b[1m3s\u001b[0m 10ms/step - accuracy: 0.9788 - loss: 0.0850 - val_accuracy: 0.7387 - val_loss: 1.1001\n",
      "Epoch 59/100\n",
      "\u001b[1m210/210\u001b[0m \u001b[32m━━━━━━━━━━━━━━━━━━━━\u001b[0m\u001b[37m\u001b[0m \u001b[1m2s\u001b[0m 10ms/step - accuracy: 0.9795 - loss: 0.0826 - val_accuracy: 0.7346 - val_loss: 1.0689\n",
      "Epoch 60/100\n",
      "\u001b[1m210/210\u001b[0m \u001b[32m━━━━━━━━━━━━━━━━━━━━\u001b[0m\u001b[37m\u001b[0m \u001b[1m2s\u001b[0m 6ms/step - accuracy: 0.9798 - loss: 0.0793 - val_accuracy: 0.7301 - val_loss: 1.1763\n",
      "Epoch 61/100\n",
      "\u001b[1m210/210\u001b[0m \u001b[32m━━━━━━━━━━━━━━━━━━━━\u001b[0m\u001b[37m\u001b[0m \u001b[1m1s\u001b[0m 6ms/step - accuracy: 0.9810 - loss: 0.0788 - val_accuracy: 0.7617 - val_loss: 0.9406\n",
      "Epoch 62/100\n",
      "\u001b[1m210/210\u001b[0m \u001b[32m━━━━━━━━━━━━━━━━━━━━\u001b[0m\u001b[37m\u001b[0m \u001b[1m1s\u001b[0m 6ms/step - accuracy: 0.9815 - loss: 0.0745 - val_accuracy: 0.7448 - val_loss: 1.0640\n",
      "Epoch 63/100\n",
      "\u001b[1m210/210\u001b[0m \u001b[32m━━━━━━━━━━━━━━━━━━━━\u001b[0m\u001b[37m\u001b[0m \u001b[1m3s\u001b[0m 6ms/step - accuracy: 0.9813 - loss: 0.0756 - val_accuracy: 0.7799 - val_loss: 0.9343\n",
      "Epoch 64/100\n",
      "\u001b[1m210/210\u001b[0m \u001b[32m━━━━━━━━━━━━━━━━━━━━\u001b[0m\u001b[37m\u001b[0m \u001b[1m2s\u001b[0m 6ms/step - accuracy: 0.9796 - loss: 0.0781 - val_accuracy: 0.7576 - val_loss: 1.0625\n",
      "Epoch 65/100\n",
      "\u001b[1m210/210\u001b[0m \u001b[32m━━━━━━━━━━━━━━━━━━━━\u001b[0m\u001b[37m\u001b[0m \u001b[1m2s\u001b[0m 10ms/step - accuracy: 0.9835 - loss: 0.0681 - val_accuracy: 0.7604 - val_loss: 1.1100\n",
      "Epoch 66/100\n",
      "\u001b[1m210/210\u001b[0m \u001b[32m━━━━━━━━━━━━━━━━━━━━\u001b[0m\u001b[37m\u001b[0m \u001b[1m2s\u001b[0m 6ms/step - accuracy: 0.9839 - loss: 0.0666 - val_accuracy: 0.7595 - val_loss: 1.0864\n",
      "Epoch 67/100\n",
      "\u001b[1m210/210\u001b[0m \u001b[32m━━━━━━━━━━━━━━━━━━━━\u001b[0m\u001b[37m\u001b[0m \u001b[1m1s\u001b[0m 6ms/step - accuracy: 0.9833 - loss: 0.0666 - val_accuracy: 0.7564 - val_loss: 1.0950\n",
      "Epoch 68/100\n",
      "\u001b[1m210/210\u001b[0m \u001b[32m━━━━━━━━━━━━━━━━━━━━\u001b[0m\u001b[37m\u001b[0m \u001b[1m3s\u001b[0m 10ms/step - accuracy: 0.9843 - loss: 0.0642 - val_accuracy: 0.7464 - val_loss: 1.2051\n",
      "Epoch 69/100\n",
      "\u001b[1m210/210\u001b[0m \u001b[32m━━━━━━━━━━━━━━━━━━━━\u001b[0m\u001b[37m\u001b[0m \u001b[1m2s\u001b[0m 7ms/step - accuracy: 0.9843 - loss: 0.0627 - val_accuracy: 0.7732 - val_loss: 1.0270\n",
      "Epoch 70/100\n",
      "\u001b[1m210/210\u001b[0m \u001b[32m━━━━━━━━━━━━━━━━━━━━\u001b[0m\u001b[37m\u001b[0m \u001b[1m2s\u001b[0m 6ms/step - accuracy: 0.9850 - loss: 0.0622 - val_accuracy: 0.7488 - val_loss: 1.2411\n",
      "Epoch 71/100\n",
      "\u001b[1m210/210\u001b[0m \u001b[32m━━━━━━━━━━━━━━━━━━━━\u001b[0m\u001b[37m\u001b[0m \u001b[1m3s\u001b[0m 8ms/step - accuracy: 0.9862 - loss: 0.0584 - val_accuracy: 0.7550 - val_loss: 1.2180\n",
      "Epoch 72/100\n",
      "\u001b[1m210/210\u001b[0m \u001b[32m━━━━━━━━━━━━━━━━━━━━\u001b[0m\u001b[37m\u001b[0m \u001b[1m1s\u001b[0m 6ms/step - accuracy: 0.9846 - loss: 0.0609 - val_accuracy: 0.7304 - val_loss: 1.2995\n",
      "Epoch 73/100\n",
      "\u001b[1m210/210\u001b[0m \u001b[32m━━━━━━━━━━━━━━━━━━━━\u001b[0m\u001b[37m\u001b[0m \u001b[1m1s\u001b[0m 6ms/step - accuracy: 0.9882 - loss: 0.0533 - val_accuracy: 0.7495 - val_loss: 1.2494\n",
      "Epoch 74/100\n",
      "\u001b[1m210/210\u001b[0m \u001b[32m━━━━━━━━━━━━━━━━━━━━\u001b[0m\u001b[37m\u001b[0m \u001b[1m1s\u001b[0m 6ms/step - accuracy: 0.9862 - loss: 0.0553 - val_accuracy: 0.7659 - val_loss: 1.1559\n",
      "Epoch 75/100\n",
      "\u001b[1m210/210\u001b[0m \u001b[32m━━━━━━━━━━━━━━━━━━━━\u001b[0m\u001b[37m\u001b[0m \u001b[1m1s\u001b[0m 6ms/step - accuracy: 0.9872 - loss: 0.0503 - val_accuracy: 0.7587 - val_loss: 1.1762\n",
      "Epoch 76/100\n",
      "\u001b[1m210/210\u001b[0m \u001b[32m━━━━━━━━━━━━━━━━━━━━\u001b[0m\u001b[37m\u001b[0m \u001b[1m3s\u001b[0m 7ms/step - accuracy: 0.9874 - loss: 0.0508 - val_accuracy: 0.7790 - val_loss: 1.0309\n",
      "Epoch 77/100\n",
      "\u001b[1m210/210\u001b[0m \u001b[32m━━━━━━━━━━━━━━━━━━━━\u001b[0m\u001b[37m\u001b[0m \u001b[1m1s\u001b[0m 6ms/step - accuracy: 0.9873 - loss: 0.0499 - val_accuracy: 0.7684 - val_loss: 1.1806\n",
      "Epoch 78/100\n",
      "\u001b[1m210/210\u001b[0m \u001b[32m━━━━━━━━━━━━━━━━━━━━\u001b[0m\u001b[37m\u001b[0m \u001b[1m3s\u001b[0m 8ms/step - accuracy: 0.9844 - loss: 0.0572 - val_accuracy: 0.7512 - val_loss: 1.1771\n",
      "Epoch 79/100\n",
      "\u001b[1m210/210\u001b[0m \u001b[32m━━━━━━━━━━━━━━━━━━━━\u001b[0m\u001b[37m\u001b[0m \u001b[1m2s\u001b[0m 6ms/step - accuracy: 0.9881 - loss: 0.0498 - val_accuracy: 0.7432 - val_loss: 1.3002\n",
      "Epoch 80/100\n",
      "\u001b[1m210/210\u001b[0m \u001b[32m━━━━━━━━━━━━━━━━━━━━\u001b[0m\u001b[37m\u001b[0m \u001b[1m1s\u001b[0m 6ms/step - accuracy: 0.9877 - loss: 0.0479 - val_accuracy: 0.7767 - val_loss: 1.1091\n",
      "Epoch 81/100\n",
      "\u001b[1m210/210\u001b[0m \u001b[32m━━━━━━━━━━━━━━━━━━━━\u001b[0m\u001b[37m\u001b[0m \u001b[1m1s\u001b[0m 6ms/step - accuracy: 0.9882 - loss: 0.0461 - val_accuracy: 0.7466 - val_loss: 1.3162\n",
      "Epoch 82/100\n",
      "\u001b[1m210/210\u001b[0m \u001b[32m━━━━━━━━━━━━━━━━━━━━\u001b[0m\u001b[37m\u001b[0m \u001b[1m1s\u001b[0m 6ms/step - accuracy: 0.9907 - loss: 0.0426 - val_accuracy: 0.7739 - val_loss: 1.1223\n",
      "Epoch 83/100\n",
      "\u001b[1m210/210\u001b[0m \u001b[32m━━━━━━━━━━━━━━━━━━━━\u001b[0m\u001b[37m\u001b[0m \u001b[1m3s\u001b[0m 6ms/step - accuracy: 0.9887 - loss: 0.0446 - val_accuracy: 0.7556 - val_loss: 1.2760\n",
      "Epoch 84/100\n",
      "\u001b[1m210/210\u001b[0m \u001b[32m━━━━━━━━━━━━━━━━━━━━\u001b[0m\u001b[37m\u001b[0m \u001b[1m1s\u001b[0m 6ms/step - accuracy: 0.9881 - loss: 0.0485 - val_accuracy: 0.7660 - val_loss: 1.1550\n",
      "Epoch 85/100\n",
      "\u001b[1m210/210\u001b[0m \u001b[32m━━━━━━━━━━━━━━━━━━━━\u001b[0m\u001b[37m\u001b[0m \u001b[1m3s\u001b[0m 8ms/step - accuracy: 0.9916 - loss: 0.0378 - val_accuracy: 0.7527 - val_loss: 1.2763\n",
      "Epoch 86/100\n",
      "\u001b[1m210/210\u001b[0m \u001b[32m━━━━━━━━━━━━━━━━━━━━\u001b[0m\u001b[37m\u001b[0m \u001b[1m1s\u001b[0m 6ms/step - accuracy: 0.9908 - loss: 0.0372 - val_accuracy: 0.7989 - val_loss: 0.9944\n",
      "Epoch 87/100\n",
      "\u001b[1m210/210\u001b[0m \u001b[32m━━━━━━━━━━━━━━━━━━━━\u001b[0m\u001b[37m\u001b[0m \u001b[1m3s\u001b[0m 6ms/step - accuracy: 0.9936 - loss: 0.0311 - val_accuracy: 0.8131 - val_loss: 0.9425\n",
      "Epoch 88/100\n",
      "\u001b[1m210/210\u001b[0m \u001b[32m━━━━━━━━━━━━━━━━━━━━\u001b[0m\u001b[37m\u001b[0m \u001b[1m3s\u001b[0m 6ms/step - accuracy: 0.9927 - loss: 0.0332 - val_accuracy: 0.7876 - val_loss: 1.1099\n",
      "Epoch 89/100\n",
      "\u001b[1m210/210\u001b[0m \u001b[32m━━━━━━━━━━━━━━━━━━━━\u001b[0m\u001b[37m\u001b[0m \u001b[1m1s\u001b[0m 6ms/step - accuracy: 0.9913 - loss: 0.0366 - val_accuracy: 0.7833 - val_loss: 1.1491\n",
      "Epoch 90/100\n",
      "\u001b[1m210/210\u001b[0m \u001b[32m━━━━━━━━━━━━━━━━━━━━\u001b[0m\u001b[37m\u001b[0m \u001b[1m1s\u001b[0m 6ms/step - accuracy: 0.9928 - loss: 0.0308 - val_accuracy: 0.7466 - val_loss: 1.4140\n",
      "Epoch 91/100\n",
      "\u001b[1m210/210\u001b[0m \u001b[32m━━━━━━━━━━━━━━━━━━━━\u001b[0m\u001b[37m\u001b[0m \u001b[1m2s\u001b[0m 10ms/step - accuracy: 0.9840 - loss: 0.0544 - val_accuracy: 0.7194 - val_loss: 1.6473\n",
      "Epoch 92/100\n",
      "\u001b[1m210/210\u001b[0m \u001b[32m━━━━━━━━━━━━━━━━━━━━\u001b[0m\u001b[37m\u001b[0m \u001b[1m2s\u001b[0m 7ms/step - accuracy: 0.9848 - loss: 0.0513 - val_accuracy: 0.7635 - val_loss: 1.2572\n",
      "Epoch 93/100\n",
      "\u001b[1m210/210\u001b[0m \u001b[32m━━━━━━━━━━━━━━━━━━━━\u001b[0m\u001b[37m\u001b[0m \u001b[1m2s\u001b[0m 6ms/step - accuracy: 0.9901 - loss: 0.0386 - val_accuracy: 0.7958 - val_loss: 1.0337\n",
      "Epoch 94/100\n",
      "\u001b[1m210/210\u001b[0m \u001b[32m━━━━━━━━━━━━━━━━━━━━\u001b[0m\u001b[37m\u001b[0m \u001b[1m1s\u001b[0m 6ms/step - accuracy: 0.9900 - loss: 0.0384 - val_accuracy: 0.7941 - val_loss: 1.0524\n",
      "Epoch 95/100\n",
      "\u001b[1m210/210\u001b[0m \u001b[32m━━━━━━━━━━━━━━━━━━━━\u001b[0m\u001b[37m\u001b[0m \u001b[1m1s\u001b[0m 6ms/step - accuracy: 0.9907 - loss: 0.0353 - val_accuracy: 0.7554 - val_loss: 1.4420\n",
      "Epoch 96/100\n",
      "\u001b[1m210/210\u001b[0m \u001b[32m━━━━━━━━━━━━━━━━━━━━\u001b[0m\u001b[37m\u001b[0m \u001b[1m1s\u001b[0m 6ms/step - accuracy: 0.9909 - loss: 0.0365 - val_accuracy: 0.8035 - val_loss: 0.9920\n",
      "Epoch 97/100\n",
      "\u001b[1m210/210\u001b[0m \u001b[32m━━━━━━━━━━━━━━━━━━━━\u001b[0m\u001b[37m\u001b[0m \u001b[1m1s\u001b[0m 6ms/step - accuracy: 0.9918 - loss: 0.0335 - val_accuracy: 0.8146 - val_loss: 0.9635\n",
      "Epoch 98/100\n",
      "\u001b[1m210/210\u001b[0m \u001b[32m━━━━━━━━━━━━━━━━━━━━\u001b[0m\u001b[37m\u001b[0m \u001b[1m3s\u001b[0m 11ms/step - accuracy: 0.9917 - loss: 0.0329 - val_accuracy: 0.8246 - val_loss: 0.8839\n",
      "Epoch 99/100\n",
      "\u001b[1m210/210\u001b[0m \u001b[32m━━━━━━━━━━━━━━━━━━━━\u001b[0m\u001b[37m\u001b[0m \u001b[1m2s\u001b[0m 7ms/step - accuracy: 0.9945 - loss: 0.0244 - val_accuracy: 0.7914 - val_loss: 1.0985\n",
      "Epoch 100/100\n",
      "\u001b[1m210/210\u001b[0m \u001b[32m━━━━━━━━━━━━━━━━━━━━\u001b[0m\u001b[37m\u001b[0m \u001b[1m1s\u001b[0m 7ms/step - accuracy: 0.9937 - loss: 0.0284 - val_accuracy: 0.8129 - val_loss: 0.9655\n"
     ]
    }
   ],
   "source": [
    "# Fitting the ANN to the Training data\n",
    "history_2 = keras_model_1.fit(X_train, y_train, validation_data=(X_val,y_val),batch_size = 200, epochs = 100, verbose = 1)"
   ]
  },
  {
   "cell_type": "code",
   "execution_count": 33,
   "metadata": {
    "colab": {
     "base_uri": "https://localhost:8080/"
    },
    "executionInfo": {
     "elapsed": 6105,
     "status": "ok",
     "timestamp": 1714709655163,
     "user": {
      "displayName": "Ramana Reddy",
      "userId": "14322252769386133087"
     },
     "user_tz": -330
    },
    "id": "j2sI_sLI-Fm1",
    "outputId": "c965cd6e-0a15-4790-ded4-aaff3eceb37d"
   },
   "outputs": [
    {
     "name": "stdout",
     "output_type": "stream",
     "text": [
      "\u001b[1m1875/1875\u001b[0m \u001b[32m━━━━━━━━━━━━━━━━━━━━\u001b[0m\u001b[37m\u001b[0m \u001b[1m4s\u001b[0m 2ms/step - accuracy: 0.7877 - loss: 1.1066\n",
      "Val_accuracy using ADAM optimizer and Batch Normalization :  0.8128666877746582\n"
     ]
    }
   ],
   "source": [
    "results_nn_adam_batch_norm = keras_model_1.evaluate(X_val, y_val)\n",
    "print('Val_accuracy using ADAM optimizer and Batch Normalization : ', results_nn_adam_batch_norm[1])"
   ]
  },
  {
   "cell_type": "markdown",
   "metadata": {
    "id": "FLPgw3WT_cjI"
   },
   "source": [
    "- MODEL-5 NN with ADAM optimizer and Batch normalization accuracy is at 100% and seems to be overfitting due to low validation accuracy."
   ]
  },
  {
   "cell_type": "markdown",
   "metadata": {
    "id": "7ZoSga9P_vrX"
   },
   "source": [
    "- MODEL-6: Lets use SGD backpropagation (cost stochastic gradient descent, cross entropy loss, cost functions) with batch normalization and see model performance."
   ]
  },
  {
   "cell_type": "code",
   "execution_count": 34,
   "metadata": {
    "executionInfo": {
     "elapsed": 9,
     "status": "ok",
     "timestamp": 1714709655164,
     "user": {
      "displayName": "Ramana Reddy",
      "userId": "14322252769386133087"
     },
     "user_tz": -330
    },
    "id": "qgbUg4y4A6MN"
   },
   "outputs": [],
   "source": [
    "##Initialize the Artificial Neural Network Classifier\n",
    "keras_model_2 = Sequential()"
   ]
  },
  {
   "cell_type": "code",
   "execution_count": 35,
   "metadata": {
    "executionInfo": {
     "elapsed": 8,
     "status": "ok",
     "timestamp": 1714709655164,
     "user": {
      "displayName": "Ramana Reddy",
      "userId": "14322252769386133087"
     },
     "user_tz": -330
    },
    "id": "qpx-gSQeBA33"
   },
   "outputs": [],
   "source": [
    "# Input Layer\n",
    "#Adding Input layer and activation functions ReLU\n",
    "keras_model_2.add(Dense(512, activation='relu', kernel_initializer='he_normal',input_shape = (1024, )))\n",
    "#Adding BatchNormalization Layer\n",
    "keras_model_2.add(BatchNormalization())\n",
    "\n",
    "#Hidden Layer 1\n",
    "#Adding first Hidden layer\n",
    "keras_model_2.add(Dense(256, activation='relu', kernel_initializer='he_normal'))\n",
    "#Adding BatchNormalization Layer\n",
    "keras_model_2.add(BatchNormalization())\n",
    "\n",
    "#Hidden Layer 2\n",
    "#Adding second Hidden layer\n",
    "keras_model_2.add(Dense(128, activation='relu', kernel_initializer='he_normal'))\n",
    "#Adding BatchNormalization Layer\n",
    "keras_model_2.add(BatchNormalization())\n",
    "\n",
    "#Hidden Layer 3\n",
    "#Adding third Hidden layer\n",
    "keras_model_2.add(Dense(64, activation='relu', kernel_initializer='he_normal'))\n",
    "#Adding BatchNormalization Layer\n",
    "keras_model_2.add(BatchNormalization())\n",
    "\n",
    "#Hidden Layer 4\n",
    "#Adding fourth Hidden layer\n",
    "keras_model_2.add(Dense(32, activation='relu', kernel_initializer='he_normal'))\n",
    "#Adding BatchNormalization Layer\n",
    "keras_model_2.add(BatchNormalization())\n",
    "\n",
    "# Output Layer\n",
    "#Adding output layer which is of 10 nodes (digits)\n",
    "keras_model_2.add(Dense(10, activation='softmax'))\n",
    "#Adding Activation function\n",
    "# Here, we are using softmax function because we have multiclass classsification"
   ]
  },
  {
   "cell_type": "code",
   "execution_count": 36,
   "metadata": {
    "colab": {
     "base_uri": "https://localhost:8080/",
     "height": 561
    },
    "executionInfo": {
     "elapsed": 7,
     "status": "ok",
     "timestamp": 1714709655164,
     "user": {
      "displayName": "Ramana Reddy",
      "userId": "14322252769386133087"
     },
     "user_tz": -330
    },
    "id": "cIKpNj2KBV5u",
    "outputId": "e67e3bf3-2182-48cd-c49f-b56f1b82bad8"
   },
   "outputs": [
    {
     "data": {
      "text/html": [
       "<pre style=\"white-space:pre;overflow-x:auto;line-height:normal;font-family:Menlo,'DejaVu Sans Mono',consolas,'Courier New',monospace\"><span style=\"font-weight: bold\">Model: \"sequential_2\"</span>\n",
       "</pre>\n"
      ],
      "text/plain": [
       "\u001b[1mModel: \"sequential_2\"\u001b[0m\n"
      ]
     },
     "metadata": {},
     "output_type": "display_data"
    },
    {
     "data": {
      "text/html": [
       "<pre style=\"white-space:pre;overflow-x:auto;line-height:normal;font-family:Menlo,'DejaVu Sans Mono',consolas,'Courier New',monospace\">┏━━━━━━━━━━━━━━━━━━━━━━━━━━━━━━━━━━━━━━┳━━━━━━━━━━━━━━━━━━━━━━━━━━━━━┳━━━━━━━━━━━━━━━━━┓\n",
       "┃<span style=\"font-weight: bold\"> Layer (type)                         </span>┃<span style=\"font-weight: bold\"> Output Shape                </span>┃<span style=\"font-weight: bold\">         Param # </span>┃\n",
       "┡━━━━━━━━━━━━━━━━━━━━━━━━━━━━━━━━━━━━━━╇━━━━━━━━━━━━━━━━━━━━━━━━━━━━━╇━━━━━━━━━━━━━━━━━┩\n",
       "│ dense_12 (<span style=\"color: #0087ff; text-decoration-color: #0087ff\">Dense</span>)                     │ (<span style=\"color: #00d7ff; text-decoration-color: #00d7ff\">None</span>, <span style=\"color: #00af00; text-decoration-color: #00af00\">512</span>)                 │         <span style=\"color: #00af00; text-decoration-color: #00af00\">524,800</span> │\n",
       "├──────────────────────────────────────┼─────────────────────────────┼─────────────────┤\n",
       "│ batch_normalization_5                │ (<span style=\"color: #00d7ff; text-decoration-color: #00d7ff\">None</span>, <span style=\"color: #00af00; text-decoration-color: #00af00\">512</span>)                 │           <span style=\"color: #00af00; text-decoration-color: #00af00\">2,048</span> │\n",
       "│ (<span style=\"color: #0087ff; text-decoration-color: #0087ff\">BatchNormalization</span>)                 │                             │                 │\n",
       "├──────────────────────────────────────┼─────────────────────────────┼─────────────────┤\n",
       "│ dense_13 (<span style=\"color: #0087ff; text-decoration-color: #0087ff\">Dense</span>)                     │ (<span style=\"color: #00d7ff; text-decoration-color: #00d7ff\">None</span>, <span style=\"color: #00af00; text-decoration-color: #00af00\">256</span>)                 │         <span style=\"color: #00af00; text-decoration-color: #00af00\">131,328</span> │\n",
       "├──────────────────────────────────────┼─────────────────────────────┼─────────────────┤\n",
       "│ batch_normalization_6                │ (<span style=\"color: #00d7ff; text-decoration-color: #00d7ff\">None</span>, <span style=\"color: #00af00; text-decoration-color: #00af00\">256</span>)                 │           <span style=\"color: #00af00; text-decoration-color: #00af00\">1,024</span> │\n",
       "│ (<span style=\"color: #0087ff; text-decoration-color: #0087ff\">BatchNormalization</span>)                 │                             │                 │\n",
       "├──────────────────────────────────────┼─────────────────────────────┼─────────────────┤\n",
       "│ dense_14 (<span style=\"color: #0087ff; text-decoration-color: #0087ff\">Dense</span>)                     │ (<span style=\"color: #00d7ff; text-decoration-color: #00d7ff\">None</span>, <span style=\"color: #00af00; text-decoration-color: #00af00\">128</span>)                 │          <span style=\"color: #00af00; text-decoration-color: #00af00\">32,896</span> │\n",
       "├──────────────────────────────────────┼─────────────────────────────┼─────────────────┤\n",
       "│ batch_normalization_7                │ (<span style=\"color: #00d7ff; text-decoration-color: #00d7ff\">None</span>, <span style=\"color: #00af00; text-decoration-color: #00af00\">128</span>)                 │             <span style=\"color: #00af00; text-decoration-color: #00af00\">512</span> │\n",
       "│ (<span style=\"color: #0087ff; text-decoration-color: #0087ff\">BatchNormalization</span>)                 │                             │                 │\n",
       "├──────────────────────────────────────┼─────────────────────────────┼─────────────────┤\n",
       "│ dense_15 (<span style=\"color: #0087ff; text-decoration-color: #0087ff\">Dense</span>)                     │ (<span style=\"color: #00d7ff; text-decoration-color: #00d7ff\">None</span>, <span style=\"color: #00af00; text-decoration-color: #00af00\">64</span>)                  │           <span style=\"color: #00af00; text-decoration-color: #00af00\">8,256</span> │\n",
       "├──────────────────────────────────────┼─────────────────────────────┼─────────────────┤\n",
       "│ batch_normalization_8                │ (<span style=\"color: #00d7ff; text-decoration-color: #00d7ff\">None</span>, <span style=\"color: #00af00; text-decoration-color: #00af00\">64</span>)                  │             <span style=\"color: #00af00; text-decoration-color: #00af00\">256</span> │\n",
       "│ (<span style=\"color: #0087ff; text-decoration-color: #0087ff\">BatchNormalization</span>)                 │                             │                 │\n",
       "├──────────────────────────────────────┼─────────────────────────────┼─────────────────┤\n",
       "│ dense_16 (<span style=\"color: #0087ff; text-decoration-color: #0087ff\">Dense</span>)                     │ (<span style=\"color: #00d7ff; text-decoration-color: #00d7ff\">None</span>, <span style=\"color: #00af00; text-decoration-color: #00af00\">32</span>)                  │           <span style=\"color: #00af00; text-decoration-color: #00af00\">2,080</span> │\n",
       "├──────────────────────────────────────┼─────────────────────────────┼─────────────────┤\n",
       "│ batch_normalization_9                │ (<span style=\"color: #00d7ff; text-decoration-color: #00d7ff\">None</span>, <span style=\"color: #00af00; text-decoration-color: #00af00\">32</span>)                  │             <span style=\"color: #00af00; text-decoration-color: #00af00\">128</span> │\n",
       "│ (<span style=\"color: #0087ff; text-decoration-color: #0087ff\">BatchNormalization</span>)                 │                             │                 │\n",
       "├──────────────────────────────────────┼─────────────────────────────┼─────────────────┤\n",
       "│ dense_17 (<span style=\"color: #0087ff; text-decoration-color: #0087ff\">Dense</span>)                     │ (<span style=\"color: #00d7ff; text-decoration-color: #00d7ff\">None</span>, <span style=\"color: #00af00; text-decoration-color: #00af00\">10</span>)                  │             <span style=\"color: #00af00; text-decoration-color: #00af00\">330</span> │\n",
       "└──────────────────────────────────────┴─────────────────────────────┴─────────────────┘\n",
       "</pre>\n"
      ],
      "text/plain": [
       "┏━━━━━━━━━━━━━━━━━━━━━━━━━━━━━━━━━━━━━━┳━━━━━━━━━━━━━━━━━━━━━━━━━━━━━┳━━━━━━━━━━━━━━━━━┓\n",
       "┃\u001b[1m \u001b[0m\u001b[1mLayer (type)                        \u001b[0m\u001b[1m \u001b[0m┃\u001b[1m \u001b[0m\u001b[1mOutput Shape               \u001b[0m\u001b[1m \u001b[0m┃\u001b[1m \u001b[0m\u001b[1m        Param #\u001b[0m\u001b[1m \u001b[0m┃\n",
       "┡━━━━━━━━━━━━━━━━━━━━━━━━━━━━━━━━━━━━━━╇━━━━━━━━━━━━━━━━━━━━━━━━━━━━━╇━━━━━━━━━━━━━━━━━┩\n",
       "│ dense_12 (\u001b[38;5;33mDense\u001b[0m)                     │ (\u001b[38;5;45mNone\u001b[0m, \u001b[38;5;34m512\u001b[0m)                 │         \u001b[38;5;34m524,800\u001b[0m │\n",
       "├──────────────────────────────────────┼─────────────────────────────┼─────────────────┤\n",
       "│ batch_normalization_5                │ (\u001b[38;5;45mNone\u001b[0m, \u001b[38;5;34m512\u001b[0m)                 │           \u001b[38;5;34m2,048\u001b[0m │\n",
       "│ (\u001b[38;5;33mBatchNormalization\u001b[0m)                 │                             │                 │\n",
       "├──────────────────────────────────────┼─────────────────────────────┼─────────────────┤\n",
       "│ dense_13 (\u001b[38;5;33mDense\u001b[0m)                     │ (\u001b[38;5;45mNone\u001b[0m, \u001b[38;5;34m256\u001b[0m)                 │         \u001b[38;5;34m131,328\u001b[0m │\n",
       "├──────────────────────────────────────┼─────────────────────────────┼─────────────────┤\n",
       "│ batch_normalization_6                │ (\u001b[38;5;45mNone\u001b[0m, \u001b[38;5;34m256\u001b[0m)                 │           \u001b[38;5;34m1,024\u001b[0m │\n",
       "│ (\u001b[38;5;33mBatchNormalization\u001b[0m)                 │                             │                 │\n",
       "├──────────────────────────────────────┼─────────────────────────────┼─────────────────┤\n",
       "│ dense_14 (\u001b[38;5;33mDense\u001b[0m)                     │ (\u001b[38;5;45mNone\u001b[0m, \u001b[38;5;34m128\u001b[0m)                 │          \u001b[38;5;34m32,896\u001b[0m │\n",
       "├──────────────────────────────────────┼─────────────────────────────┼─────────────────┤\n",
       "│ batch_normalization_7                │ (\u001b[38;5;45mNone\u001b[0m, \u001b[38;5;34m128\u001b[0m)                 │             \u001b[38;5;34m512\u001b[0m │\n",
       "│ (\u001b[38;5;33mBatchNormalization\u001b[0m)                 │                             │                 │\n",
       "├──────────────────────────────────────┼─────────────────────────────┼─────────────────┤\n",
       "│ dense_15 (\u001b[38;5;33mDense\u001b[0m)                     │ (\u001b[38;5;45mNone\u001b[0m, \u001b[38;5;34m64\u001b[0m)                  │           \u001b[38;5;34m8,256\u001b[0m │\n",
       "├──────────────────────────────────────┼─────────────────────────────┼─────────────────┤\n",
       "│ batch_normalization_8                │ (\u001b[38;5;45mNone\u001b[0m, \u001b[38;5;34m64\u001b[0m)                  │             \u001b[38;5;34m256\u001b[0m │\n",
       "│ (\u001b[38;5;33mBatchNormalization\u001b[0m)                 │                             │                 │\n",
       "├──────────────────────────────────────┼─────────────────────────────┼─────────────────┤\n",
       "│ dense_16 (\u001b[38;5;33mDense\u001b[0m)                     │ (\u001b[38;5;45mNone\u001b[0m, \u001b[38;5;34m32\u001b[0m)                  │           \u001b[38;5;34m2,080\u001b[0m │\n",
       "├──────────────────────────────────────┼─────────────────────────────┼─────────────────┤\n",
       "│ batch_normalization_9                │ (\u001b[38;5;45mNone\u001b[0m, \u001b[38;5;34m32\u001b[0m)                  │             \u001b[38;5;34m128\u001b[0m │\n",
       "│ (\u001b[38;5;33mBatchNormalization\u001b[0m)                 │                             │                 │\n",
       "├──────────────────────────────────────┼─────────────────────────────┼─────────────────┤\n",
       "│ dense_17 (\u001b[38;5;33mDense\u001b[0m)                     │ (\u001b[38;5;45mNone\u001b[0m, \u001b[38;5;34m10\u001b[0m)                  │             \u001b[38;5;34m330\u001b[0m │\n",
       "└──────────────────────────────────────┴─────────────────────────────┴─────────────────┘\n"
      ]
     },
     "metadata": {},
     "output_type": "display_data"
    },
    {
     "data": {
      "text/html": [
       "<pre style=\"white-space:pre;overflow-x:auto;line-height:normal;font-family:Menlo,'DejaVu Sans Mono',consolas,'Courier New',monospace\"><span style=\"font-weight: bold\"> Total params: </span><span style=\"color: #00af00; text-decoration-color: #00af00\">703,658</span> (2.68 MB)\n",
       "</pre>\n"
      ],
      "text/plain": [
       "\u001b[1m Total params: \u001b[0m\u001b[38;5;34m703,658\u001b[0m (2.68 MB)\n"
      ]
     },
     "metadata": {},
     "output_type": "display_data"
    },
    {
     "data": {
      "text/html": [
       "<pre style=\"white-space:pre;overflow-x:auto;line-height:normal;font-family:Menlo,'DejaVu Sans Mono',consolas,'Courier New',monospace\"><span style=\"font-weight: bold\"> Trainable params: </span><span style=\"color: #00af00; text-decoration-color: #00af00\">701,674</span> (2.68 MB)\n",
       "</pre>\n"
      ],
      "text/plain": [
       "\u001b[1m Trainable params: \u001b[0m\u001b[38;5;34m701,674\u001b[0m (2.68 MB)\n"
      ]
     },
     "metadata": {},
     "output_type": "display_data"
    },
    {
     "data": {
      "text/html": [
       "<pre style=\"white-space:pre;overflow-x:auto;line-height:normal;font-family:Menlo,'DejaVu Sans Mono',consolas,'Courier New',monospace\"><span style=\"font-weight: bold\"> Non-trainable params: </span><span style=\"color: #00af00; text-decoration-color: #00af00\">1,984</span> (7.75 KB)\n",
       "</pre>\n"
      ],
      "text/plain": [
       "\u001b[1m Non-trainable params: \u001b[0m\u001b[38;5;34m1,984\u001b[0m (7.75 KB)\n"
      ]
     },
     "metadata": {},
     "output_type": "display_data"
    }
   ],
   "source": [
    "keras_model_2.summary()"
   ]
  },
  {
   "cell_type": "code",
   "execution_count": 37,
   "metadata": {
    "executionInfo": {
     "elapsed": 7,
     "status": "ok",
     "timestamp": 1714709655165,
     "user": {
      "displayName": "Ramana Reddy",
      "userId": "14322252769386133087"
     },
     "user_tz": -330
    },
    "id": "Vl8xhYt-BbEo"
   },
   "outputs": [],
   "source": [
    "#Setting the learning rate in sgd\n",
    "sgd = optimizers.SGD(0.0001)\n",
    "# compiling the ANN classifier\n",
    "keras_model_2.compile(optimizer = sgd, loss = 'categorical_crossentropy', metrics = ['accuracy'])"
   ]
  },
  {
   "cell_type": "code",
   "execution_count": 38,
   "metadata": {
    "colab": {
     "base_uri": "https://localhost:8080/"
    },
    "executionInfo": {
     "elapsed": 144912,
     "status": "ok",
     "timestamp": 1714709800070,
     "user": {
      "displayName": "Ramana Reddy",
      "userId": "14322252769386133087"
     },
     "user_tz": -330
    },
    "id": "HbHVBc-5Bns4",
    "outputId": "3eb3ef17-2262-4640-d036-9e4d52e9c773"
   },
   "outputs": [
    {
     "name": "stdout",
     "output_type": "stream",
     "text": [
      "Epoch 1/100\n",
      "\u001b[1m210/210\u001b[0m \u001b[32m━━━━━━━━━━━━━━━━━━━━\u001b[0m\u001b[37m\u001b[0m \u001b[1m6s\u001b[0m 14ms/step - accuracy: 0.1009 - loss: 2.9316 - val_accuracy: 0.0973 - val_loss: 2.5117\n",
      "Epoch 2/100\n",
      "\u001b[1m210/210\u001b[0m \u001b[32m━━━━━━━━━━━━━━━━━━━━\u001b[0m\u001b[37m\u001b[0m \u001b[1m2s\u001b[0m 6ms/step - accuracy: 0.1084 - loss: 2.8591 - val_accuracy: 0.1089 - val_loss: 2.6637\n",
      "Epoch 3/100\n",
      "\u001b[1m210/210\u001b[0m \u001b[32m━━━━━━━━━━━━━━━━━━━━\u001b[0m\u001b[37m\u001b[0m \u001b[1m1s\u001b[0m 5ms/step - accuracy: 0.1151 - loss: 2.7953 - val_accuracy: 0.1216 - val_loss: 2.7104\n",
      "Epoch 4/100\n",
      "\u001b[1m210/210\u001b[0m \u001b[32m━━━━━━━━━━━━━━━━━━━━\u001b[0m\u001b[37m\u001b[0m \u001b[1m1s\u001b[0m 6ms/step - accuracy: 0.1220 - loss: 2.7407 - val_accuracy: 0.1281 - val_loss: 2.7036\n",
      "Epoch 5/100\n",
      "\u001b[1m210/210\u001b[0m \u001b[32m━━━━━━━━━━━━━━━━━━━━\u001b[0m\u001b[37m\u001b[0m \u001b[1m1s\u001b[0m 6ms/step - accuracy: 0.1280 - loss: 2.6935 - val_accuracy: 0.1339 - val_loss: 2.6714\n",
      "Epoch 6/100\n",
      "\u001b[1m210/210\u001b[0m \u001b[32m━━━━━━━━━━━━━━━━━━━━\u001b[0m\u001b[37m\u001b[0m \u001b[1m1s\u001b[0m 5ms/step - accuracy: 0.1352 - loss: 2.6519 - val_accuracy: 0.1402 - val_loss: 2.6346\n",
      "Epoch 7/100\n",
      "\u001b[1m210/210\u001b[0m \u001b[32m━━━━━━━━━━━━━━━━━━━━\u001b[0m\u001b[37m\u001b[0m \u001b[1m1s\u001b[0m 6ms/step - accuracy: 0.1428 - loss: 2.6146 - val_accuracy: 0.1454 - val_loss: 2.6013\n",
      "Epoch 8/100\n",
      "\u001b[1m210/210\u001b[0m \u001b[32m━━━━━━━━━━━━━━━━━━━━\u001b[0m\u001b[37m\u001b[0m \u001b[1m1s\u001b[0m 6ms/step - accuracy: 0.1486 - loss: 2.5797 - val_accuracy: 0.1499 - val_loss: 2.5702\n",
      "Epoch 9/100\n",
      "\u001b[1m210/210\u001b[0m \u001b[32m━━━━━━━━━━━━━━━━━━━━\u001b[0m\u001b[37m\u001b[0m \u001b[1m2s\u001b[0m 7ms/step - accuracy: 0.1538 - loss: 2.5479 - val_accuracy: 0.1560 - val_loss: 2.5402\n",
      "Epoch 10/100\n",
      "\u001b[1m210/210\u001b[0m \u001b[32m━━━━━━━━━━━━━━━━━━━━\u001b[0m\u001b[37m\u001b[0m \u001b[1m2s\u001b[0m 6ms/step - accuracy: 0.1579 - loss: 2.5187 - val_accuracy: 0.1609 - val_loss: 2.5138\n",
      "Epoch 11/100\n",
      "\u001b[1m210/210\u001b[0m \u001b[32m━━━━━━━━━━━━━━━━━━━━\u001b[0m\u001b[37m\u001b[0m \u001b[1m1s\u001b[0m 5ms/step - accuracy: 0.1623 - loss: 2.4916 - val_accuracy: 0.1664 - val_loss: 2.4883\n",
      "Epoch 12/100\n",
      "\u001b[1m210/210\u001b[0m \u001b[32m━━━━━━━━━━━━━━━━━━━━\u001b[0m\u001b[37m\u001b[0m \u001b[1m1s\u001b[0m 5ms/step - accuracy: 0.1682 - loss: 2.4662 - val_accuracy: 0.1717 - val_loss: 2.4632\n",
      "Epoch 13/100\n",
      "\u001b[1m210/210\u001b[0m \u001b[32m━━━━━━━━━━━━━━━━━━━━\u001b[0m\u001b[37m\u001b[0m \u001b[1m1s\u001b[0m 5ms/step - accuracy: 0.1738 - loss: 2.4420 - val_accuracy: 0.1767 - val_loss: 2.4406\n",
      "Epoch 14/100\n",
      "\u001b[1m210/210\u001b[0m \u001b[32m━━━━━━━━━━━━━━━━━━━━\u001b[0m\u001b[37m\u001b[0m \u001b[1m1s\u001b[0m 6ms/step - accuracy: 0.1792 - loss: 2.4189 - val_accuracy: 0.1821 - val_loss: 2.4183\n",
      "Epoch 15/100\n",
      "\u001b[1m210/210\u001b[0m \u001b[32m━━━━━━━━━━━━━━━━━━━━\u001b[0m\u001b[37m\u001b[0m \u001b[1m1s\u001b[0m 5ms/step - accuracy: 0.1852 - loss: 2.3965 - val_accuracy: 0.1875 - val_loss: 2.3976\n",
      "Epoch 16/100\n",
      "\u001b[1m210/210\u001b[0m \u001b[32m━━━━━━━━━━━━━━━━━━━━\u001b[0m\u001b[37m\u001b[0m \u001b[1m1s\u001b[0m 5ms/step - accuracy: 0.1898 - loss: 2.3752 - val_accuracy: 0.1926 - val_loss: 2.3780\n",
      "Epoch 17/100\n",
      "\u001b[1m210/210\u001b[0m \u001b[32m━━━━━━━━━━━━━━━━━━━━\u001b[0m\u001b[37m\u001b[0m \u001b[1m1s\u001b[0m 6ms/step - accuracy: 0.1958 - loss: 2.3547 - val_accuracy: 0.1979 - val_loss: 2.3583\n",
      "Epoch 18/100\n",
      "\u001b[1m210/210\u001b[0m \u001b[32m━━━━━━━━━━━━━━━━━━━━\u001b[0m\u001b[37m\u001b[0m \u001b[1m2s\u001b[0m 9ms/step - accuracy: 0.2003 - loss: 2.3351 - val_accuracy: 0.2028 - val_loss: 2.3397\n",
      "Epoch 19/100\n",
      "\u001b[1m210/210\u001b[0m \u001b[32m━━━━━━━━━━━━━━━━━━━━\u001b[0m\u001b[37m\u001b[0m \u001b[1m2s\u001b[0m 5ms/step - accuracy: 0.2054 - loss: 2.3161 - val_accuracy: 0.2072 - val_loss: 2.3214\n",
      "Epoch 20/100\n",
      "\u001b[1m210/210\u001b[0m \u001b[32m━━━━━━━━━━━━━━━━━━━━\u001b[0m\u001b[37m\u001b[0m \u001b[1m1s\u001b[0m 5ms/step - accuracy: 0.2115 - loss: 2.2977 - val_accuracy: 0.2125 - val_loss: 2.3038\n",
      "Epoch 21/100\n",
      "\u001b[1m210/210\u001b[0m \u001b[32m━━━━━━━━━━━━━━━━━━━━\u001b[0m\u001b[37m\u001b[0m \u001b[1m1s\u001b[0m 5ms/step - accuracy: 0.2158 - loss: 2.2801 - val_accuracy: 0.2176 - val_loss: 2.2871\n",
      "Epoch 22/100\n",
      "\u001b[1m210/210\u001b[0m \u001b[32m━━━━━━━━━━━━━━━━━━━━\u001b[0m\u001b[37m\u001b[0m \u001b[1m1s\u001b[0m 6ms/step - accuracy: 0.2201 - loss: 2.2635 - val_accuracy: 0.2217 - val_loss: 2.2715\n",
      "Epoch 23/100\n",
      "\u001b[1m210/210\u001b[0m \u001b[32m━━━━━━━━━━━━━━━━━━━━\u001b[0m\u001b[37m\u001b[0m \u001b[1m1s\u001b[0m 6ms/step - accuracy: 0.2250 - loss: 2.2473 - val_accuracy: 0.2263 - val_loss: 2.2559\n",
      "Epoch 24/100\n",
      "\u001b[1m210/210\u001b[0m \u001b[32m━━━━━━━━━━━━━━━━━━━━\u001b[0m\u001b[37m\u001b[0m \u001b[1m1s\u001b[0m 5ms/step - accuracy: 0.2290 - loss: 2.2316 - val_accuracy: 0.2311 - val_loss: 2.2409\n",
      "Epoch 25/100\n",
      "\u001b[1m210/210\u001b[0m \u001b[32m━━━━━━━━━━━━━━━━━━━━\u001b[0m\u001b[37m\u001b[0m \u001b[1m1s\u001b[0m 6ms/step - accuracy: 0.2334 - loss: 2.2165 - val_accuracy: 0.2352 - val_loss: 2.2263\n",
      "Epoch 26/100\n",
      "\u001b[1m210/210\u001b[0m \u001b[32m━━━━━━━━━━━━━━━━━━━━\u001b[0m\u001b[37m\u001b[0m \u001b[1m1s\u001b[0m 5ms/step - accuracy: 0.2381 - loss: 2.2021 - val_accuracy: 0.2397 - val_loss: 2.2122\n",
      "Epoch 27/100\n",
      "\u001b[1m210/210\u001b[0m \u001b[32m━━━━━━━━━━━━━━━━━━━━\u001b[0m\u001b[37m\u001b[0m \u001b[1m2s\u001b[0m 9ms/step - accuracy: 0.2422 - loss: 2.1881 - val_accuracy: 0.2441 - val_loss: 2.1985\n",
      "Epoch 28/100\n",
      "\u001b[1m210/210\u001b[0m \u001b[32m━━━━━━━━━━━━━━━━━━━━\u001b[0m\u001b[37m\u001b[0m \u001b[1m2s\u001b[0m 10ms/step - accuracy: 0.2455 - loss: 2.1744 - val_accuracy: 0.2482 - val_loss: 2.1851\n",
      "Epoch 29/100\n",
      "\u001b[1m210/210\u001b[0m \u001b[32m━━━━━━━━━━━━━━━━━━━━\u001b[0m\u001b[37m\u001b[0m \u001b[1m1s\u001b[0m 6ms/step - accuracy: 0.2507 - loss: 2.1611 - val_accuracy: 0.2527 - val_loss: 2.1719\n",
      "Epoch 30/100\n",
      "\u001b[1m210/210\u001b[0m \u001b[32m━━━━━━━━━━━━━━━━━━━━\u001b[0m\u001b[37m\u001b[0m \u001b[1m1s\u001b[0m 5ms/step - accuracy: 0.2547 - loss: 2.1480 - val_accuracy: 0.2565 - val_loss: 2.1592\n",
      "Epoch 31/100\n",
      "\u001b[1m210/210\u001b[0m \u001b[32m━━━━━━━━━━━━━━━━━━━━\u001b[0m\u001b[37m\u001b[0m \u001b[1m1s\u001b[0m 6ms/step - accuracy: 0.2581 - loss: 2.1354 - val_accuracy: 0.2605 - val_loss: 2.1468\n",
      "Epoch 32/100\n",
      "\u001b[1m210/210\u001b[0m \u001b[32m━━━━━━━━━━━━━━━━━━━━\u001b[0m\u001b[37m\u001b[0m \u001b[1m1s\u001b[0m 5ms/step - accuracy: 0.2634 - loss: 2.1228 - val_accuracy: 0.2646 - val_loss: 2.1345\n",
      "Epoch 33/100\n",
      "\u001b[1m210/210\u001b[0m \u001b[32m━━━━━━━━━━━━━━━━━━━━\u001b[0m\u001b[37m\u001b[0m \u001b[1m1s\u001b[0m 6ms/step - accuracy: 0.2684 - loss: 2.1107 - val_accuracy: 0.2684 - val_loss: 2.1224\n",
      "Epoch 34/100\n",
      "\u001b[1m210/210\u001b[0m \u001b[32m━━━━━━━━━━━━━━━━━━━━\u001b[0m\u001b[37m\u001b[0m \u001b[1m1s\u001b[0m 5ms/step - accuracy: 0.2724 - loss: 2.0988 - val_accuracy: 0.2722 - val_loss: 2.1108\n",
      "Epoch 35/100\n",
      "\u001b[1m210/210\u001b[0m \u001b[32m━━━━━━━━━━━━━━━━━━━━\u001b[0m\u001b[37m\u001b[0m \u001b[1m1s\u001b[0m 5ms/step - accuracy: 0.2772 - loss: 2.0870 - val_accuracy: 0.2768 - val_loss: 2.0993\n",
      "Epoch 36/100\n",
      "\u001b[1m210/210\u001b[0m \u001b[32m━━━━━━━━━━━━━━━━━━━━\u001b[0m\u001b[37m\u001b[0m \u001b[1m2s\u001b[0m 9ms/step - accuracy: 0.2820 - loss: 2.0754 - val_accuracy: 0.2812 - val_loss: 2.0881\n",
      "Epoch 37/100\n",
      "\u001b[1m210/210\u001b[0m \u001b[32m━━━━━━━━━━━━━━━━━━━━\u001b[0m\u001b[37m\u001b[0m \u001b[1m2s\u001b[0m 7ms/step - accuracy: 0.2872 - loss: 2.0641 - val_accuracy: 0.2850 - val_loss: 2.0770\n",
      "Epoch 38/100\n",
      "\u001b[1m210/210\u001b[0m \u001b[32m━━━━━━━━━━━━━━━━━━━━\u001b[0m\u001b[37m\u001b[0m \u001b[1m1s\u001b[0m 5ms/step - accuracy: 0.2905 - loss: 2.0531 - val_accuracy: 0.2892 - val_loss: 2.0660\n",
      "Epoch 39/100\n",
      "\u001b[1m210/210\u001b[0m \u001b[32m━━━━━━━━━━━━━━━━━━━━\u001b[0m\u001b[37m\u001b[0m \u001b[1m1s\u001b[0m 6ms/step - accuracy: 0.2946 - loss: 2.0422 - val_accuracy: 0.2930 - val_loss: 2.0554\n",
      "Epoch 40/100\n",
      "\u001b[1m210/210\u001b[0m \u001b[32m━━━━━━━━━━━━━━━━━━━━\u001b[0m\u001b[37m\u001b[0m \u001b[1m1s\u001b[0m 5ms/step - accuracy: 0.2983 - loss: 2.0316 - val_accuracy: 0.2967 - val_loss: 2.0450\n",
      "Epoch 41/100\n",
      "\u001b[1m210/210\u001b[0m \u001b[32m━━━━━━━━━━━━━━━━━━━━\u001b[0m\u001b[37m\u001b[0m \u001b[1m1s\u001b[0m 5ms/step - accuracy: 0.3032 - loss: 2.0211 - val_accuracy: 0.3005 - val_loss: 2.0346\n",
      "Epoch 42/100\n",
      "\u001b[1m210/210\u001b[0m \u001b[32m━━━━━━━━━━━━━━━━━━━━\u001b[0m\u001b[37m\u001b[0m \u001b[1m1s\u001b[0m 6ms/step - accuracy: 0.3064 - loss: 2.0109 - val_accuracy: 0.3048 - val_loss: 2.0247\n",
      "Epoch 43/100\n",
      "\u001b[1m210/210\u001b[0m \u001b[32m━━━━━━━━━━━━━━━━━━━━\u001b[0m\u001b[37m\u001b[0m \u001b[1m1s\u001b[0m 6ms/step - accuracy: 0.3095 - loss: 2.0008 - val_accuracy: 0.3085 - val_loss: 2.0147\n",
      "Epoch 44/100\n",
      "\u001b[1m210/210\u001b[0m \u001b[32m━━━━━━━━━━━━━━━━━━━━\u001b[0m\u001b[37m\u001b[0m \u001b[1m1s\u001b[0m 5ms/step - accuracy: 0.3133 - loss: 1.9909 - val_accuracy: 0.3126 - val_loss: 2.0052\n",
      "Epoch 45/100\n",
      "\u001b[1m210/210\u001b[0m \u001b[32m━━━━━━━━━━━━━━━━━━━━\u001b[0m\u001b[37m\u001b[0m \u001b[1m1s\u001b[0m 6ms/step - accuracy: 0.3170 - loss: 1.9813 - val_accuracy: 0.3164 - val_loss: 1.9956\n",
      "Epoch 46/100\n",
      "\u001b[1m210/210\u001b[0m \u001b[32m━━━━━━━━━━━━━━━━━━━━\u001b[0m\u001b[37m\u001b[0m \u001b[1m2s\u001b[0m 9ms/step - accuracy: 0.3200 - loss: 1.9718 - val_accuracy: 0.3200 - val_loss: 1.9862\n",
      "Epoch 47/100\n",
      "\u001b[1m210/210\u001b[0m \u001b[32m━━━━━━━━━━━━━━━━━━━━\u001b[0m\u001b[37m\u001b[0m \u001b[1m2s\u001b[0m 5ms/step - accuracy: 0.3248 - loss: 1.9625 - val_accuracy: 0.3239 - val_loss: 1.9769\n",
      "Epoch 48/100\n",
      "\u001b[1m210/210\u001b[0m \u001b[32m━━━━━━━━━━━━━━━━━━━━\u001b[0m\u001b[37m\u001b[0m \u001b[1m1s\u001b[0m 6ms/step - accuracy: 0.3287 - loss: 1.9534 - val_accuracy: 0.3266 - val_loss: 1.9679\n",
      "Epoch 49/100\n",
      "\u001b[1m210/210\u001b[0m \u001b[32m━━━━━━━━━━━━━━━━━━━━\u001b[0m\u001b[37m\u001b[0m \u001b[1m1s\u001b[0m 6ms/step - accuracy: 0.3322 - loss: 1.9445 - val_accuracy: 0.3300 - val_loss: 1.9590\n",
      "Epoch 50/100\n",
      "\u001b[1m210/210\u001b[0m \u001b[32m━━━━━━━━━━━━━━━━━━━━\u001b[0m\u001b[37m\u001b[0m \u001b[1m1s\u001b[0m 5ms/step - accuracy: 0.3359 - loss: 1.9356 - val_accuracy: 0.3335 - val_loss: 1.9503\n",
      "Epoch 51/100\n",
      "\u001b[1m210/210\u001b[0m \u001b[32m━━━━━━━━━━━━━━━━━━━━\u001b[0m\u001b[37m\u001b[0m \u001b[1m1s\u001b[0m 5ms/step - accuracy: 0.3387 - loss: 1.9269 - val_accuracy: 0.3367 - val_loss: 1.9417\n",
      "Epoch 52/100\n",
      "\u001b[1m210/210\u001b[0m \u001b[32m━━━━━━━━━━━━━━━━━━━━\u001b[0m\u001b[37m\u001b[0m \u001b[1m1s\u001b[0m 6ms/step - accuracy: 0.3427 - loss: 1.9184 - val_accuracy: 0.3396 - val_loss: 1.9332\n",
      "Epoch 53/100\n",
      "\u001b[1m210/210\u001b[0m \u001b[32m━━━━━━━━━━━━━━━━━━━━\u001b[0m\u001b[37m\u001b[0m \u001b[1m1s\u001b[0m 6ms/step - accuracy: 0.3454 - loss: 1.9100 - val_accuracy: 0.3426 - val_loss: 1.9249\n",
      "Epoch 54/100\n",
      "\u001b[1m210/210\u001b[0m \u001b[32m━━━━━━━━━━━━━━━━━━━━\u001b[0m\u001b[37m\u001b[0m \u001b[1m1s\u001b[0m 6ms/step - accuracy: 0.3492 - loss: 1.9018 - val_accuracy: 0.3460 - val_loss: 1.9167\n",
      "Epoch 55/100\n",
      "\u001b[1m210/210\u001b[0m \u001b[32m━━━━━━━━━━━━━━━━━━━━\u001b[0m\u001b[37m\u001b[0m \u001b[1m1s\u001b[0m 6ms/step - accuracy: 0.3528 - loss: 1.8937 - val_accuracy: 0.3489 - val_loss: 1.9088\n",
      "Epoch 56/100\n",
      "\u001b[1m210/210\u001b[0m \u001b[32m━━━━━━━━━━━━━━━━━━━━\u001b[0m\u001b[37m\u001b[0m \u001b[1m2s\u001b[0m 6ms/step - accuracy: 0.3565 - loss: 1.8856 - val_accuracy: 0.3516 - val_loss: 1.9008\n",
      "Epoch 57/100\n",
      "\u001b[1m210/210\u001b[0m \u001b[32m━━━━━━━━━━━━━━━━━━━━\u001b[0m\u001b[37m\u001b[0m \u001b[1m1s\u001b[0m 5ms/step - accuracy: 0.3600 - loss: 1.8777 - val_accuracy: 0.3545 - val_loss: 1.8931\n",
      "Epoch 58/100\n",
      "\u001b[1m210/210\u001b[0m \u001b[32m━━━━━━━━━━━━━━━━━━━━\u001b[0m\u001b[37m\u001b[0m \u001b[1m1s\u001b[0m 5ms/step - accuracy: 0.3624 - loss: 1.8700 - val_accuracy: 0.3576 - val_loss: 1.8853\n",
      "Epoch 59/100\n",
      "\u001b[1m210/210\u001b[0m \u001b[32m━━━━━━━━━━━━━━━━━━━━\u001b[0m\u001b[37m\u001b[0m \u001b[1m1s\u001b[0m 5ms/step - accuracy: 0.3654 - loss: 1.8625 - val_accuracy: 0.3607 - val_loss: 1.8778\n",
      "Epoch 60/100\n",
      "\u001b[1m210/210\u001b[0m \u001b[32m━━━━━━━━━━━━━━━━━━━━\u001b[0m\u001b[37m\u001b[0m \u001b[1m1s\u001b[0m 6ms/step - accuracy: 0.3689 - loss: 1.8551 - val_accuracy: 0.3643 - val_loss: 1.8703\n",
      "Epoch 61/100\n",
      "\u001b[1m210/210\u001b[0m \u001b[32m━━━━━━━━━━━━━━━━━━━━\u001b[0m\u001b[37m\u001b[0m \u001b[1m1s\u001b[0m 6ms/step - accuracy: 0.3721 - loss: 1.8478 - val_accuracy: 0.3674 - val_loss: 1.8631\n",
      "Epoch 62/100\n",
      "\u001b[1m210/210\u001b[0m \u001b[32m━━━━━━━━━━━━━━━━━━━━\u001b[0m\u001b[37m\u001b[0m \u001b[1m1s\u001b[0m 6ms/step - accuracy: 0.3750 - loss: 1.8406 - val_accuracy: 0.3699 - val_loss: 1.8560\n",
      "Epoch 63/100\n",
      "\u001b[1m210/210\u001b[0m \u001b[32m━━━━━━━━━━━━━━━━━━━━\u001b[0m\u001b[37m\u001b[0m \u001b[1m1s\u001b[0m 5ms/step - accuracy: 0.3781 - loss: 1.8335 - val_accuracy: 0.3733 - val_loss: 1.8489\n",
      "Epoch 64/100\n",
      "\u001b[1m210/210\u001b[0m \u001b[32m━━━━━━━━━━━━━━━━━━━━\u001b[0m\u001b[37m\u001b[0m \u001b[1m1s\u001b[0m 6ms/step - accuracy: 0.3807 - loss: 1.8266 - val_accuracy: 0.3766 - val_loss: 1.8419\n",
      "Epoch 65/100\n",
      "\u001b[1m210/210\u001b[0m \u001b[32m━━━━━━━━━━━━━━━━━━━━\u001b[0m\u001b[37m\u001b[0m \u001b[1m2s\u001b[0m 10ms/step - accuracy: 0.3834 - loss: 1.8197 - val_accuracy: 0.3793 - val_loss: 1.8350\n",
      "Epoch 66/100\n",
      "\u001b[1m210/210\u001b[0m \u001b[32m━━━━━━━━━━━━━━━━━━━━\u001b[0m\u001b[37m\u001b[0m \u001b[1m1s\u001b[0m 6ms/step - accuracy: 0.3865 - loss: 1.8129 - val_accuracy: 0.3818 - val_loss: 1.8282\n",
      "Epoch 67/100\n",
      "\u001b[1m210/210\u001b[0m \u001b[32m━━━━━━━━━━━━━━━━━━━━\u001b[0m\u001b[37m\u001b[0m \u001b[1m2s\u001b[0m 6ms/step - accuracy: 0.3891 - loss: 1.8062 - val_accuracy: 0.3848 - val_loss: 1.8214\n",
      "Epoch 68/100\n",
      "\u001b[1m210/210\u001b[0m \u001b[32m━━━━━━━━━━━━━━━━━━━━\u001b[0m\u001b[37m\u001b[0m \u001b[1m1s\u001b[0m 5ms/step - accuracy: 0.3921 - loss: 1.7996 - val_accuracy: 0.3871 - val_loss: 1.8149\n",
      "Epoch 69/100\n",
      "\u001b[1m210/210\u001b[0m \u001b[32m━━━━━━━━━━━━━━━━━━━━\u001b[0m\u001b[37m\u001b[0m \u001b[1m1s\u001b[0m 5ms/step - accuracy: 0.3952 - loss: 1.7930 - val_accuracy: 0.3899 - val_loss: 1.8083\n",
      "Epoch 70/100\n",
      "\u001b[1m210/210\u001b[0m \u001b[32m━━━━━━━━━━━━━━━━━━━━\u001b[0m\u001b[37m\u001b[0m \u001b[1m1s\u001b[0m 6ms/step - accuracy: 0.3982 - loss: 1.7865 - val_accuracy: 0.3922 - val_loss: 1.8018\n",
      "Epoch 71/100\n",
      "\u001b[1m210/210\u001b[0m \u001b[32m━━━━━━━━━━━━━━━━━━━━\u001b[0m\u001b[37m\u001b[0m \u001b[1m1s\u001b[0m 5ms/step - accuracy: 0.4009 - loss: 1.7802 - val_accuracy: 0.3946 - val_loss: 1.7952\n",
      "Epoch 72/100\n",
      "\u001b[1m210/210\u001b[0m \u001b[32m━━━━━━━━━━━━━━━━━━━━\u001b[0m\u001b[37m\u001b[0m \u001b[1m1s\u001b[0m 6ms/step - accuracy: 0.4031 - loss: 1.7738 - val_accuracy: 0.3979 - val_loss: 1.7888\n",
      "Epoch 73/100\n",
      "\u001b[1m210/210\u001b[0m \u001b[32m━━━━━━━━━━━━━━━━━━━━\u001b[0m\u001b[37m\u001b[0m \u001b[1m2s\u001b[0m 9ms/step - accuracy: 0.4060 - loss: 1.7676 - val_accuracy: 0.4005 - val_loss: 1.7826\n",
      "Epoch 74/100\n",
      "\u001b[1m210/210\u001b[0m \u001b[32m━━━━━━━━━━━━━━━━━━━━\u001b[0m\u001b[37m\u001b[0m \u001b[1m2s\u001b[0m 6ms/step - accuracy: 0.4078 - loss: 1.7614 - val_accuracy: 0.4030 - val_loss: 1.7764\n",
      "Epoch 75/100\n",
      "\u001b[1m210/210\u001b[0m \u001b[32m━━━━━━━━━━━━━━━━━━━━\u001b[0m\u001b[37m\u001b[0m \u001b[1m1s\u001b[0m 6ms/step - accuracy: 0.4097 - loss: 1.7553 - val_accuracy: 0.4056 - val_loss: 1.7703\n",
      "Epoch 76/100\n",
      "\u001b[1m210/210\u001b[0m \u001b[32m━━━━━━━━━━━━━━━━━━━━\u001b[0m\u001b[37m\u001b[0m \u001b[1m1s\u001b[0m 5ms/step - accuracy: 0.4126 - loss: 1.7493 - val_accuracy: 0.4082 - val_loss: 1.7643\n",
      "Epoch 77/100\n",
      "\u001b[1m210/210\u001b[0m \u001b[32m━━━━━━━━━━━━━━━━━━━━\u001b[0m\u001b[37m\u001b[0m \u001b[1m1s\u001b[0m 6ms/step - accuracy: 0.4147 - loss: 1.7434 - val_accuracy: 0.4110 - val_loss: 1.7582\n",
      "Epoch 78/100\n",
      "\u001b[1m210/210\u001b[0m \u001b[32m━━━━━━━━━━━━━━━━━━━━\u001b[0m\u001b[37m\u001b[0m \u001b[1m1s\u001b[0m 5ms/step - accuracy: 0.4169 - loss: 1.7374 - val_accuracy: 0.4132 - val_loss: 1.7523\n",
      "Epoch 79/100\n",
      "\u001b[1m210/210\u001b[0m \u001b[32m━━━━━━━━━━━━━━━━━━━━\u001b[0m\u001b[37m\u001b[0m \u001b[1m1s\u001b[0m 6ms/step - accuracy: 0.4188 - loss: 1.7316 - val_accuracy: 0.4157 - val_loss: 1.7463\n",
      "Epoch 80/100\n",
      "\u001b[1m210/210\u001b[0m \u001b[32m━━━━━━━━━━━━━━━━━━━━\u001b[0m\u001b[37m\u001b[0m \u001b[1m1s\u001b[0m 5ms/step - accuracy: 0.4210 - loss: 1.7259 - val_accuracy: 0.4181 - val_loss: 1.7407\n",
      "Epoch 81/100\n",
      "\u001b[1m210/210\u001b[0m \u001b[32m━━━━━━━━━━━━━━━━━━━━\u001b[0m\u001b[37m\u001b[0m \u001b[1m1s\u001b[0m 6ms/step - accuracy: 0.4226 - loss: 1.7202 - val_accuracy: 0.4206 - val_loss: 1.7350\n",
      "Epoch 82/100\n",
      "\u001b[1m210/210\u001b[0m \u001b[32m━━━━━━━━━━━━━━━━━━━━\u001b[0m\u001b[37m\u001b[0m \u001b[1m2s\u001b[0m 10ms/step - accuracy: 0.4251 - loss: 1.7146 - val_accuracy: 0.4229 - val_loss: 1.7293\n",
      "Epoch 83/100\n",
      "\u001b[1m210/210\u001b[0m \u001b[32m━━━━━━━━━━━━━━━━━━━━\u001b[0m\u001b[37m\u001b[0m \u001b[1m2s\u001b[0m 5ms/step - accuracy: 0.4271 - loss: 1.7091 - val_accuracy: 0.4252 - val_loss: 1.7236\n",
      "Epoch 84/100\n",
      "\u001b[1m210/210\u001b[0m \u001b[32m━━━━━━━━━━━━━━━━━━━━\u001b[0m\u001b[37m\u001b[0m \u001b[1m1s\u001b[0m 6ms/step - accuracy: 0.4286 - loss: 1.7035 - val_accuracy: 0.4274 - val_loss: 1.7180\n",
      "Epoch 85/100\n",
      "\u001b[1m210/210\u001b[0m \u001b[32m━━━━━━━━━━━━━━━━━━━━\u001b[0m\u001b[37m\u001b[0m \u001b[1m1s\u001b[0m 5ms/step - accuracy: 0.4310 - loss: 1.6980 - val_accuracy: 0.4299 - val_loss: 1.7126\n",
      "Epoch 86/100\n",
      "\u001b[1m210/210\u001b[0m \u001b[32m━━━━━━━━━━━━━━━━━━━━\u001b[0m\u001b[37m\u001b[0m \u001b[1m1s\u001b[0m 5ms/step - accuracy: 0.4334 - loss: 1.6925 - val_accuracy: 0.4321 - val_loss: 1.7071\n",
      "Epoch 87/100\n",
      "\u001b[1m210/210\u001b[0m \u001b[32m━━━━━━━━━━━━━━━━━━━━\u001b[0m\u001b[37m\u001b[0m \u001b[1m1s\u001b[0m 6ms/step - accuracy: 0.4355 - loss: 1.6871 - val_accuracy: 0.4342 - val_loss: 1.7017\n",
      "Epoch 88/100\n",
      "\u001b[1m210/210\u001b[0m \u001b[32m━━━━━━━━━━━━━━━━━━━━\u001b[0m\u001b[37m\u001b[0m \u001b[1m1s\u001b[0m 5ms/step - accuracy: 0.4376 - loss: 1.6818 - val_accuracy: 0.4364 - val_loss: 1.6963\n",
      "Epoch 89/100\n",
      "\u001b[1m210/210\u001b[0m \u001b[32m━━━━━━━━━━━━━━━━━━━━\u001b[0m\u001b[37m\u001b[0m \u001b[1m1s\u001b[0m 5ms/step - accuracy: 0.4399 - loss: 1.6765 - val_accuracy: 0.4390 - val_loss: 1.6909\n",
      "Epoch 90/100\n",
      "\u001b[1m210/210\u001b[0m \u001b[32m━━━━━━━━━━━━━━━━━━━━\u001b[0m\u001b[37m\u001b[0m \u001b[1m1s\u001b[0m 6ms/step - accuracy: 0.4424 - loss: 1.6712 - val_accuracy: 0.4413 - val_loss: 1.6857\n",
      "Epoch 91/100\n",
      "\u001b[1m210/210\u001b[0m \u001b[32m━━━━━━━━━━━━━━━━━━━━\u001b[0m\u001b[37m\u001b[0m \u001b[1m2s\u001b[0m 9ms/step - accuracy: 0.4437 - loss: 1.6659 - val_accuracy: 0.4435 - val_loss: 1.6805\n",
      "Epoch 92/100\n",
      "\u001b[1m210/210\u001b[0m \u001b[32m━━━━━━━━━━━━━━━━━━━━\u001b[0m\u001b[37m\u001b[0m \u001b[1m2s\u001b[0m 6ms/step - accuracy: 0.4466 - loss: 1.6607 - val_accuracy: 0.4457 - val_loss: 1.6753\n",
      "Epoch 93/100\n",
      "\u001b[1m210/210\u001b[0m \u001b[32m━━━━━━━━━━━━━━━━━━━━\u001b[0m\u001b[37m\u001b[0m \u001b[1m2s\u001b[0m 10ms/step - accuracy: 0.4490 - loss: 1.6556 - val_accuracy: 0.4478 - val_loss: 1.6701\n",
      "Epoch 94/100\n",
      "\u001b[1m210/210\u001b[0m \u001b[32m━━━━━━━━━━━━━━━━━━━━\u001b[0m\u001b[37m\u001b[0m \u001b[1m2s\u001b[0m 5ms/step - accuracy: 0.4519 - loss: 1.6504 - val_accuracy: 0.4506 - val_loss: 1.6650\n",
      "Epoch 95/100\n",
      "\u001b[1m210/210\u001b[0m \u001b[32m━━━━━━━━━━━━━━━━━━━━\u001b[0m\u001b[37m\u001b[0m \u001b[1m1s\u001b[0m 6ms/step - accuracy: 0.4541 - loss: 1.6453 - val_accuracy: 0.4529 - val_loss: 1.6598\n",
      "Epoch 96/100\n",
      "\u001b[1m210/210\u001b[0m \u001b[32m━━━━━━━━━━━━━━━━━━━━\u001b[0m\u001b[37m\u001b[0m \u001b[1m1s\u001b[0m 5ms/step - accuracy: 0.4563 - loss: 1.6403 - val_accuracy: 0.4551 - val_loss: 1.6548\n",
      "Epoch 97/100\n",
      "\u001b[1m210/210\u001b[0m \u001b[32m━━━━━━━━━━━━━━━━━━━━\u001b[0m\u001b[37m\u001b[0m \u001b[1m1s\u001b[0m 6ms/step - accuracy: 0.4576 - loss: 1.6354 - val_accuracy: 0.4574 - val_loss: 1.6498\n",
      "Epoch 98/100\n",
      "\u001b[1m210/210\u001b[0m \u001b[32m━━━━━━━━━━━━━━━━━━━━\u001b[0m\u001b[37m\u001b[0m \u001b[1m1s\u001b[0m 5ms/step - accuracy: 0.4605 - loss: 1.6304 - val_accuracy: 0.4594 - val_loss: 1.6450\n",
      "Epoch 99/100\n",
      "\u001b[1m210/210\u001b[0m \u001b[32m━━━━━━━━━━━━━━━━━━━━\u001b[0m\u001b[37m\u001b[0m \u001b[1m2s\u001b[0m 10ms/step - accuracy: 0.4632 - loss: 1.6255 - val_accuracy: 0.4618 - val_loss: 1.6401\n",
      "Epoch 100/100\n",
      "\u001b[1m210/210\u001b[0m \u001b[32m━━━━━━━━━━━━━━━━━━━━\u001b[0m\u001b[37m\u001b[0m \u001b[1m1s\u001b[0m 6ms/step - accuracy: 0.4653 - loss: 1.6207 - val_accuracy: 0.4636 - val_loss: 1.6353\n"
     ]
    }
   ],
   "source": [
    "# Fitting the ANN to the Training data\n",
    "history_3 = keras_model_2.fit(X_train, y_train, validation_data=(X_val,y_val),batch_size = 200, epochs = 100, verbose = 1)"
   ]
  },
  {
   "cell_type": "code",
   "execution_count": 39,
   "metadata": {
    "colab": {
     "base_uri": "https://localhost:8080/"
    },
    "executionInfo": {
     "elapsed": 5935,
     "status": "ok",
     "timestamp": 1714709806004,
     "user": {
      "displayName": "Ramana Reddy",
      "userId": "14322252769386133087"
     },
     "user_tz": -330
    },
    "id": "mkUGxlgDBsBB",
    "outputId": "03eed0fe-7e32-4834-8779-3528574840ab"
   },
   "outputs": [
    {
     "name": "stdout",
     "output_type": "stream",
     "text": [
      "\u001b[1m1875/1875\u001b[0m \u001b[32m━━━━━━━━━━━━━━━━━━━━\u001b[0m\u001b[37m\u001b[0m \u001b[1m4s\u001b[0m 2ms/step - accuracy: 0.4854 - loss: 1.6006\n",
      "Val_accuracy using ADAM optimizer and Batch Normalization :  0.46363332867622375\n"
     ]
    }
   ],
   "source": [
    "results_nn_sgd_batch_norm = keras_model_2.evaluate(X_val, y_val)\n",
    "print('Val_accuracy using ADAM optimizer and Batch Normalization : ', results_nn_sgd_batch_norm[1])"
   ]
  },
  {
   "cell_type": "markdown",
   "metadata": {
    "id": "9sAKmoVQCxtY"
   },
   "source": [
    "- MODEL-6: Validation Accuracy stands at 46% which is less than what was achieved with Adam optimizer earlier."
   ]
  },
  {
   "cell_type": "markdown",
   "metadata": {
    "id": "ST66QcK4DBCI"
   },
   "source": [
    "#### MODEL-7: Lets use batch normalization and Dropout(0.2) with Adam optimizer:"
   ]
  },
  {
   "cell_type": "code",
   "execution_count": 40,
   "metadata": {
    "executionInfo": {
     "elapsed": 9,
     "status": "ok",
     "timestamp": 1714709806006,
     "user": {
      "displayName": "Ramana Reddy",
      "userId": "14322252769386133087"
     },
     "user_tz": -330
    },
    "id": "KkfsTtRcGJMz"
   },
   "outputs": [],
   "source": [
    "##Initialize the Artificial Neural Network Classifier\n",
    "keras_model_3 = Sequential()"
   ]
  },
  {
   "cell_type": "code",
   "execution_count": 41,
   "metadata": {
    "executionInfo": {
     "elapsed": 9,
     "status": "ok",
     "timestamp": 1714709806006,
     "user": {
      "displayName": "Ramana Reddy",
      "userId": "14322252769386133087"
     },
     "user_tz": -330
    },
    "id": "dl6ovdkCDbQJ"
   },
   "outputs": [],
   "source": [
    "# Input Layer\n",
    "#Adding Input layer and activation functions ReLU\n",
    "keras_model_3.add(Dense(512, activation='relu', kernel_initializer='he_normal',input_shape = (1024, )))\n",
    "#Adding BatchNormalization Layer\n",
    "keras_model_3.add(BatchNormalization())\n",
    "keras_model_3.add(Dropout(0.2))\n",
    "\n",
    "#Hidden Layer 1\n",
    "#Adding first Hidden layer\n",
    "keras_model_3.add(Dense(256, activation='relu', kernel_initializer='he_normal'))\n",
    "#Adding BatchNormalization Layer\n",
    "keras_model_3.add(BatchNormalization())\n",
    "keras_model_3.add(Dropout(0.2))\n",
    "\n",
    "#Hidden Layer 2\n",
    "#Adding second Hidden layer\n",
    "keras_model_3.add(Dense(128, activation='relu', kernel_initializer='he_normal'))\n",
    "#Adding BatchNormalization Layer\n",
    "keras_model_3.add(BatchNormalization())\n",
    "keras_model_3.add(Dropout(0.2))\n",
    "\n",
    "#Hidden Layer 3\n",
    "#Adding third Hidden layer\n",
    "keras_model_3.add(Dense(64, activation='relu', kernel_initializer='he_normal'))\n",
    "#Adding BatchNormalization Layer\n",
    "keras_model_3.add(BatchNormalization())\n",
    "keras_model_3.add(Dropout(0.2))\n",
    "\n",
    "#Hidden Layer 4\n",
    "#Adding fourth Hidden layer\n",
    "keras_model_3.add(Dense(32, activation='relu', kernel_initializer='he_normal'))\n",
    "#Adding BatchNormalization Layer\n",
    "keras_model_3.add(BatchNormalization())\n",
    "keras_model_3.add(Dropout(0.2))\n",
    "\n",
    "# Output Layer\n",
    "#Adding output layer which is of 10 nodes (digits)\n",
    "keras_model_3.add(Dense(10, activation='softmax'))\n",
    "#Adding Activation function\n",
    "# Here, we are using softmax function because we have multiclass classsification"
   ]
  },
  {
   "cell_type": "code",
   "execution_count": 42,
   "metadata": {
    "colab": {
     "base_uri": "https://localhost:8080/",
     "height": 721
    },
    "executionInfo": {
     "elapsed": 8,
     "status": "ok",
     "timestamp": 1714709806006,
     "user": {
      "displayName": "Ramana Reddy",
      "userId": "14322252769386133087"
     },
     "user_tz": -330
    },
    "id": "IU2z5oAFGB9i",
    "outputId": "827a7a96-c973-4ca6-c08e-f944410624ce"
   },
   "outputs": [
    {
     "data": {
      "text/html": [
       "<pre style=\"white-space:pre;overflow-x:auto;line-height:normal;font-family:Menlo,'DejaVu Sans Mono',consolas,'Courier New',monospace\"><span style=\"font-weight: bold\">Model: \"sequential_3\"</span>\n",
       "</pre>\n"
      ],
      "text/plain": [
       "\u001b[1mModel: \"sequential_3\"\u001b[0m\n"
      ]
     },
     "metadata": {},
     "output_type": "display_data"
    },
    {
     "data": {
      "text/html": [
       "<pre style=\"white-space:pre;overflow-x:auto;line-height:normal;font-family:Menlo,'DejaVu Sans Mono',consolas,'Courier New',monospace\">┏━━━━━━━━━━━━━━━━━━━━━━━━━━━━━━━━━━━━━━┳━━━━━━━━━━━━━━━━━━━━━━━━━━━━━┳━━━━━━━━━━━━━━━━━┓\n",
       "┃<span style=\"font-weight: bold\"> Layer (type)                         </span>┃<span style=\"font-weight: bold\"> Output Shape                </span>┃<span style=\"font-weight: bold\">         Param # </span>┃\n",
       "┡━━━━━━━━━━━━━━━━━━━━━━━━━━━━━━━━━━━━━━╇━━━━━━━━━━━━━━━━━━━━━━━━━━━━━╇━━━━━━━━━━━━━━━━━┩\n",
       "│ dense_18 (<span style=\"color: #0087ff; text-decoration-color: #0087ff\">Dense</span>)                     │ (<span style=\"color: #00d7ff; text-decoration-color: #00d7ff\">None</span>, <span style=\"color: #00af00; text-decoration-color: #00af00\">512</span>)                 │         <span style=\"color: #00af00; text-decoration-color: #00af00\">524,800</span> │\n",
       "├──────────────────────────────────────┼─────────────────────────────┼─────────────────┤\n",
       "│ batch_normalization_10               │ (<span style=\"color: #00d7ff; text-decoration-color: #00d7ff\">None</span>, <span style=\"color: #00af00; text-decoration-color: #00af00\">512</span>)                 │           <span style=\"color: #00af00; text-decoration-color: #00af00\">2,048</span> │\n",
       "│ (<span style=\"color: #0087ff; text-decoration-color: #0087ff\">BatchNormalization</span>)                 │                             │                 │\n",
       "├──────────────────────────────────────┼─────────────────────────────┼─────────────────┤\n",
       "│ dropout (<span style=\"color: #0087ff; text-decoration-color: #0087ff\">Dropout</span>)                    │ (<span style=\"color: #00d7ff; text-decoration-color: #00d7ff\">None</span>, <span style=\"color: #00af00; text-decoration-color: #00af00\">512</span>)                 │               <span style=\"color: #00af00; text-decoration-color: #00af00\">0</span> │\n",
       "├──────────────────────────────────────┼─────────────────────────────┼─────────────────┤\n",
       "│ dense_19 (<span style=\"color: #0087ff; text-decoration-color: #0087ff\">Dense</span>)                     │ (<span style=\"color: #00d7ff; text-decoration-color: #00d7ff\">None</span>, <span style=\"color: #00af00; text-decoration-color: #00af00\">256</span>)                 │         <span style=\"color: #00af00; text-decoration-color: #00af00\">131,328</span> │\n",
       "├──────────────────────────────────────┼─────────────────────────────┼─────────────────┤\n",
       "│ batch_normalization_11               │ (<span style=\"color: #00d7ff; text-decoration-color: #00d7ff\">None</span>, <span style=\"color: #00af00; text-decoration-color: #00af00\">256</span>)                 │           <span style=\"color: #00af00; text-decoration-color: #00af00\">1,024</span> │\n",
       "│ (<span style=\"color: #0087ff; text-decoration-color: #0087ff\">BatchNormalization</span>)                 │                             │                 │\n",
       "├──────────────────────────────────────┼─────────────────────────────┼─────────────────┤\n",
       "│ dropout_1 (<span style=\"color: #0087ff; text-decoration-color: #0087ff\">Dropout</span>)                  │ (<span style=\"color: #00d7ff; text-decoration-color: #00d7ff\">None</span>, <span style=\"color: #00af00; text-decoration-color: #00af00\">256</span>)                 │               <span style=\"color: #00af00; text-decoration-color: #00af00\">0</span> │\n",
       "├──────────────────────────────────────┼─────────────────────────────┼─────────────────┤\n",
       "│ dense_20 (<span style=\"color: #0087ff; text-decoration-color: #0087ff\">Dense</span>)                     │ (<span style=\"color: #00d7ff; text-decoration-color: #00d7ff\">None</span>, <span style=\"color: #00af00; text-decoration-color: #00af00\">128</span>)                 │          <span style=\"color: #00af00; text-decoration-color: #00af00\">32,896</span> │\n",
       "├──────────────────────────────────────┼─────────────────────────────┼─────────────────┤\n",
       "│ batch_normalization_12               │ (<span style=\"color: #00d7ff; text-decoration-color: #00d7ff\">None</span>, <span style=\"color: #00af00; text-decoration-color: #00af00\">128</span>)                 │             <span style=\"color: #00af00; text-decoration-color: #00af00\">512</span> │\n",
       "│ (<span style=\"color: #0087ff; text-decoration-color: #0087ff\">BatchNormalization</span>)                 │                             │                 │\n",
       "├──────────────────────────────────────┼─────────────────────────────┼─────────────────┤\n",
       "│ dropout_2 (<span style=\"color: #0087ff; text-decoration-color: #0087ff\">Dropout</span>)                  │ (<span style=\"color: #00d7ff; text-decoration-color: #00d7ff\">None</span>, <span style=\"color: #00af00; text-decoration-color: #00af00\">128</span>)                 │               <span style=\"color: #00af00; text-decoration-color: #00af00\">0</span> │\n",
       "├──────────────────────────────────────┼─────────────────────────────┼─────────────────┤\n",
       "│ dense_21 (<span style=\"color: #0087ff; text-decoration-color: #0087ff\">Dense</span>)                     │ (<span style=\"color: #00d7ff; text-decoration-color: #00d7ff\">None</span>, <span style=\"color: #00af00; text-decoration-color: #00af00\">64</span>)                  │           <span style=\"color: #00af00; text-decoration-color: #00af00\">8,256</span> │\n",
       "├──────────────────────────────────────┼─────────────────────────────┼─────────────────┤\n",
       "│ batch_normalization_13               │ (<span style=\"color: #00d7ff; text-decoration-color: #00d7ff\">None</span>, <span style=\"color: #00af00; text-decoration-color: #00af00\">64</span>)                  │             <span style=\"color: #00af00; text-decoration-color: #00af00\">256</span> │\n",
       "│ (<span style=\"color: #0087ff; text-decoration-color: #0087ff\">BatchNormalization</span>)                 │                             │                 │\n",
       "├──────────────────────────────────────┼─────────────────────────────┼─────────────────┤\n",
       "│ dropout_3 (<span style=\"color: #0087ff; text-decoration-color: #0087ff\">Dropout</span>)                  │ (<span style=\"color: #00d7ff; text-decoration-color: #00d7ff\">None</span>, <span style=\"color: #00af00; text-decoration-color: #00af00\">64</span>)                  │               <span style=\"color: #00af00; text-decoration-color: #00af00\">0</span> │\n",
       "├──────────────────────────────────────┼─────────────────────────────┼─────────────────┤\n",
       "│ dense_22 (<span style=\"color: #0087ff; text-decoration-color: #0087ff\">Dense</span>)                     │ (<span style=\"color: #00d7ff; text-decoration-color: #00d7ff\">None</span>, <span style=\"color: #00af00; text-decoration-color: #00af00\">32</span>)                  │           <span style=\"color: #00af00; text-decoration-color: #00af00\">2,080</span> │\n",
       "├──────────────────────────────────────┼─────────────────────────────┼─────────────────┤\n",
       "│ batch_normalization_14               │ (<span style=\"color: #00d7ff; text-decoration-color: #00d7ff\">None</span>, <span style=\"color: #00af00; text-decoration-color: #00af00\">32</span>)                  │             <span style=\"color: #00af00; text-decoration-color: #00af00\">128</span> │\n",
       "│ (<span style=\"color: #0087ff; text-decoration-color: #0087ff\">BatchNormalization</span>)                 │                             │                 │\n",
       "├──────────────────────────────────────┼─────────────────────────────┼─────────────────┤\n",
       "│ dropout_4 (<span style=\"color: #0087ff; text-decoration-color: #0087ff\">Dropout</span>)                  │ (<span style=\"color: #00d7ff; text-decoration-color: #00d7ff\">None</span>, <span style=\"color: #00af00; text-decoration-color: #00af00\">32</span>)                  │               <span style=\"color: #00af00; text-decoration-color: #00af00\">0</span> │\n",
       "├──────────────────────────────────────┼─────────────────────────────┼─────────────────┤\n",
       "│ dense_23 (<span style=\"color: #0087ff; text-decoration-color: #0087ff\">Dense</span>)                     │ (<span style=\"color: #00d7ff; text-decoration-color: #00d7ff\">None</span>, <span style=\"color: #00af00; text-decoration-color: #00af00\">10</span>)                  │             <span style=\"color: #00af00; text-decoration-color: #00af00\">330</span> │\n",
       "└──────────────────────────────────────┴─────────────────────────────┴─────────────────┘\n",
       "</pre>\n"
      ],
      "text/plain": [
       "┏━━━━━━━━━━━━━━━━━━━━━━━━━━━━━━━━━━━━━━┳━━━━━━━━━━━━━━━━━━━━━━━━━━━━━┳━━━━━━━━━━━━━━━━━┓\n",
       "┃\u001b[1m \u001b[0m\u001b[1mLayer (type)                        \u001b[0m\u001b[1m \u001b[0m┃\u001b[1m \u001b[0m\u001b[1mOutput Shape               \u001b[0m\u001b[1m \u001b[0m┃\u001b[1m \u001b[0m\u001b[1m        Param #\u001b[0m\u001b[1m \u001b[0m┃\n",
       "┡━━━━━━━━━━━━━━━━━━━━━━━━━━━━━━━━━━━━━━╇━━━━━━━━━━━━━━━━━━━━━━━━━━━━━╇━━━━━━━━━━━━━━━━━┩\n",
       "│ dense_18 (\u001b[38;5;33mDense\u001b[0m)                     │ (\u001b[38;5;45mNone\u001b[0m, \u001b[38;5;34m512\u001b[0m)                 │         \u001b[38;5;34m524,800\u001b[0m │\n",
       "├──────────────────────────────────────┼─────────────────────────────┼─────────────────┤\n",
       "│ batch_normalization_10               │ (\u001b[38;5;45mNone\u001b[0m, \u001b[38;5;34m512\u001b[0m)                 │           \u001b[38;5;34m2,048\u001b[0m │\n",
       "│ (\u001b[38;5;33mBatchNormalization\u001b[0m)                 │                             │                 │\n",
       "├──────────────────────────────────────┼─────────────────────────────┼─────────────────┤\n",
       "│ dropout (\u001b[38;5;33mDropout\u001b[0m)                    │ (\u001b[38;5;45mNone\u001b[0m, \u001b[38;5;34m512\u001b[0m)                 │               \u001b[38;5;34m0\u001b[0m │\n",
       "├──────────────────────────────────────┼─────────────────────────────┼─────────────────┤\n",
       "│ dense_19 (\u001b[38;5;33mDense\u001b[0m)                     │ (\u001b[38;5;45mNone\u001b[0m, \u001b[38;5;34m256\u001b[0m)                 │         \u001b[38;5;34m131,328\u001b[0m │\n",
       "├──────────────────────────────────────┼─────────────────────────────┼─────────────────┤\n",
       "│ batch_normalization_11               │ (\u001b[38;5;45mNone\u001b[0m, \u001b[38;5;34m256\u001b[0m)                 │           \u001b[38;5;34m1,024\u001b[0m │\n",
       "│ (\u001b[38;5;33mBatchNormalization\u001b[0m)                 │                             │                 │\n",
       "├──────────────────────────────────────┼─────────────────────────────┼─────────────────┤\n",
       "│ dropout_1 (\u001b[38;5;33mDropout\u001b[0m)                  │ (\u001b[38;5;45mNone\u001b[0m, \u001b[38;5;34m256\u001b[0m)                 │               \u001b[38;5;34m0\u001b[0m │\n",
       "├──────────────────────────────────────┼─────────────────────────────┼─────────────────┤\n",
       "│ dense_20 (\u001b[38;5;33mDense\u001b[0m)                     │ (\u001b[38;5;45mNone\u001b[0m, \u001b[38;5;34m128\u001b[0m)                 │          \u001b[38;5;34m32,896\u001b[0m │\n",
       "├──────────────────────────────────────┼─────────────────────────────┼─────────────────┤\n",
       "│ batch_normalization_12               │ (\u001b[38;5;45mNone\u001b[0m, \u001b[38;5;34m128\u001b[0m)                 │             \u001b[38;5;34m512\u001b[0m │\n",
       "│ (\u001b[38;5;33mBatchNormalization\u001b[0m)                 │                             │                 │\n",
       "├──────────────────────────────────────┼─────────────────────────────┼─────────────────┤\n",
       "│ dropout_2 (\u001b[38;5;33mDropout\u001b[0m)                  │ (\u001b[38;5;45mNone\u001b[0m, \u001b[38;5;34m128\u001b[0m)                 │               \u001b[38;5;34m0\u001b[0m │\n",
       "├──────────────────────────────────────┼─────────────────────────────┼─────────────────┤\n",
       "│ dense_21 (\u001b[38;5;33mDense\u001b[0m)                     │ (\u001b[38;5;45mNone\u001b[0m, \u001b[38;5;34m64\u001b[0m)                  │           \u001b[38;5;34m8,256\u001b[0m │\n",
       "├──────────────────────────────────────┼─────────────────────────────┼─────────────────┤\n",
       "│ batch_normalization_13               │ (\u001b[38;5;45mNone\u001b[0m, \u001b[38;5;34m64\u001b[0m)                  │             \u001b[38;5;34m256\u001b[0m │\n",
       "│ (\u001b[38;5;33mBatchNormalization\u001b[0m)                 │                             │                 │\n",
       "├──────────────────────────────────────┼─────────────────────────────┼─────────────────┤\n",
       "│ dropout_3 (\u001b[38;5;33mDropout\u001b[0m)                  │ (\u001b[38;5;45mNone\u001b[0m, \u001b[38;5;34m64\u001b[0m)                  │               \u001b[38;5;34m0\u001b[0m │\n",
       "├──────────────────────────────────────┼─────────────────────────────┼─────────────────┤\n",
       "│ dense_22 (\u001b[38;5;33mDense\u001b[0m)                     │ (\u001b[38;5;45mNone\u001b[0m, \u001b[38;5;34m32\u001b[0m)                  │           \u001b[38;5;34m2,080\u001b[0m │\n",
       "├──────────────────────────────────────┼─────────────────────────────┼─────────────────┤\n",
       "│ batch_normalization_14               │ (\u001b[38;5;45mNone\u001b[0m, \u001b[38;5;34m32\u001b[0m)                  │             \u001b[38;5;34m128\u001b[0m │\n",
       "│ (\u001b[38;5;33mBatchNormalization\u001b[0m)                 │                             │                 │\n",
       "├──────────────────────────────────────┼─────────────────────────────┼─────────────────┤\n",
       "│ dropout_4 (\u001b[38;5;33mDropout\u001b[0m)                  │ (\u001b[38;5;45mNone\u001b[0m, \u001b[38;5;34m32\u001b[0m)                  │               \u001b[38;5;34m0\u001b[0m │\n",
       "├──────────────────────────────────────┼─────────────────────────────┼─────────────────┤\n",
       "│ dense_23 (\u001b[38;5;33mDense\u001b[0m)                     │ (\u001b[38;5;45mNone\u001b[0m, \u001b[38;5;34m10\u001b[0m)                  │             \u001b[38;5;34m330\u001b[0m │\n",
       "└──────────────────────────────────────┴─────────────────────────────┴─────────────────┘\n"
      ]
     },
     "metadata": {},
     "output_type": "display_data"
    },
    {
     "data": {
      "text/html": [
       "<pre style=\"white-space:pre;overflow-x:auto;line-height:normal;font-family:Menlo,'DejaVu Sans Mono',consolas,'Courier New',monospace\"><span style=\"font-weight: bold\"> Total params: </span><span style=\"color: #00af00; text-decoration-color: #00af00\">703,658</span> (2.68 MB)\n",
       "</pre>\n"
      ],
      "text/plain": [
       "\u001b[1m Total params: \u001b[0m\u001b[38;5;34m703,658\u001b[0m (2.68 MB)\n"
      ]
     },
     "metadata": {},
     "output_type": "display_data"
    },
    {
     "data": {
      "text/html": [
       "<pre style=\"white-space:pre;overflow-x:auto;line-height:normal;font-family:Menlo,'DejaVu Sans Mono',consolas,'Courier New',monospace\"><span style=\"font-weight: bold\"> Trainable params: </span><span style=\"color: #00af00; text-decoration-color: #00af00\">701,674</span> (2.68 MB)\n",
       "</pre>\n"
      ],
      "text/plain": [
       "\u001b[1m Trainable params: \u001b[0m\u001b[38;5;34m701,674\u001b[0m (2.68 MB)\n"
      ]
     },
     "metadata": {},
     "output_type": "display_data"
    },
    {
     "data": {
      "text/html": [
       "<pre style=\"white-space:pre;overflow-x:auto;line-height:normal;font-family:Menlo,'DejaVu Sans Mono',consolas,'Courier New',monospace\"><span style=\"font-weight: bold\"> Non-trainable params: </span><span style=\"color: #00af00; text-decoration-color: #00af00\">1,984</span> (7.75 KB)\n",
       "</pre>\n"
      ],
      "text/plain": [
       "\u001b[1m Non-trainable params: \u001b[0m\u001b[38;5;34m1,984\u001b[0m (7.75 KB)\n"
      ]
     },
     "metadata": {},
     "output_type": "display_data"
    }
   ],
   "source": [
    "keras_model_3.summary()"
   ]
  },
  {
   "cell_type": "code",
   "execution_count": 43,
   "metadata": {
    "executionInfo": {
     "elapsed": 7,
     "status": "ok",
     "timestamp": 1714709806007,
     "user": {
      "displayName": "Ramana Reddy",
      "userId": "14322252769386133087"
     },
     "user_tz": -330
    },
    "id": "aL7WjaGiGOnG"
   },
   "outputs": [],
   "source": [
    "#Setting the learning rate in adam\n",
    "adam = optimizers.Adam(0.0001)\n",
    "# compiling the ANN classifier\n",
    "keras_model_3.compile(optimizer = adam, loss = 'categorical_crossentropy', metrics = ['accuracy'])"
   ]
  },
  {
   "cell_type": "code",
   "execution_count": 44,
   "metadata": {
    "colab": {
     "base_uri": "https://localhost:8080/"
    },
    "executionInfo": {
     "elapsed": 192045,
     "status": "ok",
     "timestamp": 1714709998045,
     "user": {
      "displayName": "Ramana Reddy",
      "userId": "14322252769386133087"
     },
     "user_tz": -330
    },
    "id": "xWHGHQcKGVQ-",
    "outputId": "9cf3fa2f-8afc-4d57-8ef9-fd50d1ad3752"
   },
   "outputs": [
    {
     "name": "stdout",
     "output_type": "stream",
     "text": [
      "Epoch 1/100\n",
      "\u001b[1m210/210\u001b[0m \u001b[32m━━━━━━━━━━━━━━━━━━━━\u001b[0m\u001b[37m\u001b[0m \u001b[1m15s\u001b[0m 13ms/step - accuracy: 0.1153 - loss: 2.8153 - val_accuracy: 0.1465 - val_loss: 2.2510\n",
      "Epoch 2/100\n",
      "\u001b[1m210/210\u001b[0m \u001b[32m━━━━━━━━━━━━━━━━━━━━\u001b[0m\u001b[37m\u001b[0m \u001b[1m2s\u001b[0m 11ms/step - accuracy: 0.1843 - loss: 2.4006 - val_accuracy: 0.3039 - val_loss: 1.9557\n",
      "Epoch 3/100\n",
      "\u001b[1m210/210\u001b[0m \u001b[32m━━━━━━━━━━━━━━━━━━━━\u001b[0m\u001b[37m\u001b[0m \u001b[1m1s\u001b[0m 7ms/step - accuracy: 0.2554 - loss: 2.1264 - val_accuracy: 0.4267 - val_loss: 1.6954\n",
      "Epoch 4/100\n",
      "\u001b[1m210/210\u001b[0m \u001b[32m━━━━━━━━━━━━━━━━━━━━\u001b[0m\u001b[37m\u001b[0m \u001b[1m3s\u001b[0m 7ms/step - accuracy: 0.3238 - loss: 1.9135 - val_accuracy: 0.5080 - val_loss: 1.4978\n",
      "Epoch 5/100\n",
      "\u001b[1m210/210\u001b[0m \u001b[32m━━━━━━━━━━━━━━━━━━━━\u001b[0m\u001b[37m\u001b[0m \u001b[1m1s\u001b[0m 6ms/step - accuracy: 0.3788 - loss: 1.7678 - val_accuracy: 0.5154 - val_loss: 1.4586\n",
      "Epoch 6/100\n",
      "\u001b[1m210/210\u001b[0m \u001b[32m━━━━━━━━━━━━━━━━━━━━\u001b[0m\u001b[37m\u001b[0m \u001b[1m1s\u001b[0m 6ms/step - accuracy: 0.4342 - loss: 1.6566 - val_accuracy: 0.6012 - val_loss: 1.3081\n",
      "Epoch 7/100\n",
      "\u001b[1m210/210\u001b[0m \u001b[32m━━━━━━━━━━━━━━━━━━━━\u001b[0m\u001b[37m\u001b[0m \u001b[1m1s\u001b[0m 7ms/step - accuracy: 0.4664 - loss: 1.5652 - val_accuracy: 0.6206 - val_loss: 1.2364\n",
      "Epoch 8/100\n",
      "\u001b[1m210/210\u001b[0m \u001b[32m━━━━━━━━━━━━━━━━━━━━\u001b[0m\u001b[37m\u001b[0m \u001b[1m1s\u001b[0m 6ms/step - accuracy: 0.5012 - loss: 1.4876 - val_accuracy: 0.6184 - val_loss: 1.2067\n",
      "Epoch 9/100\n",
      "\u001b[1m210/210\u001b[0m \u001b[32m━━━━━━━━━━━━━━━━━━━━\u001b[0m\u001b[37m\u001b[0m \u001b[1m2s\u001b[0m 10ms/step - accuracy: 0.5285 - loss: 1.4187 - val_accuracy: 0.6634 - val_loss: 1.1099\n",
      "Epoch 10/100\n",
      "\u001b[1m210/210\u001b[0m \u001b[32m━━━━━━━━━━━━━━━━━━━━\u001b[0m\u001b[37m\u001b[0m \u001b[1m2s\u001b[0m 7ms/step - accuracy: 0.5530 - loss: 1.3554 - val_accuracy: 0.6317 - val_loss: 1.1578\n",
      "Epoch 11/100\n",
      "\u001b[1m210/210\u001b[0m \u001b[32m━━━━━━━━━━━━━━━━━━━━\u001b[0m\u001b[37m\u001b[0m \u001b[1m1s\u001b[0m 6ms/step - accuracy: 0.5677 - loss: 1.3243 - val_accuracy: 0.6726 - val_loss: 1.0515\n",
      "Epoch 12/100\n",
      "\u001b[1m210/210\u001b[0m \u001b[32m━━━━━━━━━━━━━━━━━━━━\u001b[0m\u001b[37m\u001b[0m \u001b[1m1s\u001b[0m 6ms/step - accuracy: 0.5896 - loss: 1.2735 - val_accuracy: 0.6872 - val_loss: 1.0112\n",
      "Epoch 13/100\n",
      "\u001b[1m210/210\u001b[0m \u001b[32m━━━━━━━━━━━━━━━━━━━━\u001b[0m\u001b[37m\u001b[0m \u001b[1m3s\u001b[0m 7ms/step - accuracy: 0.6005 - loss: 1.2391 - val_accuracy: 0.7047 - val_loss: 0.9808\n",
      "Epoch 14/100\n",
      "\u001b[1m210/210\u001b[0m \u001b[32m━━━━━━━━━━━━━━━━━━━━\u001b[0m\u001b[37m\u001b[0m \u001b[1m2s\u001b[0m 6ms/step - accuracy: 0.6207 - loss: 1.1986 - val_accuracy: 0.7182 - val_loss: 0.9267\n",
      "Epoch 15/100\n",
      "\u001b[1m210/210\u001b[0m \u001b[32m━━━━━━━━━━━━━━━━━━━━\u001b[0m\u001b[37m\u001b[0m \u001b[1m3s\u001b[0m 8ms/step - accuracy: 0.6268 - loss: 1.1671 - val_accuracy: 0.7260 - val_loss: 0.8936\n",
      "Epoch 16/100\n",
      "\u001b[1m210/210\u001b[0m \u001b[32m━━━━━━━━━━━━━━━━━━━━\u001b[0m\u001b[37m\u001b[0m \u001b[1m2s\u001b[0m 6ms/step - accuracy: 0.6429 - loss: 1.1252 - val_accuracy: 0.7201 - val_loss: 0.8985\n",
      "Epoch 17/100\n",
      "\u001b[1m210/210\u001b[0m \u001b[32m━━━━━━━━━━━━━━━━━━━━\u001b[0m\u001b[37m\u001b[0m \u001b[1m3s\u001b[0m 6ms/step - accuracy: 0.6514 - loss: 1.1012 - val_accuracy: 0.7232 - val_loss: 0.8840\n",
      "Epoch 18/100\n",
      "\u001b[1m210/210\u001b[0m \u001b[32m━━━━━━━━━━━━━━━━━━━━\u001b[0m\u001b[37m\u001b[0m \u001b[1m3s\u001b[0m 7ms/step - accuracy: 0.6569 - loss: 1.0895 - val_accuracy: 0.7290 - val_loss: 0.8675\n",
      "Epoch 19/100\n",
      "\u001b[1m210/210\u001b[0m \u001b[32m━━━━━━━━━━━━━━━━━━━━\u001b[0m\u001b[37m\u001b[0m \u001b[1m1s\u001b[0m 6ms/step - accuracy: 0.6671 - loss: 1.0615 - val_accuracy: 0.7437 - val_loss: 0.8197\n",
      "Epoch 20/100\n",
      "\u001b[1m210/210\u001b[0m \u001b[32m━━━━━━━━━━━━━━━━━━━━\u001b[0m\u001b[37m\u001b[0m \u001b[1m3s\u001b[0m 7ms/step - accuracy: 0.6743 - loss: 1.0350 - val_accuracy: 0.7473 - val_loss: 0.8159\n",
      "Epoch 21/100\n",
      "\u001b[1m210/210\u001b[0m \u001b[32m━━━━━━━━━━━━━━━━━━━━\u001b[0m\u001b[37m\u001b[0m \u001b[1m3s\u001b[0m 7ms/step - accuracy: 0.6794 - loss: 1.0308 - val_accuracy: 0.7368 - val_loss: 0.8465\n",
      "Epoch 22/100\n",
      "\u001b[1m210/210\u001b[0m \u001b[32m━━━━━━━━━━━━━━━━━━━━\u001b[0m\u001b[37m\u001b[0m \u001b[1m2s\u001b[0m 7ms/step - accuracy: 0.6878 - loss: 0.9995 - val_accuracy: 0.7402 - val_loss: 0.8181\n",
      "Epoch 23/100\n",
      "\u001b[1m210/210\u001b[0m \u001b[32m━━━━━━━━━━━━━━━━━━━━\u001b[0m\u001b[37m\u001b[0m \u001b[1m1s\u001b[0m 6ms/step - accuracy: 0.6911 - loss: 0.9854 - val_accuracy: 0.7636 - val_loss: 0.7582\n",
      "Epoch 24/100\n",
      "\u001b[1m210/210\u001b[0m \u001b[32m━━━━━━━━━━━━━━━━━━━━\u001b[0m\u001b[37m\u001b[0m \u001b[1m1s\u001b[0m 6ms/step - accuracy: 0.6985 - loss: 0.9770 - val_accuracy: 0.7587 - val_loss: 0.7714\n",
      "Epoch 25/100\n",
      "\u001b[1m210/210\u001b[0m \u001b[32m━━━━━━━━━━━━━━━━━━━━\u001b[0m\u001b[37m\u001b[0m \u001b[1m1s\u001b[0m 6ms/step - accuracy: 0.7009 - loss: 0.9626 - val_accuracy: 0.7466 - val_loss: 0.7889\n",
      "Epoch 26/100\n",
      "\u001b[1m210/210\u001b[0m \u001b[32m━━━━━━━━━━━━━━━━━━━━\u001b[0m\u001b[37m\u001b[0m \u001b[1m2s\u001b[0m 6ms/step - accuracy: 0.7052 - loss: 0.9466 - val_accuracy: 0.7739 - val_loss: 0.7197\n",
      "Epoch 27/100\n",
      "\u001b[1m210/210\u001b[0m \u001b[32m━━━━━━━━━━━━━━━━━━━━\u001b[0m\u001b[37m\u001b[0m \u001b[1m2s\u001b[0m 10ms/step - accuracy: 0.7120 - loss: 0.9330 - val_accuracy: 0.7622 - val_loss: 0.7499\n",
      "Epoch 28/100\n",
      "\u001b[1m210/210\u001b[0m \u001b[32m━━━━━━━━━━━━━━━━━━━━\u001b[0m\u001b[37m\u001b[0m \u001b[1m2s\u001b[0m 8ms/step - accuracy: 0.7128 - loss: 0.9168 - val_accuracy: 0.7654 - val_loss: 0.7429\n",
      "Epoch 29/100\n",
      "\u001b[1m210/210\u001b[0m \u001b[32m━━━━━━━━━━━━━━━━━━━━\u001b[0m\u001b[37m\u001b[0m \u001b[1m1s\u001b[0m 7ms/step - accuracy: 0.7225 - loss: 0.9017 - val_accuracy: 0.7737 - val_loss: 0.7273\n",
      "Epoch 30/100\n",
      "\u001b[1m210/210\u001b[0m \u001b[32m━━━━━━━━━━━━━━━━━━━━\u001b[0m\u001b[37m\u001b[0m \u001b[1m1s\u001b[0m 7ms/step - accuracy: 0.7234 - loss: 0.8966 - val_accuracy: 0.7680 - val_loss: 0.7428\n",
      "Epoch 31/100\n",
      "\u001b[1m210/210\u001b[0m \u001b[32m━━━━━━━━━━━━━━━━━━━━\u001b[0m\u001b[37m\u001b[0m \u001b[1m1s\u001b[0m 6ms/step - accuracy: 0.7274 - loss: 0.8835 - val_accuracy: 0.7735 - val_loss: 0.7216\n",
      "Epoch 32/100\n",
      "\u001b[1m210/210\u001b[0m \u001b[32m━━━━━━━━━━━━━━━━━━━━\u001b[0m\u001b[37m\u001b[0m \u001b[1m1s\u001b[0m 6ms/step - accuracy: 0.7344 - loss: 0.8608 - val_accuracy: 0.7818 - val_loss: 0.7018\n",
      "Epoch 33/100\n",
      "\u001b[1m210/210\u001b[0m \u001b[32m━━━━━━━━━━━━━━━━━━━━\u001b[0m\u001b[37m\u001b[0m \u001b[1m1s\u001b[0m 6ms/step - accuracy: 0.7357 - loss: 0.8622 - val_accuracy: 0.7742 - val_loss: 0.7160\n",
      "Epoch 34/100\n",
      "\u001b[1m210/210\u001b[0m \u001b[32m━━━━━━━━━━━━━━━━━━━━\u001b[0m\u001b[37m\u001b[0m \u001b[1m1s\u001b[0m 7ms/step - accuracy: 0.7414 - loss: 0.8462 - val_accuracy: 0.7815 - val_loss: 0.7017\n",
      "Epoch 35/100\n",
      "\u001b[1m210/210\u001b[0m \u001b[32m━━━━━━━━━━━━━━━━━━━━\u001b[0m\u001b[37m\u001b[0m \u001b[1m2s\u001b[0m 10ms/step - accuracy: 0.7421 - loss: 0.8370 - val_accuracy: 0.7926 - val_loss: 0.6650\n",
      "Epoch 36/100\n",
      "\u001b[1m210/210\u001b[0m \u001b[32m━━━━━━━━━━━━━━━━━━━━\u001b[0m\u001b[37m\u001b[0m \u001b[1m2s\u001b[0m 11ms/step - accuracy: 0.7433 - loss: 0.8356 - val_accuracy: 0.7830 - val_loss: 0.6844\n",
      "Epoch 37/100\n",
      "\u001b[1m210/210\u001b[0m \u001b[32m━━━━━━━━━━━━━━━━━━━━\u001b[0m\u001b[37m\u001b[0m \u001b[1m1s\u001b[0m 7ms/step - accuracy: 0.7410 - loss: 0.8309 - val_accuracy: 0.7925 - val_loss: 0.6561\n",
      "Epoch 38/100\n",
      "\u001b[1m210/210\u001b[0m \u001b[32m━━━━━━━━━━━━━━━━━━━━\u001b[0m\u001b[37m\u001b[0m \u001b[1m1s\u001b[0m 6ms/step - accuracy: 0.7529 - loss: 0.8175 - val_accuracy: 0.7502 - val_loss: 0.7810\n",
      "Epoch 39/100\n",
      "\u001b[1m210/210\u001b[0m \u001b[32m━━━━━━━━━━━━━━━━━━━━\u001b[0m\u001b[37m\u001b[0m \u001b[1m1s\u001b[0m 6ms/step - accuracy: 0.7482 - loss: 0.8187 - val_accuracy: 0.7880 - val_loss: 0.6728\n",
      "Epoch 40/100\n",
      "\u001b[1m210/210\u001b[0m \u001b[32m━━━━━━━━━━━━━━━━━━━━\u001b[0m\u001b[37m\u001b[0m \u001b[1m1s\u001b[0m 6ms/step - accuracy: 0.7502 - loss: 0.8126 - val_accuracy: 0.8033 - val_loss: 0.6369\n",
      "Epoch 41/100\n",
      "\u001b[1m210/210\u001b[0m \u001b[32m━━━━━━━━━━━━━━━━━━━━\u001b[0m\u001b[37m\u001b[0m \u001b[1m1s\u001b[0m 6ms/step - accuracy: 0.7550 - loss: 0.7958 - val_accuracy: 0.7899 - val_loss: 0.6755\n",
      "Epoch 42/100\n",
      "\u001b[1m210/210\u001b[0m \u001b[32m━━━━━━━━━━━━━━━━━━━━\u001b[0m\u001b[37m\u001b[0m \u001b[1m3s\u001b[0m 7ms/step - accuracy: 0.7580 - loss: 0.7880 - val_accuracy: 0.8107 - val_loss: 0.6143\n",
      "Epoch 43/100\n",
      "\u001b[1m210/210\u001b[0m \u001b[32m━━━━━━━━━━━━━━━━━━━━\u001b[0m\u001b[37m\u001b[0m \u001b[1m3s\u001b[0m 11ms/step - accuracy: 0.7586 - loss: 0.7825 - val_accuracy: 0.8050 - val_loss: 0.6254\n",
      "Epoch 44/100\n",
      "\u001b[1m210/210\u001b[0m \u001b[32m━━━━━━━━━━━━━━━━━━━━\u001b[0m\u001b[37m\u001b[0m \u001b[1m1s\u001b[0m 7ms/step - accuracy: 0.7600 - loss: 0.7809 - val_accuracy: 0.8003 - val_loss: 0.6421\n",
      "Epoch 45/100\n",
      "\u001b[1m210/210\u001b[0m \u001b[32m━━━━━━━━━━━━━━━━━━━━\u001b[0m\u001b[37m\u001b[0m \u001b[1m1s\u001b[0m 6ms/step - accuracy: 0.7678 - loss: 0.7703 - val_accuracy: 0.8162 - val_loss: 0.5966\n",
      "Epoch 46/100\n",
      "\u001b[1m210/210\u001b[0m \u001b[32m━━━━━━━━━━━━━━━━━━━━\u001b[0m\u001b[37m\u001b[0m \u001b[1m3s\u001b[0m 6ms/step - accuracy: 0.7662 - loss: 0.7629 - val_accuracy: 0.8211 - val_loss: 0.5803\n",
      "Epoch 47/100\n",
      "\u001b[1m210/210\u001b[0m \u001b[32m━━━━━━━━━━━━━━━━━━━━\u001b[0m\u001b[37m\u001b[0m \u001b[1m3s\u001b[0m 6ms/step - accuracy: 0.7639 - loss: 0.7668 - val_accuracy: 0.8203 - val_loss: 0.5833\n",
      "Epoch 48/100\n",
      "\u001b[1m210/210\u001b[0m \u001b[32m━━━━━━━━━━━━━━━━━━━━\u001b[0m\u001b[37m\u001b[0m \u001b[1m1s\u001b[0m 6ms/step - accuracy: 0.7733 - loss: 0.7470 - val_accuracy: 0.8205 - val_loss: 0.5839\n",
      "Epoch 49/100\n",
      "\u001b[1m210/210\u001b[0m \u001b[32m━━━━━━━━━━━━━━━━━━━━\u001b[0m\u001b[37m\u001b[0m \u001b[1m2s\u001b[0m 8ms/step - accuracy: 0.7724 - loss: 0.7442 - val_accuracy: 0.8201 - val_loss: 0.5799\n",
      "Epoch 50/100\n",
      "\u001b[1m210/210\u001b[0m \u001b[32m━━━━━━━━━━━━━━━━━━━━\u001b[0m\u001b[37m\u001b[0m \u001b[1m2s\u001b[0m 6ms/step - accuracy: 0.7729 - loss: 0.7405 - val_accuracy: 0.8132 - val_loss: 0.5983\n",
      "Epoch 51/100\n",
      "\u001b[1m210/210\u001b[0m \u001b[32m━━━━━━━━━━━━━━━━━━━━\u001b[0m\u001b[37m\u001b[0m \u001b[1m1s\u001b[0m 6ms/step - accuracy: 0.7741 - loss: 0.7399 - val_accuracy: 0.8152 - val_loss: 0.5979\n",
      "Epoch 52/100\n",
      "\u001b[1m210/210\u001b[0m \u001b[32m━━━━━━━━━━━━━━━━━━━━\u001b[0m\u001b[37m\u001b[0m \u001b[1m1s\u001b[0m 6ms/step - accuracy: 0.7731 - loss: 0.7432 - val_accuracy: 0.8180 - val_loss: 0.5901\n",
      "Epoch 53/100\n",
      "\u001b[1m210/210\u001b[0m \u001b[32m━━━━━━━━━━━━━━━━━━━━\u001b[0m\u001b[37m\u001b[0m \u001b[1m1s\u001b[0m 6ms/step - accuracy: 0.7757 - loss: 0.7305 - val_accuracy: 0.8113 - val_loss: 0.6073\n",
      "Epoch 54/100\n",
      "\u001b[1m210/210\u001b[0m \u001b[32m━━━━━━━━━━━━━━━━━━━━\u001b[0m\u001b[37m\u001b[0m \u001b[1m1s\u001b[0m 6ms/step - accuracy: 0.7802 - loss: 0.7231 - val_accuracy: 0.8241 - val_loss: 0.5723\n",
      "Epoch 55/100\n",
      "\u001b[1m210/210\u001b[0m \u001b[32m━━━━━━━━━━━━━━━━━━━━\u001b[0m\u001b[37m\u001b[0m \u001b[1m1s\u001b[0m 6ms/step - accuracy: 0.7827 - loss: 0.7203 - val_accuracy: 0.8156 - val_loss: 0.5884\n",
      "Epoch 56/100\n",
      "\u001b[1m210/210\u001b[0m \u001b[32m━━━━━━━━━━━━━━━━━━━━\u001b[0m\u001b[37m\u001b[0m \u001b[1m1s\u001b[0m 6ms/step - accuracy: 0.7843 - loss: 0.7050 - val_accuracy: 0.8374 - val_loss: 0.5322\n",
      "Epoch 57/100\n",
      "\u001b[1m210/210\u001b[0m \u001b[32m━━━━━━━━━━━━━━━━━━━━\u001b[0m\u001b[37m\u001b[0m \u001b[1m1s\u001b[0m 6ms/step - accuracy: 0.7877 - loss: 0.6962 - val_accuracy: 0.8220 - val_loss: 0.5714\n",
      "Epoch 58/100\n",
      "\u001b[1m210/210\u001b[0m \u001b[32m━━━━━━━━━━━━━━━━━━━━\u001b[0m\u001b[37m\u001b[0m \u001b[1m3s\u001b[0m 7ms/step - accuracy: 0.7855 - loss: 0.7023 - val_accuracy: 0.8256 - val_loss: 0.5645\n",
      "Epoch 59/100\n",
      "\u001b[1m210/210\u001b[0m \u001b[32m━━━━━━━━━━━━━━━━━━━━\u001b[0m\u001b[37m\u001b[0m \u001b[1m1s\u001b[0m 6ms/step - accuracy: 0.7914 - loss: 0.6875 - val_accuracy: 0.8229 - val_loss: 0.5722\n",
      "Epoch 60/100\n",
      "\u001b[1m210/210\u001b[0m \u001b[32m━━━━━━━━━━━━━━━━━━━━\u001b[0m\u001b[37m\u001b[0m \u001b[1m1s\u001b[0m 7ms/step - accuracy: 0.7879 - loss: 0.6940 - val_accuracy: 0.8267 - val_loss: 0.5649\n",
      "Epoch 61/100\n",
      "\u001b[1m210/210\u001b[0m \u001b[32m━━━━━━━━━━━━━━━━━━━━\u001b[0m\u001b[37m\u001b[0m \u001b[1m1s\u001b[0m 6ms/step - accuracy: 0.7945 - loss: 0.6818 - val_accuracy: 0.8360 - val_loss: 0.5311\n",
      "Epoch 62/100\n",
      "\u001b[1m210/210\u001b[0m \u001b[32m━━━━━━━━━━━━━━━━━━━━\u001b[0m\u001b[37m\u001b[0m \u001b[1m1s\u001b[0m 6ms/step - accuracy: 0.7935 - loss: 0.6784 - val_accuracy: 0.8074 - val_loss: 0.6103\n",
      "Epoch 63/100\n",
      "\u001b[1m210/210\u001b[0m \u001b[32m━━━━━━━━━━━━━━━━━━━━\u001b[0m\u001b[37m\u001b[0m \u001b[1m1s\u001b[0m 6ms/step - accuracy: 0.7928 - loss: 0.6830 - val_accuracy: 0.8245 - val_loss: 0.5725\n",
      "Epoch 64/100\n",
      "\u001b[1m210/210\u001b[0m \u001b[32m━━━━━━━━━━━━━━━━━━━━\u001b[0m\u001b[37m\u001b[0m \u001b[1m3s\u001b[0m 6ms/step - accuracy: 0.7939 - loss: 0.6766 - val_accuracy: 0.8235 - val_loss: 0.5659\n",
      "Epoch 65/100\n",
      "\u001b[1m210/210\u001b[0m \u001b[32m━━━━━━━━━━━━━━━━━━━━\u001b[0m\u001b[37m\u001b[0m \u001b[1m3s\u001b[0m 8ms/step - accuracy: 0.7933 - loss: 0.6703 - val_accuracy: 0.8319 - val_loss: 0.5419\n",
      "Epoch 66/100\n",
      "\u001b[1m210/210\u001b[0m \u001b[32m━━━━━━━━━━━━━━━━━━━━\u001b[0m\u001b[37m\u001b[0m \u001b[1m2s\u001b[0m 6ms/step - accuracy: 0.7932 - loss: 0.6781 - val_accuracy: 0.8245 - val_loss: 0.5664\n",
      "Epoch 67/100\n",
      "\u001b[1m210/210\u001b[0m \u001b[32m━━━━━━━━━━━━━━━━━━━━\u001b[0m\u001b[37m\u001b[0m \u001b[1m3s\u001b[0m 7ms/step - accuracy: 0.7969 - loss: 0.6665 - val_accuracy: 0.8403 - val_loss: 0.5172\n",
      "Epoch 68/100\n",
      "\u001b[1m210/210\u001b[0m \u001b[32m━━━━━━━━━━━━━━━━━━━━\u001b[0m\u001b[37m\u001b[0m \u001b[1m3s\u001b[0m 7ms/step - accuracy: 0.8005 - loss: 0.6594 - val_accuracy: 0.8283 - val_loss: 0.5555\n",
      "Epoch 69/100\n",
      "\u001b[1m210/210\u001b[0m \u001b[32m━━━━━━━━━━━━━━━━━━━━\u001b[0m\u001b[37m\u001b[0m \u001b[1m1s\u001b[0m 6ms/step - accuracy: 0.7999 - loss: 0.6544 - val_accuracy: 0.8336 - val_loss: 0.5360\n",
      "Epoch 70/100\n",
      "\u001b[1m210/210\u001b[0m \u001b[32m━━━━━━━━━━━━━━━━━━━━\u001b[0m\u001b[37m\u001b[0m \u001b[1m1s\u001b[0m 7ms/step - accuracy: 0.8032 - loss: 0.6506 - val_accuracy: 0.7780 - val_loss: 0.6888\n",
      "Epoch 71/100\n",
      "\u001b[1m210/210\u001b[0m \u001b[32m━━━━━━━━━━━━━━━━━━━━\u001b[0m\u001b[37m\u001b[0m \u001b[1m2s\u001b[0m 11ms/step - accuracy: 0.8007 - loss: 0.6555 - val_accuracy: 0.8388 - val_loss: 0.5237\n",
      "Epoch 72/100\n",
      "\u001b[1m210/210\u001b[0m \u001b[32m━━━━━━━━━━━━━━━━━━━━\u001b[0m\u001b[37m\u001b[0m \u001b[1m1s\u001b[0m 6ms/step - accuracy: 0.8002 - loss: 0.6490 - val_accuracy: 0.8406 - val_loss: 0.5226\n",
      "Epoch 73/100\n",
      "\u001b[1m210/210\u001b[0m \u001b[32m━━━━━━━━━━━━━━━━━━━━\u001b[0m\u001b[37m\u001b[0m \u001b[1m1s\u001b[0m 7ms/step - accuracy: 0.8004 - loss: 0.6544 - val_accuracy: 0.8346 - val_loss: 0.5328\n",
      "Epoch 74/100\n",
      "\u001b[1m210/210\u001b[0m \u001b[32m━━━━━━━━━━━━━━━━━━━━\u001b[0m\u001b[37m\u001b[0m \u001b[1m1s\u001b[0m 7ms/step - accuracy: 0.8103 - loss: 0.6283 - val_accuracy: 0.8526 - val_loss: 0.4804\n",
      "Epoch 75/100\n",
      "\u001b[1m210/210\u001b[0m \u001b[32m━━━━━━━━━━━━━━━━━━━━\u001b[0m\u001b[37m\u001b[0m \u001b[1m1s\u001b[0m 6ms/step - accuracy: 0.8089 - loss: 0.6303 - val_accuracy: 0.8430 - val_loss: 0.5060\n",
      "Epoch 76/100\n",
      "\u001b[1m210/210\u001b[0m \u001b[32m━━━━━━━━━━━━━━━━━━━━\u001b[0m\u001b[37m\u001b[0m \u001b[1m1s\u001b[0m 6ms/step - accuracy: 0.8060 - loss: 0.6341 - val_accuracy: 0.8455 - val_loss: 0.5014\n",
      "Epoch 77/100\n",
      "\u001b[1m210/210\u001b[0m \u001b[32m━━━━━━━━━━━━━━━━━━━━\u001b[0m\u001b[37m\u001b[0m \u001b[1m1s\u001b[0m 6ms/step - accuracy: 0.8024 - loss: 0.6422 - val_accuracy: 0.8384 - val_loss: 0.5269\n",
      "Epoch 78/100\n",
      "\u001b[1m210/210\u001b[0m \u001b[32m━━━━━━━━━━━━━━━━━━━━\u001b[0m\u001b[37m\u001b[0m \u001b[1m1s\u001b[0m 6ms/step - accuracy: 0.8067 - loss: 0.6329 - val_accuracy: 0.8196 - val_loss: 0.5723\n",
      "Epoch 79/100\n",
      "\u001b[1m210/210\u001b[0m \u001b[32m━━━━━━━━━━━━━━━━━━━━\u001b[0m\u001b[37m\u001b[0m \u001b[1m1s\u001b[0m 7ms/step - accuracy: 0.8110 - loss: 0.6266 - val_accuracy: 0.8408 - val_loss: 0.5126\n",
      "Epoch 80/100\n",
      "\u001b[1m210/210\u001b[0m \u001b[32m━━━━━━━━━━━━━━━━━━━━\u001b[0m\u001b[37m\u001b[0m \u001b[1m3s\u001b[0m 7ms/step - accuracy: 0.8111 - loss: 0.6237 - val_accuracy: 0.8483 - val_loss: 0.4931\n",
      "Epoch 81/100\n",
      "\u001b[1m210/210\u001b[0m \u001b[32m━━━━━━━━━━━━━━━━━━━━\u001b[0m\u001b[37m\u001b[0m \u001b[1m2s\u001b[0m 6ms/step - accuracy: 0.8144 - loss: 0.6155 - val_accuracy: 0.8412 - val_loss: 0.5173\n",
      "Epoch 82/100\n",
      "\u001b[1m210/210\u001b[0m \u001b[32m━━━━━━━━━━━━━━━━━━━━\u001b[0m\u001b[37m\u001b[0m \u001b[1m3s\u001b[0m 6ms/step - accuracy: 0.8140 - loss: 0.6133 - val_accuracy: 0.8470 - val_loss: 0.4949\n",
      "Epoch 83/100\n",
      "\u001b[1m210/210\u001b[0m \u001b[32m━━━━━━━━━━━━━━━━━━━━\u001b[0m\u001b[37m\u001b[0m \u001b[1m2s\u001b[0m 6ms/step - accuracy: 0.8137 - loss: 0.6192 - val_accuracy: 0.8444 - val_loss: 0.5044\n",
      "Epoch 84/100\n",
      "\u001b[1m210/210\u001b[0m \u001b[32m━━━━━━━━━━━━━━━━━━━━\u001b[0m\u001b[37m\u001b[0m \u001b[1m3s\u001b[0m 10ms/step - accuracy: 0.8150 - loss: 0.6102 - val_accuracy: 0.8493 - val_loss: 0.4862\n",
      "Epoch 85/100\n",
      "\u001b[1m210/210\u001b[0m \u001b[32m━━━━━━━━━━━━━━━━━━━━\u001b[0m\u001b[37m\u001b[0m \u001b[1m2s\u001b[0m 7ms/step - accuracy: 0.8165 - loss: 0.6065 - val_accuracy: 0.8468 - val_loss: 0.4907\n",
      "Epoch 86/100\n",
      "\u001b[1m210/210\u001b[0m \u001b[32m━━━━━━━━━━━━━━━━━━━━\u001b[0m\u001b[37m\u001b[0m \u001b[1m1s\u001b[0m 7ms/step - accuracy: 0.8138 - loss: 0.6138 - val_accuracy: 0.8139 - val_loss: 0.5970\n",
      "Epoch 87/100\n",
      "\u001b[1m210/210\u001b[0m \u001b[32m━━━━━━━━━━━━━━━━━━━━\u001b[0m\u001b[37m\u001b[0m \u001b[1m1s\u001b[0m 7ms/step - accuracy: 0.8164 - loss: 0.5974 - val_accuracy: 0.8503 - val_loss: 0.4854\n",
      "Epoch 88/100\n",
      "\u001b[1m210/210\u001b[0m \u001b[32m━━━━━━━━━━━━━━━━━━━━\u001b[0m\u001b[37m\u001b[0m \u001b[1m1s\u001b[0m 6ms/step - accuracy: 0.8200 - loss: 0.5949 - val_accuracy: 0.8295 - val_loss: 0.5434\n",
      "Epoch 89/100\n",
      "\u001b[1m210/210\u001b[0m \u001b[32m━━━━━━━━━━━━━━━━━━━━\u001b[0m\u001b[37m\u001b[0m \u001b[1m1s\u001b[0m 6ms/step - accuracy: 0.8179 - loss: 0.5949 - val_accuracy: 0.8588 - val_loss: 0.4637\n",
      "Epoch 90/100\n",
      "\u001b[1m210/210\u001b[0m \u001b[32m━━━━━━━━━━━━━━━━━━━━\u001b[0m\u001b[37m\u001b[0m \u001b[1m1s\u001b[0m 7ms/step - accuracy: 0.8177 - loss: 0.5954 - val_accuracy: 0.8526 - val_loss: 0.4737\n",
      "Epoch 91/100\n",
      "\u001b[1m210/210\u001b[0m \u001b[32m━━━━━━━━━━━━━━━━━━━━\u001b[0m\u001b[37m\u001b[0m \u001b[1m2s\u001b[0m 10ms/step - accuracy: 0.8195 - loss: 0.5894 - val_accuracy: 0.8521 - val_loss: 0.4804\n",
      "Epoch 92/100\n",
      "\u001b[1m210/210\u001b[0m \u001b[32m━━━━━━━━━━━━━━━━━━━━\u001b[0m\u001b[37m\u001b[0m \u001b[1m3s\u001b[0m 12ms/step - accuracy: 0.8217 - loss: 0.5838 - val_accuracy: 0.8551 - val_loss: 0.4684\n",
      "Epoch 93/100\n",
      "\u001b[1m210/210\u001b[0m \u001b[32m━━━━━━━━━━━━━━━━━━━━\u001b[0m\u001b[37m\u001b[0m \u001b[1m2s\u001b[0m 8ms/step - accuracy: 0.8211 - loss: 0.5901 - val_accuracy: 0.8349 - val_loss: 0.5332\n",
      "Epoch 94/100\n",
      "\u001b[1m210/210\u001b[0m \u001b[32m━━━━━━━━━━━━━━━━━━━━\u001b[0m\u001b[37m\u001b[0m \u001b[1m1s\u001b[0m 6ms/step - accuracy: 0.8205 - loss: 0.5877 - val_accuracy: 0.8602 - val_loss: 0.4582\n",
      "Epoch 95/100\n",
      "\u001b[1m210/210\u001b[0m \u001b[32m━━━━━━━━━━━━━━━━━━━━\u001b[0m\u001b[37m\u001b[0m \u001b[1m1s\u001b[0m 6ms/step - accuracy: 0.8202 - loss: 0.5849 - val_accuracy: 0.8371 - val_loss: 0.5210\n",
      "Epoch 96/100\n",
      "\u001b[1m210/210\u001b[0m \u001b[32m━━━━━━━━━━━━━━━━━━━━\u001b[0m\u001b[37m\u001b[0m \u001b[1m1s\u001b[0m 6ms/step - accuracy: 0.8231 - loss: 0.5838 - val_accuracy: 0.8458 - val_loss: 0.4964\n",
      "Epoch 97/100\n",
      "\u001b[1m210/210\u001b[0m \u001b[32m━━━━━━━━━━━━━━━━━━━━\u001b[0m\u001b[37m\u001b[0m \u001b[1m1s\u001b[0m 6ms/step - accuracy: 0.8232 - loss: 0.5846 - val_accuracy: 0.8566 - val_loss: 0.4648\n",
      "Epoch 98/100\n",
      "\u001b[1m210/210\u001b[0m \u001b[32m━━━━━━━━━━━━━━━━━━━━\u001b[0m\u001b[37m\u001b[0m \u001b[1m1s\u001b[0m 6ms/step - accuracy: 0.8250 - loss: 0.5740 - val_accuracy: 0.8545 - val_loss: 0.4709\n",
      "Epoch 99/100\n",
      "\u001b[1m210/210\u001b[0m \u001b[32m━━━━━━━━━━━━━━━━━━━━\u001b[0m\u001b[37m\u001b[0m \u001b[1m1s\u001b[0m 6ms/step - accuracy: 0.8259 - loss: 0.5751 - val_accuracy: 0.8531 - val_loss: 0.4755\n",
      "Epoch 100/100\n",
      "\u001b[1m210/210\u001b[0m \u001b[32m━━━━━━━━━━━━━━━━━━━━\u001b[0m\u001b[37m\u001b[0m \u001b[1m1s\u001b[0m 7ms/step - accuracy: 0.8270 - loss: 0.5704 - val_accuracy: 0.8574 - val_loss: 0.4654\n"
     ]
    }
   ],
   "source": [
    "# Fitting the ANN to the Training data\n",
    "history_4 = keras_model_3.fit(X_train, y_train, validation_data=(X_val,y_val),batch_size = 200, epochs = 100, verbose = 1)"
   ]
  },
  {
   "cell_type": "code",
   "execution_count": 45,
   "metadata": {
    "colab": {
     "base_uri": "https://localhost:8080/"
    },
    "executionInfo": {
     "elapsed": 6453,
     "status": "ok",
     "timestamp": 1714710004477,
     "user": {
      "displayName": "Ramana Reddy",
      "userId": "14322252769386133087"
     },
     "user_tz": -330
    },
    "id": "r97tDMHkGZLl",
    "outputId": "c54e98d4-a7f5-4e5f-918d-ed5034ac5775"
   },
   "outputs": [
    {
     "name": "stdout",
     "output_type": "stream",
     "text": [
      "\u001b[1m1875/1875\u001b[0m \u001b[32m━━━━━━━━━━━━━━━━━━━━\u001b[0m\u001b[37m\u001b[0m \u001b[1m4s\u001b[0m 2ms/step - accuracy: 0.8452 - loss: 0.5185\n",
      "Val_accuracy using ADAM optimizer, Batch Normalization and dropout:  0.8574166893959045\n"
     ]
    }
   ],
   "source": [
    "results_nn_adam_batch_norm_dropout = keras_model_3.evaluate(X_val, y_val)\n",
    "print('Val_accuracy using ADAM optimizer, Batch Normalization and dropout: ', results_nn_adam_batch_norm_dropout[1])"
   ]
  },
  {
   "cell_type": "markdown",
   "metadata": {
    "id": "sxFrL8kILtrC"
   },
   "source": [
    "MODEL-7: Validation Accuracy stands at 39% which is less than what was achieved with base Adam optimizer earlier."
   ]
  },
  {
   "cell_type": "code",
   "execution_count": 46,
   "metadata": {
    "colab": {
     "base_uri": "https://localhost:8080/",
     "height": 174
    },
    "executionInfo": {
     "elapsed": 18,
     "status": "ok",
     "timestamp": 1714710004477,
     "user": {
      "displayName": "Ramana Reddy",
      "userId": "14322252769386133087"
     },
     "user_tz": -330
    },
    "id": "HiUoljM6MGQ5",
    "outputId": "f2013509-4112-4bac-a69e-295660ccd45d"
   },
   "outputs": [
    {
     "data": {
      "application/vnd.google.colaboratory.intrinsic+json": {
       "summary": "{\n  \"name\": \"model_eval_df\",\n  \"rows\": 4,\n  \"fields\": [\n    {\n      \"column\": \"Model\",\n      \"properties\": {\n        \"dtype\": \"string\",\n        \"num_unique_values\": 4,\n        \"samples\": [\n          \"NN with Adam and Batch Normalization\",\n          \"NN with Adam, Batch Norm, Dropout\",\n          \"NN with Adam\"\n        ],\n        \"semantic_type\": \"\",\n        \"description\": \"\"\n      }\n    },\n    {\n      \"column\": \"Accuracy\",\n      \"properties\": {\n        \"dtype\": \"number\",\n        \"std\": 19,\n        \"min\": 46,\n        \"max\": 89,\n        \"num_unique_values\": 4,\n        \"samples\": [\n          81,\n          86,\n          89\n        ],\n        \"semantic_type\": \"\",\n        \"description\": \"\"\n      }\n    }\n  ]\n}",
       "type": "dataframe",
       "variable_name": "model_eval_df"
      },
      "text/html": [
       "\n",
       "  <div id=\"df-4e091631-51cc-46d3-a312-d59627749c4d\" class=\"colab-df-container\">\n",
       "    <div>\n",
       "<style scoped>\n",
       "    .dataframe tbody tr th:only-of-type {\n",
       "        vertical-align: middle;\n",
       "    }\n",
       "\n",
       "    .dataframe tbody tr th {\n",
       "        vertical-align: top;\n",
       "    }\n",
       "\n",
       "    .dataframe thead th {\n",
       "        text-align: right;\n",
       "    }\n",
       "</style>\n",
       "<table border=\"1\" class=\"dataframe\">\n",
       "  <thead>\n",
       "    <tr style=\"text-align: right;\">\n",
       "      <th></th>\n",
       "      <th>Model</th>\n",
       "      <th>Accuracy</th>\n",
       "    </tr>\n",
       "  </thead>\n",
       "  <tbody>\n",
       "    <tr>\n",
       "      <th>0</th>\n",
       "      <td>NN with Adam</td>\n",
       "      <td>89</td>\n",
       "    </tr>\n",
       "    <tr>\n",
       "      <th>1</th>\n",
       "      <td>NN with Adam and Batch Normalization</td>\n",
       "      <td>81</td>\n",
       "    </tr>\n",
       "    <tr>\n",
       "      <th>2</th>\n",
       "      <td>NN with SGD, Batch Normalization</td>\n",
       "      <td>46</td>\n",
       "    </tr>\n",
       "    <tr>\n",
       "      <th>3</th>\n",
       "      <td>NN with Adam, Batch Norm, Dropout</td>\n",
       "      <td>86</td>\n",
       "    </tr>\n",
       "  </tbody>\n",
       "</table>\n",
       "</div>\n",
       "    <div class=\"colab-df-buttons\">\n",
       "\n",
       "  <div class=\"colab-df-container\">\n",
       "    <button class=\"colab-df-convert\" onclick=\"convertToInteractive('df-4e091631-51cc-46d3-a312-d59627749c4d')\"\n",
       "            title=\"Convert this dataframe to an interactive table.\"\n",
       "            style=\"display:none;\">\n",
       "\n",
       "  <svg xmlns=\"http://www.w3.org/2000/svg\" height=\"24px\" viewBox=\"0 -960 960 960\">\n",
       "    <path d=\"M120-120v-720h720v720H120Zm60-500h600v-160H180v160Zm220 220h160v-160H400v160Zm0 220h160v-160H400v160ZM180-400h160v-160H180v160Zm440 0h160v-160H620v160ZM180-180h160v-160H180v160Zm440 0h160v-160H620v160Z\"/>\n",
       "  </svg>\n",
       "    </button>\n",
       "\n",
       "  <style>\n",
       "    .colab-df-container {\n",
       "      display:flex;\n",
       "      gap: 12px;\n",
       "    }\n",
       "\n",
       "    .colab-df-convert {\n",
       "      background-color: #E8F0FE;\n",
       "      border: none;\n",
       "      border-radius: 50%;\n",
       "      cursor: pointer;\n",
       "      display: none;\n",
       "      fill: #1967D2;\n",
       "      height: 32px;\n",
       "      padding: 0 0 0 0;\n",
       "      width: 32px;\n",
       "    }\n",
       "\n",
       "    .colab-df-convert:hover {\n",
       "      background-color: #E2EBFA;\n",
       "      box-shadow: 0px 1px 2px rgba(60, 64, 67, 0.3), 0px 1px 3px 1px rgba(60, 64, 67, 0.15);\n",
       "      fill: #174EA6;\n",
       "    }\n",
       "\n",
       "    .colab-df-buttons div {\n",
       "      margin-bottom: 4px;\n",
       "    }\n",
       "\n",
       "    [theme=dark] .colab-df-convert {\n",
       "      background-color: #3B4455;\n",
       "      fill: #D2E3FC;\n",
       "    }\n",
       "\n",
       "    [theme=dark] .colab-df-convert:hover {\n",
       "      background-color: #434B5C;\n",
       "      box-shadow: 0px 1px 3px 1px rgba(0, 0, 0, 0.15);\n",
       "      filter: drop-shadow(0px 1px 2px rgba(0, 0, 0, 0.3));\n",
       "      fill: #FFFFFF;\n",
       "    }\n",
       "  </style>\n",
       "\n",
       "    <script>\n",
       "      const buttonEl =\n",
       "        document.querySelector('#df-4e091631-51cc-46d3-a312-d59627749c4d button.colab-df-convert');\n",
       "      buttonEl.style.display =\n",
       "        google.colab.kernel.accessAllowed ? 'block' : 'none';\n",
       "\n",
       "      async function convertToInteractive(key) {\n",
       "        const element = document.querySelector('#df-4e091631-51cc-46d3-a312-d59627749c4d');\n",
       "        const dataTable =\n",
       "          await google.colab.kernel.invokeFunction('convertToInteractive',\n",
       "                                                    [key], {});\n",
       "        if (!dataTable) return;\n",
       "\n",
       "        const docLinkHtml = 'Like what you see? Visit the ' +\n",
       "          '<a target=\"_blank\" href=https://colab.research.google.com/notebooks/data_table.ipynb>data table notebook</a>'\n",
       "          + ' to learn more about interactive tables.';\n",
       "        element.innerHTML = '';\n",
       "        dataTable['output_type'] = 'display_data';\n",
       "        await google.colab.output.renderOutput(dataTable, element);\n",
       "        const docLink = document.createElement('div');\n",
       "        docLink.innerHTML = docLinkHtml;\n",
       "        element.appendChild(docLink);\n",
       "      }\n",
       "    </script>\n",
       "  </div>\n",
       "\n",
       "\n",
       "<div id=\"df-2d38d959-58ec-495f-ae0b-d287c4591d20\">\n",
       "  <button class=\"colab-df-quickchart\" onclick=\"quickchart('df-2d38d959-58ec-495f-ae0b-d287c4591d20')\"\n",
       "            title=\"Suggest charts\"\n",
       "            style=\"display:none;\">\n",
       "\n",
       "<svg xmlns=\"http://www.w3.org/2000/svg\" height=\"24px\"viewBox=\"0 0 24 24\"\n",
       "     width=\"24px\">\n",
       "    <g>\n",
       "        <path d=\"M19 3H5c-1.1 0-2 .9-2 2v14c0 1.1.9 2 2 2h14c1.1 0 2-.9 2-2V5c0-1.1-.9-2-2-2zM9 17H7v-7h2v7zm4 0h-2V7h2v10zm4 0h-2v-4h2v4z\"/>\n",
       "    </g>\n",
       "</svg>\n",
       "  </button>\n",
       "\n",
       "<style>\n",
       "  .colab-df-quickchart {\n",
       "      --bg-color: #E8F0FE;\n",
       "      --fill-color: #1967D2;\n",
       "      --hover-bg-color: #E2EBFA;\n",
       "      --hover-fill-color: #174EA6;\n",
       "      --disabled-fill-color: #AAA;\n",
       "      --disabled-bg-color: #DDD;\n",
       "  }\n",
       "\n",
       "  [theme=dark] .colab-df-quickchart {\n",
       "      --bg-color: #3B4455;\n",
       "      --fill-color: #D2E3FC;\n",
       "      --hover-bg-color: #434B5C;\n",
       "      --hover-fill-color: #FFFFFF;\n",
       "      --disabled-bg-color: #3B4455;\n",
       "      --disabled-fill-color: #666;\n",
       "  }\n",
       "\n",
       "  .colab-df-quickchart {\n",
       "    background-color: var(--bg-color);\n",
       "    border: none;\n",
       "    border-radius: 50%;\n",
       "    cursor: pointer;\n",
       "    display: none;\n",
       "    fill: var(--fill-color);\n",
       "    height: 32px;\n",
       "    padding: 0;\n",
       "    width: 32px;\n",
       "  }\n",
       "\n",
       "  .colab-df-quickchart:hover {\n",
       "    background-color: var(--hover-bg-color);\n",
       "    box-shadow: 0 1px 2px rgba(60, 64, 67, 0.3), 0 1px 3px 1px rgba(60, 64, 67, 0.15);\n",
       "    fill: var(--button-hover-fill-color);\n",
       "  }\n",
       "\n",
       "  .colab-df-quickchart-complete:disabled,\n",
       "  .colab-df-quickchart-complete:disabled:hover {\n",
       "    background-color: var(--disabled-bg-color);\n",
       "    fill: var(--disabled-fill-color);\n",
       "    box-shadow: none;\n",
       "  }\n",
       "\n",
       "  .colab-df-spinner {\n",
       "    border: 2px solid var(--fill-color);\n",
       "    border-color: transparent;\n",
       "    border-bottom-color: var(--fill-color);\n",
       "    animation:\n",
       "      spin 1s steps(1) infinite;\n",
       "  }\n",
       "\n",
       "  @keyframes spin {\n",
       "    0% {\n",
       "      border-color: transparent;\n",
       "      border-bottom-color: var(--fill-color);\n",
       "      border-left-color: var(--fill-color);\n",
       "    }\n",
       "    20% {\n",
       "      border-color: transparent;\n",
       "      border-left-color: var(--fill-color);\n",
       "      border-top-color: var(--fill-color);\n",
       "    }\n",
       "    30% {\n",
       "      border-color: transparent;\n",
       "      border-left-color: var(--fill-color);\n",
       "      border-top-color: var(--fill-color);\n",
       "      border-right-color: var(--fill-color);\n",
       "    }\n",
       "    40% {\n",
       "      border-color: transparent;\n",
       "      border-right-color: var(--fill-color);\n",
       "      border-top-color: var(--fill-color);\n",
       "    }\n",
       "    60% {\n",
       "      border-color: transparent;\n",
       "      border-right-color: var(--fill-color);\n",
       "    }\n",
       "    80% {\n",
       "      border-color: transparent;\n",
       "      border-right-color: var(--fill-color);\n",
       "      border-bottom-color: var(--fill-color);\n",
       "    }\n",
       "    90% {\n",
       "      border-color: transparent;\n",
       "      border-bottom-color: var(--fill-color);\n",
       "    }\n",
       "  }\n",
       "</style>\n",
       "\n",
       "  <script>\n",
       "    async function quickchart(key) {\n",
       "      const quickchartButtonEl =\n",
       "        document.querySelector('#' + key + ' button');\n",
       "      quickchartButtonEl.disabled = true;  // To prevent multiple clicks.\n",
       "      quickchartButtonEl.classList.add('colab-df-spinner');\n",
       "      try {\n",
       "        const charts = await google.colab.kernel.invokeFunction(\n",
       "            'suggestCharts', [key], {});\n",
       "      } catch (error) {\n",
       "        console.error('Error during call to suggestCharts:', error);\n",
       "      }\n",
       "      quickchartButtonEl.classList.remove('colab-df-spinner');\n",
       "      quickchartButtonEl.classList.add('colab-df-quickchart-complete');\n",
       "    }\n",
       "    (() => {\n",
       "      let quickchartButtonEl =\n",
       "        document.querySelector('#df-2d38d959-58ec-495f-ae0b-d287c4591d20 button');\n",
       "      quickchartButtonEl.style.display =\n",
       "        google.colab.kernel.accessAllowed ? 'block' : 'none';\n",
       "    })();\n",
       "  </script>\n",
       "</div>\n",
       "\n",
       "  <div id=\"id_6bbd146d-8eaf-4262-98f7-cf4f3583dab3\">\n",
       "    <style>\n",
       "      .colab-df-generate {\n",
       "        background-color: #E8F0FE;\n",
       "        border: none;\n",
       "        border-radius: 50%;\n",
       "        cursor: pointer;\n",
       "        display: none;\n",
       "        fill: #1967D2;\n",
       "        height: 32px;\n",
       "        padding: 0 0 0 0;\n",
       "        width: 32px;\n",
       "      }\n",
       "\n",
       "      .colab-df-generate:hover {\n",
       "        background-color: #E2EBFA;\n",
       "        box-shadow: 0px 1px 2px rgba(60, 64, 67, 0.3), 0px 1px 3px 1px rgba(60, 64, 67, 0.15);\n",
       "        fill: #174EA6;\n",
       "      }\n",
       "\n",
       "      [theme=dark] .colab-df-generate {\n",
       "        background-color: #3B4455;\n",
       "        fill: #D2E3FC;\n",
       "      }\n",
       "\n",
       "      [theme=dark] .colab-df-generate:hover {\n",
       "        background-color: #434B5C;\n",
       "        box-shadow: 0px 1px 3px 1px rgba(0, 0, 0, 0.15);\n",
       "        filter: drop-shadow(0px 1px 2px rgba(0, 0, 0, 0.3));\n",
       "        fill: #FFFFFF;\n",
       "      }\n",
       "    </style>\n",
       "    <button class=\"colab-df-generate\" onclick=\"generateWithVariable('model_eval_df')\"\n",
       "            title=\"Generate code using this dataframe.\"\n",
       "            style=\"display:none;\">\n",
       "\n",
       "  <svg xmlns=\"http://www.w3.org/2000/svg\" height=\"24px\"viewBox=\"0 0 24 24\"\n",
       "       width=\"24px\">\n",
       "    <path d=\"M7,19H8.4L18.45,9,17,7.55,7,17.6ZM5,21V16.75L18.45,3.32a2,2,0,0,1,2.83,0l1.4,1.43a1.91,1.91,0,0,1,.58,1.4,1.91,1.91,0,0,1-.58,1.4L9.25,21ZM18.45,9,17,7.55Zm-12,3A5.31,5.31,0,0,0,4.9,8.1,5.31,5.31,0,0,0,1,6.5,5.31,5.31,0,0,0,4.9,4.9,5.31,5.31,0,0,0,6.5,1,5.31,5.31,0,0,0,8.1,4.9,5.31,5.31,0,0,0,12,6.5,5.46,5.46,0,0,0,6.5,12Z\"/>\n",
       "  </svg>\n",
       "    </button>\n",
       "    <script>\n",
       "      (() => {\n",
       "      const buttonEl =\n",
       "        document.querySelector('#id_6bbd146d-8eaf-4262-98f7-cf4f3583dab3 button.colab-df-generate');\n",
       "      buttonEl.style.display =\n",
       "        google.colab.kernel.accessAllowed ? 'block' : 'none';\n",
       "\n",
       "      buttonEl.onclick = () => {\n",
       "        google.colab.notebook.generateWithVariable('model_eval_df');\n",
       "      }\n",
       "      })();\n",
       "    </script>\n",
       "  </div>\n",
       "\n",
       "    </div>\n",
       "  </div>\n"
      ],
      "text/plain": [
       "                                  Model  Accuracy\n",
       "0                          NN with Adam        89\n",
       "1  NN with Adam and Batch Normalization        81\n",
       "2      NN with SGD, Batch Normalization        46\n",
       "3     NN with Adam, Batch Norm, Dropout        86"
      ]
     },
     "execution_count": 46,
     "metadata": {},
     "output_type": "execute_result"
    }
   ],
   "source": [
    "#Store the accuracy results for each model in a dataframe for final comparison\n",
    "\n",
    "model_lists = []\n",
    "model_lists.append(['NN with Adam', round(results_nn_adam[1]*100)])\n",
    "model_lists.append(['NN with Adam and Batch Normalization', round(results_nn_adam_batch_norm[1]*100)])\n",
    "model_lists.append(['NN with SGD, Batch Normalization', round(results_nn_sgd_batch_norm[1]*100)])\n",
    "model_lists.append(['NN with Adam, Batch Norm, Dropout', round(results_nn_adam_batch_norm_dropout[1]*100)])\n",
    "model_eval_df = pd.DataFrame(model_lists, columns = ['Model', 'Accuracy'])\n",
    "model_eval_df"
   ]
  },
  {
   "cell_type": "markdown",
   "metadata": {
    "id": "lUaK8dYnNHpj"
   },
   "source": [
    "#### Q3D: Plot the training loss, validation loss vs number of epochs and training accuracy, validation accuracy vs number of epochs plot and write your observations on the same."
   ]
  },
  {
   "cell_type": "code",
   "execution_count": 47,
   "metadata": {
    "colab": {
     "base_uri": "https://localhost:8080/",
     "height": 471
    },
    "executionInfo": {
     "elapsed": 2964,
     "status": "ok",
     "timestamp": 1714710007436,
     "user": {
      "displayName": "Ramana Reddy",
      "userId": "14322252769386133087"
     },
     "user_tz": -330
    },
    "id": "8nXY5OcxPYUx",
    "outputId": "2b8578ca-aa6f-4f15-9160-78ec13a774ea"
   },
   "outputs": [
    {
     "name": "stdout",
     "output_type": "stream",
     "text": [
      "\u001b[1m563/563\u001b[0m \u001b[32m━━━━━━━━━━━━━━━━━━━━\u001b[0m\u001b[37m\u001b[0m \u001b[1m1s\u001b[0m 3ms/step - accuracy: 0.8272 - loss: 0.7294\n"
     ]
    },
    {
     "data": {
      "image/png": "[encoded data removed]",
      "text/plain": [
       "<Figure size 640x480 with 1 Axes>"
      ]
     },
     "metadata": {},
     "output_type": "display_data"
    }
   ],
   "source": [
    "#For MODEL with Base NN with Adam optimizer.\n",
    "# Capturing learning history per epoch\n",
    "hist  = pd.DataFrame(history_1.history)\n",
    "hist['epoch'] = history_1.epoch\n",
    "\n",
    "# Labeling the axes\n",
    "plt.xlabel('Epochs', fontsize=14)\n",
    "plt.ylabel('loss', fontsize=14)\n",
    "\n",
    "# Plotting accuracy at different epochs\n",
    "plt.plot(hist['loss'])\n",
    "plt.plot(hist['val_loss'])\n",
    "plt.legend((\"Train Loss\" , \"Validation Loss\") , loc =0)\n",
    "\n",
    "#Printing results\n",
    "results = keras_model.evaluate(X_test, y_test)"
   ]
  },
  {
   "cell_type": "code",
   "execution_count": 48,
   "metadata": {
    "colab": {
     "base_uri": "https://localhost:8080/",
     "height": 471
    },
    "executionInfo": {
     "elapsed": 1204,
     "status": "ok",
     "timestamp": 1714710008635,
     "user": {
      "displayName": "Ramana Reddy",
      "userId": "14322252769386133087"
     },
     "user_tz": -330
    },
    "id": "uhQb2Zx1YdSq",
    "outputId": "9256cf39-9d3e-4969-d7a6-6aaf92be0767"
   },
   "outputs": [
    {
     "data": {
      "text/plain": [
       "<matplotlib.legend.Legend at 0x7da6a1aa73a0>"
      ]
     },
     "execution_count": 48,
     "metadata": {},
     "output_type": "execute_result"
    },
    {
     "data": {
      "image/png": "[encoded data removed]",
      "text/plain": [
       "<Figure size 640x480 with 1 Axes>"
      ]
     },
     "metadata": {},
     "output_type": "display_data"
    }
   ],
   "source": [
    "# Labeling the axes\n",
    "plt.xlabel('Epochs', fontsize=14)\n",
    "plt.ylabel('accuracy', fontsize=14)\n",
    "\n",
    "# Plotting accuracy at different epochs\n",
    "plt.plot(hist['accuracy'])\n",
    "plt.plot(hist['val_accuracy'])\n",
    "plt.legend((\"Train Accuracy\" , \"Validation Accuracy\") , loc =0)"
   ]
  },
  {
   "cell_type": "markdown",
   "metadata": {
    "id": "0b7sqgccYmaY"
   },
   "source": [
    "- NN Model with Adam optimizer and Batch normalization."
   ]
  },
  {
   "cell_type": "code",
   "execution_count": 49,
   "metadata": {
    "colab": {
     "base_uri": "https://localhost:8080/",
     "height": 471
    },
    "executionInfo": {
     "elapsed": 11,
     "status": "ok",
     "timestamp": 1714710008636,
     "user": {
      "displayName": "Ramana Reddy",
      "userId": "14322252769386133087"
     },
     "user_tz": -330
    },
    "id": "ZVvVp8f8Z6s2",
    "outputId": "c1ca2934-6c88-40ef-a64b-aa86cd7c9bf2"
   },
   "outputs": [
    {
     "data": {
      "text/plain": [
       "<matplotlib.legend.Legend at 0x7da6a197ed40>"
      ]
     },
     "execution_count": 49,
     "metadata": {},
     "output_type": "execute_result"
    },
    {
     "data": {
      "image/png": "[encoded data removed]",
      "text/plain": [
       "<Figure size 640x480 with 1 Axes>"
      ]
     },
     "metadata": {},
     "output_type": "display_data"
    }
   ],
   "source": [
    "#For MODEL with Base NN with Adam optimizer and batch normalization.\n",
    "# Capturing learning history per epoch\n",
    "hist  = pd.DataFrame(history_2.history)\n",
    "hist['epoch'] = history_2.epoch\n",
    "\n",
    "# Labeling the axes\n",
    "plt.xlabel('Epochs', fontsize=14)\n",
    "plt.ylabel('loss', fontsize=14)\n",
    "\n",
    "# Plotting accuracy at different epochs\n",
    "plt.plot(hist['loss'])\n",
    "plt.plot(hist['val_loss'])\n",
    "plt.legend((\"Train Loss\" , \"Validation Loss\") , loc =0)\n",
    "\n",
    "#Printing results"
   ]
  },
  {
   "cell_type": "code",
   "execution_count": 50,
   "metadata": {
    "colab": {
     "base_uri": "https://localhost:8080/"
    },
    "executionInfo": {
     "elapsed": 1816,
     "status": "ok",
     "timestamp": 1714710010444,
     "user": {
      "displayName": "Ramana Reddy",
      "userId": "14322252769386133087"
     },
     "user_tz": -330
    },
    "id": "hBrTj4t7bM7a",
    "outputId": "76d4e694-d6d1-4772-a77b-7c7453497695"
   },
   "outputs": [
    {
     "name": "stdout",
     "output_type": "stream",
     "text": [
      "\u001b[1m563/563\u001b[0m \u001b[32m━━━━━━━━━━━━━━━━━━━━\u001b[0m\u001b[37m\u001b[0m \u001b[1m1s\u001b[0m 2ms/step - accuracy: 0.7443 - loss: 1.6190\n"
     ]
    }
   ],
   "source": [
    "#Printing results\n",
    "results = keras_model_1.evaluate(X_test, y_test)"
   ]
  },
  {
   "cell_type": "code",
   "execution_count": 51,
   "metadata": {
    "colab": {
     "base_uri": "https://localhost:8080/",
     "height": 471
    },
    "executionInfo": {
     "elapsed": 700,
     "status": "ok",
     "timestamp": 1714710011143,
     "user": {
      "displayName": "Ramana Reddy",
      "userId": "14322252769386133087"
     },
     "user_tz": -330
    },
    "id": "Cc8NewHOaeCt",
    "outputId": "54a1a457-43b0-40ab-8527-4ca36992aa73"
   },
   "outputs": [
    {
     "data": {
      "text/plain": [
       "<matplotlib.legend.Legend at 0x7da6a1817f70>"
      ]
     },
     "execution_count": 51,
     "metadata": {},
     "output_type": "execute_result"
    },
    {
     "data": {
      "image/png": "[encoded data removed]",
      "text/plain": [
       "<Figure size 640x480 with 1 Axes>"
      ]
     },
     "metadata": {},
     "output_type": "display_data"
    }
   ],
   "source": [
    "# Labeling the axes\n",
    "plt.xlabel('Epochs', fontsize=14)\n",
    "plt.ylabel('accuracy', fontsize=14)\n",
    "\n",
    "# Plotting accuracy at different epochs\n",
    "plt.plot(hist['accuracy'])\n",
    "plt.plot(hist['val_accuracy'])\n",
    "plt.legend((\"Train Accuracy\" , \"Validation Accuracy\") , loc =0)"
   ]
  },
  {
   "cell_type": "markdown",
   "metadata": {
    "id": "lh824hBTafrw"
   },
   "source": [
    "- NN Model with SGD optimizer."
   ]
  },
  {
   "cell_type": "code",
   "execution_count": 52,
   "metadata": {
    "colab": {
     "base_uri": "https://localhost:8080/",
     "height": 471
    },
    "executionInfo": {
     "elapsed": 3400,
     "status": "ok",
     "timestamp": 1714710014539,
     "user": {
      "displayName": "Ramana Reddy",
      "userId": "14322252769386133087"
     },
     "user_tz": -330
    },
    "id": "vDIwllQpb0JC",
    "outputId": "60f74cf9-a64a-49f1-8b2b-a83d01785389"
   },
   "outputs": [
    {
     "name": "stdout",
     "output_type": "stream",
     "text": [
      "\u001b[1m563/563\u001b[0m \u001b[32m━━━━━━━━━━━━━━━━━━━━\u001b[0m\u001b[37m\u001b[0m \u001b[1m2s\u001b[0m 3ms/step - accuracy: 0.4445 - loss: 1.6777\n"
     ]
    },
    {
     "data": {
      "image/png": "[encoded data removed]",
      "text/plain": [
       "<Figure size 640x480 with 1 Axes>"
      ]
     },
     "metadata": {},
     "output_type": "display_data"
    }
   ],
   "source": [
    "#For MODEL with SGD optimizer.\n",
    "# Capturing learning history per epoch\n",
    "hist  = pd.DataFrame(history_3.history)\n",
    "hist['epoch'] = history_3.epoch\n",
    "\n",
    "# Labeling the axes\n",
    "plt.xlabel('Epochs', fontsize=14)\n",
    "plt.ylabel('loss', fontsize=14)\n",
    "\n",
    "# Plotting accuracy at different epochs\n",
    "plt.plot(hist['loss'])\n",
    "plt.plot(hist['val_loss'])\n",
    "plt.legend((\"Train Loss\" , \"Validation Loss\") , loc =0)\n",
    "\n",
    "#Printing results\n",
    "results = keras_model_2.evaluate(X_test, y_test)"
   ]
  },
  {
   "cell_type": "code",
   "execution_count": 53,
   "metadata": {
    "colab": {
     "base_uri": "https://localhost:8080/",
     "height": 471
    },
    "executionInfo": {
     "elapsed": 12,
     "status": "ok",
     "timestamp": 1714710014539,
     "user": {
      "displayName": "Ramana Reddy",
      "userId": "14322252769386133087"
     },
     "user_tz": -330
    },
    "id": "9fCh97fQcfDW",
    "outputId": "4c903cdc-87cf-4484-e7a3-a7a5656ae02b"
   },
   "outputs": [
    {
     "data": {
      "text/plain": [
       "<matplotlib.legend.Legend at 0x7da6a18acd00>"
      ]
     },
     "execution_count": 53,
     "metadata": {},
     "output_type": "execute_result"
    },
    {
     "data": {
      "image/png": "[encoded data removed]",
      "text/plain": [
       "<Figure size 640x480 with 1 Axes>"
      ]
     },
     "metadata": {},
     "output_type": "display_data"
    }
   ],
   "source": [
    "# Labeling the axes\n",
    "plt.xlabel('Epochs', fontsize=14)\n",
    "plt.ylabel('accuracy', fontsize=14)\n",
    "\n",
    "# Plotting accuracy at different epochs\n",
    "plt.plot(hist['accuracy'])\n",
    "plt.plot(hist['val_accuracy'])\n",
    "plt.legend((\"Train Accuracy\" , \"Validation Accuracy\") , loc =0)"
   ]
  },
  {
   "cell_type": "markdown",
   "metadata": {
    "id": "9O3v_MXTchVC"
   },
   "source": [
    "- NN MODEL with Adam optimizrer, Batch normalization, Dropout tuning parameters."
   ]
  },
  {
   "cell_type": "code",
   "execution_count": 54,
   "metadata": {
    "colab": {
     "base_uri": "https://localhost:8080/",
     "height": 471
    },
    "executionInfo": {
     "elapsed": 3554,
     "status": "ok",
     "timestamp": 1714710018085,
     "user": {
      "displayName": "Ramana Reddy",
      "userId": "14322252769386133087"
     },
     "user_tz": -330
    },
    "id": "t5EFfZBNc-Ah",
    "outputId": "cbfa3dd4-52f6-4627-f6a0-283a4ea61a27"
   },
   "outputs": [
    {
     "name": "stdout",
     "output_type": "stream",
     "text": [
      "\u001b[1m563/563\u001b[0m \u001b[32m━━━━━━━━━━━━━━━━━━━━\u001b[0m\u001b[37m\u001b[0m \u001b[1m1s\u001b[0m 2ms/step - accuracy: 0.8358 - loss: 0.5406\n"
     ]
    },
    {
     "data": {
      "image/png": "[encoded data removed]",
      "text/plain": [
       "<Figure size 640x480 with 1 Axes>"
      ]
     },
     "metadata": {},
     "output_type": "display_data"
    }
   ],
   "source": [
    "#For MODEL with Adam optimizer, Batch normalization, Drop out.\n",
    "# Capturing learning history per epoch\n",
    "hist  = pd.DataFrame(history_4.history)\n",
    "hist['epoch'] = history_3.epoch\n",
    "\n",
    "# Labeling the axes\n",
    "plt.xlabel('Epochs', fontsize=14)\n",
    "plt.ylabel('loss', fontsize=14)\n",
    "\n",
    "# Plotting accuracy at different epochs\n",
    "plt.plot(hist['loss'])\n",
    "plt.plot(hist['val_loss'])\n",
    "plt.legend((\"Train Loss\" , \"Validation Loss\") , loc =0)\n",
    "\n",
    "#Printing results\n",
    "results = keras_model_3.evaluate(X_test, y_test)"
   ]
  },
  {
   "cell_type": "code",
   "execution_count": 55,
   "metadata": {
    "colab": {
     "base_uri": "https://localhost:8080/",
     "height": 471
    },
    "executionInfo": {
     "elapsed": 10,
     "status": "ok",
     "timestamp": 1714710018085,
     "user": {
      "displayName": "Ramana Reddy",
      "userId": "14322252769386133087"
     },
     "user_tz": -330
    },
    "id": "UVZGQUULdwAk",
    "outputId": "c6115e61-413d-43c6-f1a8-d00921ca8c4e"
   },
   "outputs": [
    {
     "data": {
      "text/plain": [
       "<matplotlib.legend.Legend at 0x7da6a17cbd90>"
      ]
     },
     "execution_count": 55,
     "metadata": {},
     "output_type": "execute_result"
    },
    {
     "data": {
      "image/png": "[encoded data removed]",
      "text/plain": [
       "<Figure size 640x480 with 1 Axes>"
      ]
     },
     "metadata": {},
     "output_type": "display_data"
    }
   ],
   "source": [
    "# Labeling the axes\n",
    "plt.xlabel('Epochs', fontsize=14)\n",
    "plt.ylabel('accuracy', fontsize=14)\n",
    "\n",
    "# Plotting accuracy at different epochs\n",
    "plt.plot(hist['accuracy'])\n",
    "plt.plot(hist['val_accuracy'])\n",
    "plt.legend((\"Train Accuracy\" , \"Validation Accuracy\") , loc =0)"
   ]
  },
  {
   "cell_type": "markdown",
   "metadata": {
    "id": "MrxHqtwHdygi"
   },
   "source": [
    "#### OBSERVATIONS/INFERENCES:\n",
    "- Neaural Network(NN) with Adam optimizer model, we see Loss is high for validation than train set and loss didnt converge either. With Train accuracy at 94% and Test at 82%, model is overfit and is not suitable.\n",
    "- With NN with Adam optimizer and Batch Normalization model, Train loss converged but Validation loss didnt converge and noise is observed. With Train Accuracy at 100% and Test accuracy at 74%, model is highly overfitting. So this model is rejected.\n",
    "- NN with SGD Optimizer model model, Train and Val loss converged perfectly and aligned. Train, Validation and Test Accuracies are correctly but but unfortunately this model gives very low accuracy at 46% which is quite less compared to others and is below the expectations.\n",
    "- NN model with Adam optimizer, Batch normalization and Drop out(20%), we see Train and Validation loss converging and curve aligning. Validation loss curve has slight noise due to drop out feature but will not be present in Test data.  Models Train, Validation and Test Accuracies are also perfectly fit(83%, 86%, 83%).\n",
    "\n",
    "#### So the best model for this particular SVNH Dataset seems to be Neural Network with Adam optimizer, Learning Rate 0.0001, Batch Normalization and Drop out (0.2) hyper parameters."
   ]
  },
  {
   "cell_type": "markdown",
   "metadata": {
    "id": "YIcKJHBnxkP_"
   },
   "source": [
    "#### *************** END OF PROJECT PART B *******"
   ]
  },
  {
   "cell_type": "code",
   "execution_count": null,
   "metadata": {
    "id": "A3cKasqDy_9D"
   },
   "outputs": [],
   "source": []
  }
 ],
 "metadata": {
  "accelerator": "GPU",
  "colab": {
   "authorship_tag": "ABX9TyO22SDXAd5TJ358Siia+bI3",
   "gpuType": "T4",
   "mount_file_id": "1xOBLi1Ajudvuo_kw03mJ1bp-_A1Tlzo-",
   "provenance": []
  },
  "kernelspec": {
   "display_name": "Python 3 (ipykernel)",
   "language": "python",
   "name": "python3"
  },
  "language_info": {
   "codemirror_mode": {
    "name": "ipython",
    "version": 3
   },
   "file_extension": ".py",
   "mimetype": "text/x-python",
   "name": "python",
   "nbconvert_exporter": "python",
   "pygments_lexer": "ipython3",
   "version": "3.12.4"
  }
 },
 "nbformat": 4,
 "nbformat_minor": 4
}
